{
 "cells": [
  {
   "cell_type": "code",
   "execution_count": 1,
   "id": "6f6d8c55-0ace-4b03-a178-407a5b1108c2",
   "metadata": {},
   "outputs": [
    {
     "name": "stdout",
     "output_type": "stream",
     "text": [
      "loading modules\n"
     ]
    },
    {
     "name": "stderr",
     "output_type": "stream",
     "text": [
      "During startup - Warning messages:\n",
      "1: Setting LC_CTYPE failed, using \"C\" \n",
      "2: Setting LC_COLLATE failed, using \"C\" \n",
      "3: Setting LC_TIME failed, using \"C\" \n",
      "4: Setting LC_MESSAGES failed, using \"C\" \n",
      "5: Setting LC_MONETARY failed, using \"C\" \n",
      "6: Setting LC_PAPER failed, using \"C\" \n",
      "7: Setting LC_MEASUREMENT failed, using \"C\" \n"
     ]
    },
    {
     "name": "stdout",
     "output_type": "stream",
     "text": [
      "some more modules\n",
      "custom-made modules\n",
      "finished loading modules\n"
     ]
    }
   ],
   "source": [
    "print('loading modules')\n",
    "import numpy as np\n",
    "import pandas as pd\n",
    "#import rpy2\n",
    "import rpy2.robjects as ro\n",
    "#from rpy2.robjects import pandas2ri\n",
    "#import rpy2.robjects.packages as rpackages\n",
    "#ebpmf = rpackages.importr('ebpmf.alpha')\n",
    "import os\n",
    "\n",
    "print('some more modules')\n",
    "\n",
    "from matplotlib import pyplot as plt\n",
    "import seaborn as sns\n",
    "import tabix\n",
    "from pybedtools import BedTool\n",
    "import sys\n",
    "\n",
    "print('custom-made modules')\n",
    "\n",
    "sys.path.append('/project2/mstephens/cfbuenabadn/gtex-stm/code/scripts')\n",
    "from get_isoforms import *\n",
    "from prepare_counts import *\n",
    "# from sNMF_plots import *\n",
    "# from tqdm import tqdm\n",
    "# import pingouin as pg\n",
    "\n",
    "print('finished loading modules')\n",
    "\n",
    "def load_ebpmf_gene(gene_id):\n",
    "    readRDS = ro.r['readRDS']\n",
    "    df = readRDS(f'/project2/mstephens/cfbuenabadn/gtex-stm/code/ebpmf_models/filtered/RDS/{gene_id}.rds')\n",
    "    with (ro.default_converter + pandas2ri.converter).context():\n",
    "        pd_from_r_df = ro.conversion.get_conversion().rpy2py(df)\n",
    "\n",
    "    junc_file = '/project2/mstephens/cfbuenabadn/gtex-stm/code/junctions.tab.gz'\n",
    "    coords = pd_from_r_df['coords']\n",
    "    junctions_bed = run_tabix_on_junc(junc_file, coords, gene_id)\n",
    "\n",
    "    output = {'rds':pd_from_r_df, 'junctions_bed':junctions_bed}\n",
    "\n",
    "    return output\n",
    "\n",
    "\n",
    "\n",
    "def write_gtf(merged_isoforms, gene, strand):\n",
    "    K = len(merged_isoforms)\n",
    "    isoforms = [f'isoform_{str(i+1)}' for i in range(K)]\n",
    "    gene_start = np.nan\n",
    "    gene_end = np.nan\n",
    "    chrom = merged_isoforms['isoform_1']['df'].chrom.iloc[0]\n",
    "\n",
    "    gtf_lines = []\n",
    "\n",
    "    gene_description = f'gene_id \"{gene}\"'\n",
    "    \n",
    "    for isoform in isoforms:\n",
    "        isoform_name = gene + '.' + isoform\n",
    "        df = merged_isoforms[isoform]['df']\n",
    "        factors_list = merged_isoforms[isoform]['factors']\n",
    "        factors_description = ':'.join(factors_list)\n",
    "        iso_start = df.start.astype(int).min()\n",
    "        iso_end = df.end.astype(int).max()\n",
    "\n",
    "        gene_start = np.nanmin([gene_start, iso_start])\n",
    "        gene_end = np.nanmax([gene_end, iso_end])\n",
    "\n",
    "        iso_start = str(iso_start)\n",
    "        iso_end = str(iso_end)\n",
    "\n",
    "        isoform_description = gene_description + f'; transcript_id \"{isoform_name}\"; factors_id \"{factors_description}\"'\n",
    "\n",
    "\n",
    "        isoform_row = [chrom, 's-NMF', 'transcript', iso_start, iso_end, '.', strand, '.', isoform_description]\n",
    "        isoform_row = '\\t'.join(isoform_row)\n",
    "\n",
    "        gtf_lines.append(isoform_row)\n",
    "\n",
    "        exon_count = 1\n",
    "        for idx, row in df.iterrows():\n",
    "            exon_start = str(int(row.start)) #str(row.start.astype(int))\n",
    "            exon_end = str(int(row.end)) #str(row.end.astype(int))\n",
    "            exon_name = f'exon_{str(exon_count)}'\n",
    "            exon_description = isoform_description + f'; exon_id \"{exon_name}\"'\n",
    "            exon_row = [chrom, 's-NMF', 'exon', exon_start, exon_end, '.', strand, '.', exon_description]\n",
    "            exon_row = '\\t'.join(exon_row)\n",
    "            gtf_lines.append(exon_row)\n",
    "            exon_count += 1\n",
    "\n",
    "    gene_start = str(gene_start)\n",
    "    gene_end = str(gene_end)\n",
    "\n",
    "    gene_line = [chrom, 's-NMF', 'gene', str(int(float(gene_start))), str(int(float(gene_end))), '.', strand, '.', gene_description]\n",
    "    gene_line = '\\t'.join(gene_line)\n",
    "\n",
    "    gtf_lines = [gene_line] + gtf_lines\n",
    "\n",
    "    gene_gtf = '\\n'.join(gtf_lines) + '\\n'\n",
    "    \n",
    "    return gene_gtf \n",
    "\n",
    "def run_anova(EL_manova, isoform):\n",
    "\n",
    "    res = pg.anova(dv=isoform, \n",
    "                 between='tissue_id', \n",
    "                 data=EL_manova,\n",
    "                 detailed=True)\n",
    "\n",
    "    SS_b = res.iloc[0, 1]\n",
    "    SS_tot = res.iloc[1, 1]\n",
    "    eta_squared = SS_b/SS_tot\n",
    "    try:\n",
    "        pvals = res.iloc[0, 5]\n",
    "    except:\n",
    "        print(res)\n",
    "        return 'NA', 'NA', 'NA', 'NA'\n",
    "\n",
    "    kw = pg.kruskal(dv=isoform, \n",
    "         between='tissue_id', \n",
    "         data=EL_manova,\n",
    "         detailed=True)\n",
    "\n",
    "    H = kw.iloc[0, 2]\n",
    "    pvals_kw = kw.iloc[0, 3]\n",
    "\n",
    "    return eta_squared, pvals, H, pvals_kw\n",
    "\n",
    "def merge_EL(EL, merged_isoforms):\n",
    "    K = EL.shape[1]\n",
    "    EL = pd.DataFrame(EL)\n",
    "    EL.columns = [f'factor_{str(i+1)}' for i in range(K)]\n",
    "    EL_merged = pd.DataFrame()\n",
    "    K_ = len(merged_isoforms)\n",
    "\n",
    "    for i in range (K_):\n",
    "        iso_name = f'isoform_{str(i+1)}'\n",
    "        factors_in_isoform = merged_isoforms[iso_name]['factors']\n",
    "        EL_sum = list(EL[factors_in_isoform].sum(axis=1))\n",
    "        EL_merged[iso_name] = EL_sum\n",
    "    \n",
    "    return EL_merged\n",
    "\n",
    "def process_gene(gene, samples, gtf_fh, correct_bias, K):#, eta_fh, pvals_fh, H_fh, kw_pvals_fh):\n",
    "    rds = load_ebpmf_gene(gene)\n",
    "    if 'strand' not in rds['rds'].keys():\n",
    "        return None\n",
    "    strand = rds['rds']['strand'][0]\n",
    "    if strand == 'plus':\n",
    "        strand = '+'\n",
    "    else:\n",
    "        strand = '-'\n",
    "        \n",
    "    junc_file = '/project2/mstephens/cfbuenabadn/gtex-stm/code/junctions.tab.gz'\n",
    "    coords = rds['rds'][f'ebpmf_{str(K)}']['coords']\n",
    "    junctions_bed = get_junctions_bed(coords, junc_file, gene)\n",
    "    coords_all = list(rds['rds']['coords'])\n",
    "    coords = list(rds['rds'][f'ebpmf_{str(K)}']['coords'])\n",
    "    isoforms = get_isoforms(rds['rds'][f'ebpmf_{str(K)}']['train_fit']['EF_smooth'], junctions_bed, coords, coords_all, binary_fraction=0.5, \n",
    "                            correct_bias = correct_bias)\n",
    "    merged_isoforms = merge_isoforms(isoforms)\n",
    "\n",
    "    gene_gtf = write_gtf(merged_isoforms, gene, strand)\n",
    "    gtf_fh.write(gene_gtf)\n",
    "\n"
   ]
  },
  {
   "cell_type": "code",
   "execution_count": 2,
   "id": "4fb15129-b802-4872-8b86-aaf60abddf3c",
   "metadata": {},
   "outputs": [
    {
     "name": "stdout",
     "output_type": "stream",
     "text": [
      "Reading list of genes.\n",
      "loaded samples files\n"
     ]
    }
   ],
   "source": [
    "print('Reading list of genes.')\n",
    "\n",
    "samples = pd.read_csv('../code/config/samples.tsv', sep='\\t', index_col=0)\n",
    "print('loaded samples files')\n",
    "\n",
    "\n",
    "gene = 'ENSG00000100321'\n",
    "# process_gene(gene, samples, gtf_fh, correct_bias = run_lm, K=K)#, eta_fh, pvals_fh, H_fh, kw_pvals_fh)\n"
   ]
  },
  {
   "cell_type": "code",
   "execution_count": 3,
   "id": "66c91e3c-fad6-41cb-b871-651c036bc4bc",
   "metadata": {},
   "outputs": [
    {
     "name": "stdout",
     "output_type": "stream",
     "text": [
      "1\n",
      "15\n",
      "2\n",
      "15\n",
      "junction_4\n",
      "junction_8\n",
      "3\n",
      "15\n",
      "4\n",
      "15\n",
      "junction_1\n",
      "junction_4\n",
      "junction_7\n",
      "5\n",
      "15\n",
      "junction_1\n",
      "junction_4\n",
      "junction_8\n",
      "None\n",
      "6\n",
      "15\n",
      "7\n",
      "15\n",
      "junction_1\n",
      "junction_4\n",
      "8\n",
      "15\n",
      "junction_1\n",
      "junction_4\n",
      "junction_8\n",
      "9\n",
      "15\n",
      "junction_4\n",
      "None\n",
      "10\n",
      "15\n"
     ]
    }
   ],
   "source": [
    "rds = load_ebpmf_gene(gene)\n",
    "\n",
    "strand = rds['rds']['strand'][0]\n",
    "if strand == 'plus':\n",
    "    strand = '+'\n",
    "else:\n",
    "    strand = '-'\n",
    "    \n",
    "junc_file = '/project2/mstephens/cfbuenabadn/gtex-stm/code/junctions.tab.gz'\n",
    "coords = rds['rds']['ebpmf_10']['coords']\n",
    "junctions_bed = get_junctions_bed(coords, junc_file, gene)\n",
    "coords_all = list(rds['rds']['coords'])\n",
    "coords = list(rds['rds'][f'ebpmf_10']['coords'])\n",
    "isoforms = get_isoforms(rds['rds'][f'ebpmf_10']['train_fit']['EF_smooth'], junctions_bed, coords, coords_all, binary_fraction=0.5, print_gene = gene, \n",
    "                        correct_bias = False)\n",
    "merged_isoforms = merge_isoforms(isoforms)"
   ]
  },
  {
   "cell_type": "code",
   "execution_count": 4,
   "id": "6b97f28f-5957-4847-8be9-f822c69f3223",
   "metadata": {},
   "outputs": [
    {
     "data": {
      "text/plain": [
       "{'isoform_1': {'df':    index  chrom     start       end\n",
       "  0      0  chr22  39382351  39385578,\n",
       "  'factors': ['factor_1', 'factor_3']},\n",
       " 'isoform_2': {'df':    chrom     start       end\n",
       "  0  chr22  39374329  39374553\n",
       "  1  chr22  39376052  39376197\n",
       "  2  chr22  39381696  39385571,\n",
       "  'factors': ['factor_2']},\n",
       " 'isoform_3': {'df':    chrom     start       end\n",
       "  0  chr22  39349969  39350109\n",
       "  1  chr22  39374316  39374553\n",
       "  2  chr22  39376052  39376197\n",
       "  3  chr22  39377598  39377911,\n",
       "  'factors': ['factor_4']},\n",
       " 'isoform_4': {'df':    chrom     start       end\n",
       "  0  chr22  39350077  39350109\n",
       "  1  chr22  39374316  39374553\n",
       "  2  chr22  39376052  39376197\n",
       "  3  chr22  39381696  39385574,\n",
       "  'factors': ['factor_5', 'factor_8']},\n",
       " 'isoform_5': {'df':    index  chrom     start       end\n",
       "  0      0  chr22  39384037  39385578,\n",
       "  'factors': ['factor_6']},\n",
       " 'isoform_6': {'df':    chrom     start       end\n",
       "  0  chr22  39349942  39350109\n",
       "  1  chr22  39374316  39374553\n",
       "  2  chr22  39376052  39378901,\n",
       "  'factors': ['factor_7']},\n",
       " 'isoform_7': {'df':    chrom     start       end\n",
       "  0  chr22  39374326  39374553\n",
       "  1  chr22  39376052  39385307,\n",
       "  'factors': ['factor_9']},\n",
       " 'isoform_8': {'df':    index  chrom     start       end\n",
       "  0      0  chr22  39374556  39376073,\n",
       "  'factors': ['factor_10']}}"
      ]
     },
     "execution_count": 4,
     "metadata": {},
     "output_type": "execute_result"
    }
   ],
   "source": [
    "merged_isoforms"
   ]
  },
  {
   "cell_type": "code",
   "execution_count": 5,
   "id": "f94f20af-bae0-4d40-80fc-67c09b6c1ada",
   "metadata": {},
   "outputs": [
    {
     "data": {
      "text/plain": [
       "210"
      ]
     },
     "execution_count": 5,
     "metadata": {},
     "output_type": "execute_result"
    }
   ],
   "source": [
    "39380825 - 39380615"
   ]
  },
  {
   "cell_type": "code",
   "execution_count": null,
   "id": "f6fd3953-0e55-479c-afd7-1b58c4f9e329",
   "metadata": {},
   "outputs": [],
   "source": [
    "EF = EF[1:-1]"
   ]
  },
  {
   "cell_type": "code",
   "execution_count": 4,
   "id": "8aa994d6-c179-43dc-b188-96484e77566f",
   "metadata": {},
   "outputs": [
    {
     "name": "stdout",
     "output_type": "stream",
     "text": [
      "0     308\n",
      "1     296\n",
      "2      20\n",
      "3      71\n",
      "4     128\n",
      "5      29\n",
      "6     161\n",
      "7     155\n",
      "8     152\n",
      "9       2\n",
      "10    254\n",
      "11    170\n",
      "12    125\n",
      "13     74\n",
      "14    113\n",
      "15     11\n",
      "16     20\n",
      "17     77\n",
      "dtype: object\n",
      "0     11\n",
      "1    632\n",
      "2    176\n",
      "3    164\n",
      "4    149\n",
      "5    143\n",
      "6      2\n",
      "dtype: object\n",
      "0       2\n",
      "1       2\n",
      "2       2\n",
      "3     500\n",
      "4     173\n",
      "5     164\n",
      "6     146\n",
      "7     143\n",
      "8     263\n",
      "9      77\n",
      "10      2\n",
      "dtype: object\n",
      "0    2543\n",
      "1    3686\n",
      "2     134\n",
      "3     266\n",
      "4     179\n",
      "5     122\n",
      "6      83\n",
      "7     161\n",
      "dtype: object\n",
      "0    719\n",
      "1    170\n",
      "2    149\n",
      "3    143\n",
      "4    251\n",
      "5    182\n",
      "6    125\n",
      "7     83\n",
      "8    158\n",
      "dtype: object\n",
      "0     719\n",
      "1     176\n",
      "2       2\n",
      "3     164\n",
      "4     146\n",
      "5     143\n",
      "6     272\n",
      "7     188\n",
      "8     122\n",
      "9      92\n",
      "10    167\n",
      "11     62\n",
      "dtype: object\n",
      "0    725\n",
      "dtype: object\n",
      "0    695\n",
      "1    176\n",
      "2    146\n",
      "3    134\n",
      "4    272\n",
      "5      8\n",
      "6     65\n",
      "dtype: object\n",
      "0    230\n",
      "1    146\n",
      "2    140\n",
      "3    272\n",
      "4    188\n",
      "5    125\n",
      "6     83\n",
      "7    167\n",
      "8     83\n",
      "dtype: object\n",
      "0     563\n",
      "1    2552\n",
      "dtype: object\n"
     ]
    }
   ],
   "source": [
    "for i in range(10):\n",
    "    coords_all = list(rds['rds']['coords'])\n",
    "    coords = list(rds['rds'][f'ebpmf_10']['coords'])\n",
    "    factor, coords = correct_factor_coords(rds['rds']['ebpmf_10']['train_fit']['EF_smooth'][1:-1,i], coords, coords_all)\n",
    "    \n",
    "        \n",
    "    y = factor\n",
    "        \n",
    "    # Normalize the factor\n",
    "    y = y / np.quantile(y, 0.99)\n",
    "    y = np.minimum(y, 1)\n",
    "    y_ = binarize_factor(y, cutoff_=0.5, binary_fraction=0.5, step_fraction=10, exon_quant=0.99, cutoff_strict=0.1, pos_window=100)\n",
    "    segments_df = find_continuous_segments(coords, y_)\n",
    "    print(segments_df.end - segments_df.start)"
   ]
  },
  {
   "cell_type": "code",
   "execution_count": 6,
   "id": "6c25b398-8a44-4e0d-ae15-708fd5c2d69c",
   "metadata": {},
   "outputs": [
    {
     "data": {
      "text/plain": [
       "'chr15:72198979'"
      ]
     },
     "execution_count": 6,
     "metadata": {},
     "output_type": "execute_result"
    }
   ],
   "source": [
    "coords[0]"
   ]
  },
  {
   "cell_type": "code",
   "execution_count": 8,
   "id": "9bf9cbdf-3621-471b-a190-58adf7bb0487",
   "metadata": {},
   "outputs": [
    {
     "data": {
      "text/plain": [
       "[<matplotlib.lines.Line2D at 0x7f94d9733e80>]"
      ]
     },
     "execution_count": 8,
     "metadata": {},
     "output_type": "execute_result"
    },
    {
     "data": {
      "image/png": "[encoded data removed]",
      "text/plain": [
       "<Figure size 640x480 with 1 Axes>"
      ]
     },
     "metadata": {},
     "output_type": "display_data"
    }
   ],
   "source": [
    "plt.plot(y_)"
   ]
  },
  {
   "cell_type": "code",
   "execution_count": 58,
   "id": "ed3d6def-46db-4cb2-a79d-208fb9e503cb",
   "metadata": {},
   "outputs": [
    {
     "data": {
      "text/plain": [
       "[<matplotlib.lines.Line2D at 0x7f36e91ab9d0>]"
      ]
     },
     "execution_count": 58,
     "metadata": {},
     "output_type": "execute_result"
    },
    {
     "data": {
      "image/png": "[encoded data removed]",
      "text/plain": [
       "<Figure size 640x480 with 1 Axes>"
      ]
     },
     "metadata": {},
     "output_type": "display_data"
    }
   ],
   "source": [
    "coords_all = list(rds['rds']['coords'])\n",
    "coords = list(rds['rds'][f'ebpmf_10']['coords'])\n",
    "factor, coords = correct_factor_coords(rds['rds']['ebpmf_10']['train_fit']['EF_smooth'][1:-1,1], coords, coords_all)\n",
    "\n",
    "    \n",
    "y = factor\n",
    "    \n",
    "# Normalize the factor\n",
    "y = y / np.quantile(y, 0.99)\n",
    "y = np.minimum(y, 1)\n",
    "y_ = binarize_factor(y, cutoff_=0.5, binary_fraction=0.5, step_fraction=10, exon_quant=0.99, cutoff_strict=0.1, pos_window=100)\n",
    "\n",
    "plt.plot(y[:500])\n",
    "\n",
    "coords_all = list(rds['rds']['coords'])\n",
    "coords = list(rds['rds'][f'ebpmf_10']['coords'])\n",
    "factor, coords = correct_factor_coords(rds['rds']['ebpmf_10']['train_fit']['EF_smooth'][1:-1,2], coords, coords_all)\n",
    "\n",
    "    \n",
    "y = factor\n",
    "    \n",
    "# Normalize the factor\n",
    "y = y / np.quantile(y, 0.99)\n",
    "y = np.minimum(y, 1)\n",
    "y_ = binarize_factor(y, cutoff_=0.5, binary_fraction=0.5, step_fraction=10, exon_quant=0.99, cutoff_strict=0.1, pos_window=100)\n",
    "\n",
    "plt.plot(y[:1000])\n",
    "plt.plot(y_[:1000])"
   ]
  },
  {
   "cell_type": "code",
   "execution_count": 59,
   "id": "b9de0cdf-ca07-4b1a-9db4-7f2a4dd2f3e8",
   "metadata": {},
   "outputs": [
    {
     "ename": "NameError",
     "evalue": "name 'get_s' is not defined",
     "output_type": "error",
     "traceback": [
      "\u001b[0;31m---------------------------------------------------------------------------\u001b[0m",
      "\u001b[0;31mNameError\u001b[0m                                 Traceback (most recent call last)",
      "Cell \u001b[0;32mIn[59], line 1\u001b[0m\n\u001b[0;32m----> 1\u001b[0m \u001b[43mget_s\u001b[49m\n",
      "\u001b[0;31mNameError\u001b[0m: name 'get_s' is not defined"
     ]
    }
   ],
   "source": [
    "get_s"
   ]
  },
  {
   "cell_type": "code",
   "execution_count": null,
   "id": "08418126-716a-4ae0-bf63-42ccc5126bdc",
   "metadata": {},
   "outputs": [],
   "source": [
    "len(coords_all)/50"
   ]
  },
  {
   "cell_type": "code",
   "execution_count": 61,
   "id": "bb48b135-d70e-4680-9fbd-bfb9c60c3873",
   "metadata": {},
   "outputs": [],
   "source": [
    "segments_df = find_continuous_segments(coords, y_)"
   ]
  },
  {
   "cell_type": "code",
   "execution_count": 62,
   "id": "06c2d587-db43-40cf-9940-24142671f572",
   "metadata": {},
   "outputs": [
    {
     "data": {
      "text/plain": [
       "0       2\n",
       "1       2\n",
       "2       2\n",
       "3     500\n",
       "4     173\n",
       "5     164\n",
       "6     146\n",
       "7     143\n",
       "8     263\n",
       "9      77\n",
       "10      2\n",
       "dtype: object"
      ]
     },
     "execution_count": 62,
     "metadata": {},
     "output_type": "execute_result"
    }
   ],
   "source": [
    "segments_df.end - segments_df.start"
   ]
  },
  {
   "cell_type": "markdown",
   "id": "f4ad2da3-d3f7-4db1-97ee-cd179c8ed209",
   "metadata": {},
   "source": [
    "segments_df"
   ]
  },
  {
   "cell_type": "code",
   "execution_count": 69,
   "id": "99851e56-8c19-48c3-84dc-46bca84e3eca",
   "metadata": {},
   "outputs": [
    {
     "data": {
      "text/plain": [
       "'ENSG00000067225'"
      ]
     },
     "execution_count": 69,
     "metadata": {},
     "output_type": "execute_result"
    }
   ],
   "source": [
    "str(rds['rds']['gene'][0])"
   ]
  },
  {
   "cell_type": "code",
   "execution_count": null,
   "id": "0ac24ef4-0ed9-470b-b166-22deca7c85aa",
   "metadata": {},
   "outputs": [],
   "source": []
  }
 ],
 "metadata": {
  "kernelspec": {
   "display_name": "Python 3 (ipykernel)",
   "language": "python",
   "name": "python3"
  },
  "language_info": {
   "codemirror_mode": {
    "name": "ipython",
    "version": 3
   },
   "file_extension": ".py",
   "mimetype": "text/x-python",
   "name": "python",
   "nbconvert_exporter": "python",
   "pygments_lexer": "ipython3",
   "version": "3.10.14"
  }
 },
 "nbformat": 4,
 "nbformat_minor": 5
}
