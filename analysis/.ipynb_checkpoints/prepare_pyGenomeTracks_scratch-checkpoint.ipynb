{
 "cells": [
  {
   "cell_type": "code",
   "execution_count": 2,
   "id": "5913d7ef",
   "metadata": {},
   "outputs": [],
   "source": [
    "import pandas as pd\n",
    "import numpy as np\n",
    "from matplotlib import pyplot as plt\n",
    "from subprocess import run\n",
    "import os"
   ]
  },
  {
   "cell_type": "code",
   "execution_count": 1,
   "id": "c54b26dd",
   "metadata": {},
   "outputs": [],
   "source": [
    "def makeFactorsIni(stm, color_list, gene, factor_ini_name = 'combined_factors'):\n",
    "    \n",
    "    factor_ini = 'pygenometracks/' + factor_ini_name + '.ini'\n",
    "    \n",
    "    if os.path.isfile(factor_ini):\n",
    "        run('rm pygenometracks/' + factor_ini, shell=True)\n",
    "        run('rm pygenometracks/*.bed', shell=True)\n",
    "        run('rm pygenometracks/*.bw', shell=True)\n",
    "    \n",
    "    ymax = stm.max().max()\n",
    "    \n",
    "    factor_list = list(stm.columns)\n",
    "    \n",
    "    \n",
    "    for i in range(len(factor_list)):\n",
    "        factor = factor_list[i]\n",
    "        color = color_list[i]\n",
    "        make_bedGraph(stm, factor, gene)\n",
    "        bedGraphToBigWig('pygenometracks/' + factor + '.' + gene)\n",
    "        \n",
    "        \n",
    "        \n",
    "        WriteBigWigIniFactor('pygenometracks/' + factor + '.' + gene, color, ymax)\n",
    "        \n",
    "        \n",
    "        cmd = 'cat pygenometracks/'+ factor + '.' + gene + '.ini >> ' + factor_ini\n",
    "        \n",
    "        run(cmd, shell=True)\n",
    "        \n",
    "    WriteAllFactorsTrack(factor_list, color_list, gene, ymax, factor_ini)\n",
    "    \n",
    "    pygenome_cmd(factor_ini, factor_ini_name, stm.index)\n",
    "    \n",
    "    \n",
    "def pygenome_cmd(factor_ini, factor_ini_name, stm_idx):\n",
    "    \n",
    "    chrom, start = stm_idx[0].split('.')\n",
    "    chrom, end = stm_idx[-1].split('.')\n",
    "    \n",
    "    region = chrom + ':' + start + '-' + end\n",
    "    \n",
    "    out_png = 'plots/' + factor_ini_name + '.png'\n",
    "    \n",
    "    template = '''pyGenomeTracks --tracks {factor_ini} --region {region} --outFileName {out_png}'''\n",
    "    \n",
    "    template_cmd = template.format(factor_ini = factor_ini, region = region, out_png = out_png)\n",
    "    \n",
    "    print(template_cmd)\n",
    "\n",
    "\n",
    "def make_bedGraph(stm, factor, gene):\n",
    "    chrom = stm.index[0].split('.')[0][3:]\n",
    "    start = stm.index[0].split('.')[1]\n",
    "    end = stm.index[-1].split('.')[1]\n",
    "    \n",
    "    with open('pygenometracks/' + factor + '.' + gene + '.bed', 'w') as fh:\n",
    "        fh.write('#bedGraph section ' + chrom + ':' + start + '-' + end + '\\n')\n",
    "        \n",
    "        for idx in stm[factor].index:\n",
    "            chrom = idx.split('.')[0]\n",
    "            start = str(idx.split('.')[1])\n",
    "            end = str(int(idx.split('.')[1])+1)\n",
    "            score = str(stm.loc[idx, factor])\n",
    "            \n",
    "            row = '\\t'.join([chrom, start, end, score]) + '\\n'\n",
    "            \n",
    "            fh.write(row)\n",
    "            \n",
    "\n",
    "def bedGraphToBigWig(bg):\n",
    "    \n",
    "    template = \"bedGraphToBigWig {bg}.bed hg38.chrom.sizes {bg}.bw\"\n",
    "\n",
    "    run(template.format(bg=bg), shell=True)\n",
    "    \n",
    "\n",
    "def WriteBigWigIniFactor(bg, color, ymax):\n",
    "    \n",
    "    template_first = '''[{bg}]\n",
    "file = {bg}.bw\n",
    "title = {bg}\n",
    "height = 2\n",
    "color = {color}\n",
    "type = line\n",
    "alpha = 1\n",
    "min_value = 0\n",
    "max_value = {ymax}\n",
    "number_of_bins = 1000\n",
    "nans_to_zeros = true\n",
    "show_data_range = true\n",
    "y_axis_values = original\n",
    "file_type = bigwig\\n\\n'''\n",
    "    with open(bg + '.ini', 'a') as fh:\n",
    "        template_first = template_first.format(bg=bg, color=color, ymax=ymax)\n",
    "        fh.write(template_first)\n",
    "            \n",
    "        \n",
    "    \n",
    "def WriteAllFactorsTrack(factor_list, color_list, gene, ymax, factor_ini):\n",
    "    \n",
    "    with open(factor_ini, 'a') as fh:\n",
    "    \n",
    "        count = 1\n",
    "        for i in range(len(factor_list)):\n",
    "            factor = factor_list[i]\n",
    "            color = color_list[i]\n",
    "            if count == 1:\n",
    "                isFirst = True\n",
    "            else:\n",
    "                isFirst = False\n",
    "\n",
    "            if isFirst:\n",
    "                template_first = '''[all_factors]\n",
    "file = pygenometracks/{factor}.{gene}.bw\n",
    "height = 2\n",
    "color = {color}\n",
    "type = line\n",
    "alpha = 0\n",
    "min_value = 0\n",
    "max_value = {ymax}\n",
    "number_of_bins = 1000\n",
    "nans_to_zeros = true\n",
    "show_data_range = true\n",
    "y_axis_values = original\n",
    "file_type = bigwig\\n\\n'''\n",
    "                fh.write(template_first.format(factor=factor, gene=gene, color=color, ymax=ymax))\n",
    "\n",
    "\n",
    "            template = '''[{factor}]\n",
    "file = pygenometracks/{factor}.{gene}.bw\n",
    "height = 2\n",
    "color = {color}\n",
    "type = line\n",
    "number_of_bins = 1000\n",
    "nans_to_zeros = true\n",
    "show_data_range = true\n",
    "overlay_previous = share-y\n",
    "file_type = bigwig\\n\\n'''\n",
    "            \n",
    "            fh.write(template.format(factor=factor, gene=gene, color=color))\n",
    "            count += 1\n",
    "    "
   ]
  },
  {
   "cell_type": "code",
   "execution_count": 3,
   "id": "72a532b3",
   "metadata": {},
   "outputs": [
    {
     "name": "stdout",
     "output_type": "stream",
     "text": [
      "pyGenomeTracks --tracks pygenometracks/SRSF3_K3_factors.ini --region chr6:36593354-36606600 --outFileName plots/SRSF3_K3_factors.png\n"
     ]
    }
   ],
   "source": [
    "factors =  pd.read_csv('tables/SRSF3_factors.tab', sep='\\t', index_col=0).T\n",
    "makeFactorsIni(factors, ['navy', 'red', 'gold'], 'SRSF3', factor_ini_name = 'SRSF3_K3_factors')"
   ]
  },
  {
   "cell_type": "code",
   "execution_count": 12,
   "id": "37ca01fe",
   "metadata": {},
   "outputs": [
    {
     "data": {
      "text/plain": [
       "Index(['chr6.36593354', 'chr6.36593355', 'chr6.36593356', 'chr6.36593357',\n",
       "       'chr6.36593358', 'chr6.36593359', 'chr6.36593360', 'chr6.36593361',\n",
       "       'chr6.36593362', 'chr6.36593363',\n",
       "       ...\n",
       "       'chr6.36606591', 'chr6.36606592', 'chr6.36606593', 'chr6.36606594',\n",
       "       'chr6.36606595', 'chr6.36606596', 'chr6.36606597', 'chr6.36606598',\n",
       "       'chr6.36606599', 'chr6.36606600'],\n",
       "      dtype='object', length=13247)"
      ]
     },
     "execution_count": 12,
     "metadata": {},
     "output_type": "execute_result"
    }
   ],
   "source": [
    "factors.index"
   ]
  },
  {
   "cell_type": "code",
   "execution_count": 13,
   "id": "8092fe2a",
   "metadata": {},
   "outputs": [
    {
     "data": {
      "text/plain": [
       "'chr6.36593354'"
      ]
     },
     "execution_count": 13,
     "metadata": {},
     "output_type": "execute_result"
    }
   ],
   "source": [
    "chrom, start = factors.index[0]\n",
    "chrom, end = factors.index[-1]"
   ]
  },
  {
   "cell_type": "code",
   "execution_count": null,
   "id": "9ab46ffe",
   "metadata": {},
   "outputs": [],
   "source": []
  }
 ],
 "metadata": {
  "kernelspec": {
   "display_name": "Python 3",
   "language": "python",
   "name": "python3"
  },
  "language_info": {
   "codemirror_mode": {
    "name": "ipython",
    "version": 3
   },
   "file_extension": ".py",
   "mimetype": "text/x-python",
   "name": "python",
   "nbconvert_exporter": "python",
   "pygments_lexer": "ipython3",
   "version": "3.8.8"
  }
 },
 "nbformat": 4,
 "nbformat_minor": 5
}
