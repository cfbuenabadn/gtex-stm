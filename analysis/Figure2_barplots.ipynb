{
 "cells": [
  {
   "cell_type": "code",
   "execution_count": 1,
   "id": "9039a744-dae8-474c-83d4-3090c45f341e",
   "metadata": {},
   "outputs": [],
   "source": [
    "import numpy as np\n",
    "import pandas as pd\n",
    "from pybedtools import BedTool\n",
    "import gzip\n",
    "from matplotlib import pyplot as plt\n",
    "import seaborn as sns\n",
    "from tqdm import tqdm"
   ]
  },
  {
   "cell_type": "code",
   "execution_count": 2,
   "id": "07e1773b-75eb-41cc-a327-2afc8e25676e",
   "metadata": {},
   "outputs": [],
   "source": [
    "snmf_introns = pd.read_csv('../code/CoveragePlots/bed_files/introns/snmf.retained_introns.bed.gz', sep='\\t', \n",
    "                          names = ['chrom', 'start', 'end', 'ir_id', 'isoforms', 'strand'])\n",
    "snmf_introns['gene'] = snmf_introns.ir_id.apply(lambda x: x.split('_')[0])"
   ]
  },
  {
   "cell_type": "code",
   "execution_count": 3,
   "id": "7d6af504-e57d-464d-99aa-5bb843ed0558",
   "metadata": {},
   "outputs": [
    {
     "data": {
      "text/plain": [
       "12472"
      ]
     },
     "execution_count": 3,
     "metadata": {},
     "output_type": "execute_result"
    }
   ],
   "source": [
    "len(snmf_introns.gene.unique())"
   ]
  },
  {
   "cell_type": "code",
   "execution_count": 4,
   "id": "6a92a78b-2a46-44ca-9155-7d240dd313ab",
   "metadata": {},
   "outputs": [
    {
     "data": {
      "text/plain": [
       "(83553, 7)"
      ]
     },
     "execution_count": 4,
     "metadata": {},
     "output_type": "execute_result"
    }
   ],
   "source": [
    "snmf_introns.shape"
   ]
  },
  {
   "cell_type": "code",
   "execution_count": 5,
   "id": "c5d02547-dd27-46de-88cf-f4e0521a2e82",
   "metadata": {},
   "outputs": [],
   "source": [
    "def load_matrices_per_tissue(tissue, annotation):\n",
    "    col_names = ['chrom', 'start', 'end', 'gene', 'score', 'strand']\n",
    "    pos_names_intron = [f'bin_{str(i+1)}' for i in range(110)]\n",
    "    pos_names = [f'bin_{str(i+1)}' for i in range(30)]\n",
    "\n",
    "    if 'snmf' in annotation:\n",
    "        fk1_file = f'../code/CoveragePlots/matrices/{tissue}.snmf.flanking_exons_1.mat.gz'\n",
    "        fk2_file = f'../code/CoveragePlots/matrices/{tissue}.snmf.flanking_exons_2.mat.gz'\n",
    "        intron_file = f'../code/CoveragePlots/matrices/{tissue}.{annotation}.retained_introns.mat.gz'\n",
    "    elif 'gencode' in annotation:\n",
    "        fk1_file = f'../code/CoveragePlots/matrices/{tissue}.gencode.flanking_exons_1.mat.gz'\n",
    "        fk2_file = f'../code/CoveragePlots/matrices/{tissue}.gencode.flanking_exons_2.mat.gz'\n",
    "        intron_file = f'../code/CoveragePlots/matrices/{tissue}.{annotation}.retained_introns.mat.gz'\n",
    "    elif 'appris' in annotation:\n",
    "        fk1_file = f'../code/CoveragePlots/matrices/{tissue}.appris_flanking_exons_1.mat.gz'\n",
    "        fk2_file = f'../code/CoveragePlots/matrices/{tissue}.appris_flanking_exons_2.mat.gz'\n",
    "        intron_file = f'../code/CoveragePlots/matrices/{tissue}.appris_introns.mat.gz'\n",
    "\n",
    "    fk1 = pd.read_csv(fk1_file, sep='\\t', skiprows=1, names=col_names + pos_names, index_col=3)\n",
    "\n",
    "    fk2 = pd.read_csv(fk2_file, sep='\\t', skiprows=1, names=col_names + pos_names, index_col=3)\n",
    "    \n",
    "    intron = pd.read_csv(intron_file, sep='\\t', skiprows=1, names=col_names + pos_names_intron, index_col=3)\n",
    "\n",
    "    return fk1, intron, fk2\n",
    "    \n",
    "def get_metaplot_input(tissue, annotation):\n",
    "    fk1, intron, fk2 = load_matrices_per_tissue(tissue, annotation)\n",
    "    \n",
    "    col_names = ['chrom', 'start', 'end', 'gene', 'score', 'strand']\n",
    "    pos_names_intron = [f'bin_{str(i+1)}' for i in range(110)]\n",
    "    pos_names = [f'bin_{str(i+1)}' for i in range(30)]\n",
    "    \n",
    "    \n",
    "    pos_introns = intron.loc[intron.strand == '+'].index\n",
    "    neg_introns = intron.loc[intron.strand == '-'].index\n",
    "    \n",
    "    norm_factor_pos = pd.concat([fk1.loc[pos_introns, pos_names[5:25]], fk2.loc[pos_introns, pos_names[5:25]]], axis=1).mean(axis=1)\n",
    "    norm_factor_neg = pd.concat([fk1.loc[neg_introns, pos_names[5:25]], fk2.loc[neg_introns, pos_names[5:25]]], axis=1).mean(axis=1)\n",
    "    \n",
    "    fk1_meta = fk1.loc[norm_factor_pos.index, pos_names[:25]]\n",
    "    intron_meta = intron.loc[norm_factor_pos.index, pos_names_intron[6:-5]]\n",
    "    fk2_meta = fk2.loc[norm_factor_pos.index, pos_names[5:]]\n",
    "    meta_X_pos = pd.concat([fk1_meta, intron_meta, fk2_meta], axis=1)\n",
    "    meta_X_pos.columns = [f'bin_{str(i+1)}' for i in range(meta_X_pos.shape[1])]\n",
    "    idx = norm_factor_pos.loc[norm_factor_pos >= 0.01].index\n",
    "    norm_X_pos = meta_X_pos.loc[idx].divide(norm_factor_pos.loc[idx], axis=0)\n",
    "    \n",
    "    \n",
    "    fk1_meta = fk2.loc[norm_factor_neg.index, pos_names[:25]]\n",
    "    intron_meta = intron.loc[norm_factor_neg.index, pos_names_intron[6:-5]]\n",
    "    fk2_meta = fk1.loc[norm_factor_neg.index, pos_names[5:]]\n",
    "    meta_X_neg = pd.concat([fk1_meta, intron_meta, fk2_meta], axis=1)\n",
    "    meta_X_neg.columns = [f'bin_{str(i+1)}' for i in range(meta_X_pos.shape[1])]\n",
    "    idx = norm_factor_neg.loc[norm_factor_neg >= 0.01].index\n",
    "    norm_X_neg = meta_X_neg.loc[idx].divide(norm_factor_neg.loc[idx], axis=0)\n",
    "    \n",
    "    norm_X = pd.concat([norm_X_pos, norm_X_neg], axis=0)\n",
    "\n",
    "    return norm_X"
   ]
  },
  {
   "cell_type": "code",
   "execution_count": 164,
   "id": "cd2615be-383e-4a2e-a147-c3ebd6901fd7",
   "metadata": {},
   "outputs": [],
   "source": [
    "norm_X_snmf_gencode = get_metaplot_input('Liver', 'snmf_and_gencode')\n",
    "norm_X_snmf = get_metaplot_input('Liver', 'snmf_only')\n",
    "norm_X_snmf_all = get_metaplot_input('Liver', 'snmf')\n",
    "norm_X_gencode = get_metaplot_input('Liver', 'gencode_only')\n",
    "norm_X_appris = get_metaplot_input('Liver', 'appris_introns')"
   ]
  },
  {
   "cell_type": "code",
   "execution_count": 165,
   "id": "0a826160-ba23-4f86-9b0f-ee396f8bab7c",
   "metadata": {},
   "outputs": [],
   "source": [
    "snmf_exons_bed = '/project2/mstephens/cfbuenabadn/gtex-stm/code/ebpmf_models/filtered/snmf_10/tables/snmf.merged_isoforms.exons.sorted.bed.gz'\n",
    "snmf_exons = pd.read_csv(snmf_exons_bed, sep='\\t', names = ['chrom', 'start', 'end', 'gene_id', \n",
    "                                                 'transcript_id', 'strand', 'factors', 'exon_id'])\n",
    "\n",
    "\n",
    "annotation = pd.read_csv('/project2/mstephens/cfbuenabadn/gtex-stm/code/ebpmf_models/filtered/snmf_10/tables/annotated.snmf.merged_isoforms.tab.gz', sep='\\t')\n",
    "annotation = annotation.loc[annotation.appris_transcript_length != 'appris_transcript_length']\n",
    "annotation['appris_transcript_length'] = annotation.appris_transcript_length.astype(int)\n",
    "annotation['gene_id'] = [x.split('.')[0] for x in annotation.transcript]\n"
   ]
  },
  {
   "cell_type": "code",
   "execution_count": 166,
   "id": "91830b7c-884c-4865-9197-ffac1d8d55da",
   "metadata": {},
   "outputs": [],
   "source": [
    "col_names = ['chrom', 'start', 'end', 'intron_name', 'score', 'strand']\n",
    "pos_names_intron = [f'bin_{str(i+1)}' for i in range(110)]\n",
    "intron_snmf_only = pd.read_csv(f'../code/CoveragePlots/matrices/Liver.snmf_only.retained_introns.mat.gz', sep='\\t', \n",
    "                   names=col_names + pos_names_intron, skiprows=1)\n",
    "\n",
    "intron_gencode_only = pd.read_csv(f'../code/CoveragePlots/matrices/Liver.gencode_only.retained_introns.mat.gz', sep='\\t', \n",
    "                   names=col_names + pos_names_intron, skiprows=1)\n",
    "\n",
    "intron_snmf_gencode = pd.read_csv(f'../code/CoveragePlots/matrices/Liver.snmf_and_gencode.retained_introns.mat.gz', sep='\\t', \n",
    "                   names=col_names + pos_names_intron, skiprows=1)\n",
    "\n",
    "col_names = ['chrom', 'start', 'end', 'gene', 'score', 'strand']\n",
    "pos_names_intron = [f'bin_{str(i+1)}' for i in range(110)]\n",
    "appris_introns = pd.read_csv('../code/CoveragePlots/matrices/Liver.appris_introns.mat.gz', sep='\\t', skiprows=1, \n",
    "                             names = col_names + pos_names_intron)"
   ]
  },
  {
   "cell_type": "code",
   "execution_count": 198,
   "id": "4f59380f-2e91-4da4-b966-96c05889a958",
   "metadata": {},
   "outputs": [
    {
     "name": "stderr",
     "output_type": "stream",
     "text": [
      "/tmp/jobs/41548387/ipykernel_15274/3125013857.py:14: UserWarning: set_ticklabels() should only be used with a fixed number of ticks, i.e. after set_ticks() or using a FixedLocator.\n",
      "  ax.set_yticklabels(['0', '1e5', '2e5', '3e5', '4e5', '5e5', '6e5'])\n"
     ]
    },
    {
     "data": {
      "image/png": "[encoded data removed]",
      "text/plain": [
       "<Figure size 150x300 with 1 Axes>"
      ]
     },
     "metadata": {},
     "output_type": "display_data"
    }
   ],
   "source": [
    "fig, ax = plt.subplots(figsize=(1.5, 3))\n",
    "\n",
    "ax.bar(['No intron\\nretention', 'sNMF only', 'sNMF overlaps', 'sNMF and Gencode', 'Gencode only'], [58532, 53719, 23006, 6828, 1992],\n",
    "       color = ['tab:gray', 'tab:orange', 'tab:cyan', 'tab:blue', 'tab:green'])\n",
    "ax.set_xticks([])\n",
    "\n",
    "ax.text(-0.2, 4000, 'Appris intron (58532)', rotation=90, c='white')\n",
    "\n",
    "ax.text(0.8, 4000, 'sNMF only (53719)', rotation=90, c='white')\n",
    "ax.text(1.8, 4000, 'sNMF w / ', rotation=90, c='white')\n",
    "ax.text(1.8, 24500, 'Overlap (23006)', rotation=90, c='tab:cyan')\n",
    "ax.text(2.8, 9000, 'sNMF and Gencode (6828)', rotation=90, c='tab:blue')\n",
    "ax.text(3.8, 4000, 'Gencode only (1992)', rotation=90, c='tab:green')\n",
    "ax.set_yticklabels(['0', '1e5', '2e5', '3e5', '4e5', '5e5', '6e5'])\n",
    "ax.set_ylabel('Counts')\n",
    "ax.spines[['right', 'top']].set_visible(False)\n",
    "\n",
    "\n",
    "plt.savefig('../code/scratch_figures/figure2/intron_barplot_w_overlaps.pdf', bbox_inches='tight')\n",
    "plt.savefig('../code/scratch_figures/figure2/intron_barplot_w_overlaps.png', bbox_inches='tight', dpi=500)"
   ]
  },
  {
   "cell_type": "code",
   "execution_count": 252,
   "id": "355e4358-bbde-4288-a3ca-a532e8df0525",
   "metadata": {},
   "outputs": [
    {
     "name": "stderr",
     "output_type": "stream",
     "text": [
      "/tmp/jobs/41548387/ipykernel_15274/4075579495.py:14: UserWarning: set_ticklabels() should only be used with a fixed number of ticks, i.e. after set_ticks() or using a FixedLocator.\n",
      "  ax.set_yticklabels(['0', '1e5', '2e5', '3e5', '4e5', '5e5', '6e5'])\n"
     ]
    },
    {
     "data": {
      "image/png": "[encoded data removed]",
      "text/plain": [
       "<Figure size 150x300 with 1 Axes>"
      ]
     },
     "metadata": {},
     "output_type": "display_data"
    }
   ],
   "source": [
    "fig, ax = plt.subplots(figsize=(1.5, 3))\n",
    "\n",
    "ax.bar(['No intron\\nretention', 'sNMF only', 'sNMF overlaps', 'sNMF and Gencode', 'Gencode only'], [58532, 53719, 6828, 1992, 23006],\n",
    "       color = ['tab:gray', 'tab:orange', 'tab:blue', 'tab:green', 'tab:cyan'])\n",
    "ax.set_xticks([])\n",
    "\n",
    "ax.text(-0.2, 4000, 'Appris intron (58532)', rotation=90, c='white')\n",
    "\n",
    "ax.text(0.8, 4000, 'sNMF only (53719)', rotation=90, c='white')\n",
    "ax.text(3.8, 4000, 'sNMF w / ', rotation=90, c='white')\n",
    "ax.text(3.8, 24500, 'Overlap (23006)', rotation=90, c='tab:cyan')\n",
    "ax.text(1.8, 9000, 'sNMF and Gencode (6828)', rotation=90, c='tab:blue')\n",
    "ax.text(2.8, 4000, 'Gencode only (1992)', rotation=90, c='tab:green')\n",
    "ax.set_yticklabels(['0', '1e5', '2e5', '3e5', '4e5', '5e5', '6e5'])\n",
    "ax.set_ylabel('Counts')\n",
    "ax.spines[['right', 'top']].set_visible(False)\n",
    "\n",
    "\n",
    "plt.savefig('../code/scratch_figures/figure2/intron_barplot_w_overlaps_swapped.pdf', bbox_inches='tight')\n",
    "plt.savefig('../code/scratch_figures/figure2/intron_barplot_w_overlaps_swapped.png', bbox_inches='tight', dpi=500)"
   ]
  },
  {
   "cell_type": "code",
   "execution_count": 191,
   "id": "d7060773-b917-4cad-b15f-631766573087",
   "metadata": {},
   "outputs": [
    {
     "data": {
      "text/plain": [
       "(58532, 116)"
      ]
     },
     "execution_count": 191,
     "metadata": {},
     "output_type": "execute_result"
    }
   ],
   "source": [
    "appris_introns.shape"
   ]
  },
  {
   "cell_type": "code",
   "execution_count": 197,
   "id": "df5a98ff-ae77-49d0-a38a-cfeddcaa9970",
   "metadata": {},
   "outputs": [
    {
     "data": {
      "text/plain": [
       "83553"
      ]
     },
     "execution_count": 197,
     "metadata": {},
     "output_type": "execute_result"
    }
   ],
   "source": [
    "23006 + 53719 + 6828"
   ]
  },
  {
   "cell_type": "code",
   "execution_count": 190,
   "id": "baf0d05e-a3e5-41a1-a403-9050e5397ca6",
   "metadata": {},
   "outputs": [
    {
     "data": {
      "text/plain": [
       "(53719, 116)"
      ]
     },
     "execution_count": 190,
     "metadata": {},
     "output_type": "execute_result"
    }
   ],
   "source": [
    "intron_snmf_only.shape"
   ]
  },
  {
   "cell_type": "code",
   "execution_count": 189,
   "id": "be39aaab-2ced-4701-8e1f-89dac926e3ee",
   "metadata": {},
   "outputs": [
    {
     "data": {
      "text/plain": [
       "(1992, 116)"
      ]
     },
     "execution_count": 189,
     "metadata": {},
     "output_type": "execute_result"
    }
   ],
   "source": [
    "intron_gencode_only.shape"
   ]
  },
  {
   "cell_type": "code",
   "execution_count": 188,
   "id": "4d0946c6-26d3-42dd-b95c-a4646dd14b59",
   "metadata": {},
   "outputs": [
    {
     "data": {
      "text/plain": [
       "(6828, 116)"
      ]
     },
     "execution_count": 188,
     "metadata": {},
     "output_type": "execute_result"
    }
   ],
   "source": [
    "intron_snmf_gencode.shape"
   ]
  },
  {
   "cell_type": "code",
   "execution_count": 167,
   "id": "99251f22-fd6d-4418-a7a8-e0fef809d2d1",
   "metadata": {},
   "outputs": [
    {
     "data": {
      "text/plain": [
       "53719"
      ]
     },
     "execution_count": 167,
     "metadata": {},
     "output_type": "execute_result"
    }
   ],
   "source": [
    "intron_snmf_only.intron_name.isin(snmf_introns.ir_id).sum()"
   ]
  },
  {
   "cell_type": "code",
   "execution_count": 168,
   "id": "61ed322f-8d32-43c2-92c3-7ead5c481955",
   "metadata": {},
   "outputs": [],
   "source": [
    "overlapping_introns = snmf_introns.loc[\n",
    "    ~snmf_introns.ir_id.isin(pd.Index(intron_snmf_only.intron_name).union(pd.Index(intron_snmf_gencode.intron_name)))\n",
    "]"
   ]
  },
  {
   "cell_type": "code",
   "execution_count": 169,
   "id": "58c60d0a-0e60-4adf-8e79-7cd186cb5ee6",
   "metadata": {},
   "outputs": [],
   "source": [
    "gencode_exons_file = '/project2/mstephens/cfbuenabadn/gtex-stm/code/Annotations/gencode.v44.primary_assembly.exons.bed.gz'\n",
    "gencode_exons = pd.read_csv(gencode_exons_file, sep='\\t')\n",
    "\n",
    "gencode_exons_bed = BedTool.from_dataframe(gencode_exons)"
   ]
  },
  {
   "cell_type": "code",
   "execution_count": 170,
   "id": "b4588a65-dd6b-4108-a0ef-032ef73c24d1",
   "metadata": {},
   "outputs": [],
   "source": [
    "overlapping_introns_bed = BedTool.from_dataframe(overlapping_introns)"
   ]
  },
  {
   "cell_type": "code",
   "execution_count": 183,
   "id": "8891ff1b-68b4-4fa9-9399-eaada51941cb",
   "metadata": {},
   "outputs": [],
   "source": [
    "overlapping_introns_ = overlapping_introns_bed.intersect(all_gencode_exons_bed, wo=True).to_dataframe(\n",
    "    names = list(overlapping_introns.columns) + [f'{x}_gencode' for x in all_gencode_exons.columns] + ['overlap']\n",
    ")"
   ]
  },
  {
   "cell_type": "code",
   "execution_count": 184,
   "id": "f637cb88-d03f-476a-b5a3-e77bc6fb740a",
   "metadata": {},
   "outputs": [
    {
     "data": {
      "text/plain": [
       "array(['protein_coding_CDS_not_defined', 'retained_intron', 'lncRNA',\n",
       "       'protein_coding', 'nonsense_mediated_decay', 'misc_RNA', 'TEC',\n",
       "       'processed_transcript', 'processed_pseudogene', 'snRNA', 'miRNA',\n",
       "       'rRNA_pseudogene', 'snoRNA', 'unprocessed_pseudogene',\n",
       "       'transcribed_processed_pseudogene', 'non_stop_decay',\n",
       "       'unitary_pseudogene', 'transcribed_unitary_pseudogene', 'scaRNA',\n",
       "       'transcribed_unprocessed_pseudogene', 'pseudogene', 'rRNA'],\n",
       "      dtype=object)"
      ]
     },
     "execution_count": 184,
     "metadata": {},
     "output_type": "execute_result"
    }
   ],
   "source": [
    "overlapping_introns_.transcript_type_gencode.unique()"
   ]
  },
  {
   "cell_type": "code",
   "execution_count": 219,
   "id": "ea0b0946-886a-49fd-9463-078c09ca4162",
   "metadata": {},
   "outputs": [],
   "source": [
    "annot_overlap = {\n",
    "    'other_gene':0,\n",
    "    'retained_intron':0,\n",
    "    'non_stop_decay':0,\n",
    "    'nonsense_mediated_decay':0,\n",
    "    'processed_transcript':0,\n",
    "    'pseudogene':0,\n",
    "    'protein_coding_CDS_not_defined':0,\n",
    "    'TEC':0,\n",
    "    'protein_coding':0,\n",
    "    'other':0\n",
    "}\n",
    "\n",
    "other_genes = []\n",
    "for intron, df in overlapping_introns_.groupby('ir_id'):\n",
    "\n",
    "\n",
    "    if np.sum(df.gene == df.gene_id_gencode) == 0:\n",
    "         annot_overlap['other_gene'] += 1\n",
    "         other_genes.extend(list(df.gene_id_gencode.unique()))\n",
    "    else:\n",
    "        if 'retained_intron' in list(df.transcript_type_gencode):\n",
    "            annot_overlap['retained_intron'] += 1\n",
    "        elif 'nonsense_mediated_decay' in list(df.transcript_type_gencode):\n",
    "            annot_overlap['nonsense_mediated_decay'] += 1\n",
    "        elif 'non_stop_decay' in list(df.transcript_type_gencode):\n",
    "            annot_overlap['non_stop_decay'] += 1\n",
    "        elif 'protein_coding_CDS_not_defined' in list(df.transcript_type_gencode):\n",
    "            annot_overlap['protein_coding_CDS_not_defined'] += 1\n",
    "        elif 'processed_transcript' in list(df.transcript_type_gencode):\n",
    "            annot_overlap['processed_transcript'] += 1\n",
    "        elif any(['pseudogene' in x for x in list(df.transcript_type_gencode)]):\n",
    "            annot_overlap['pseudogene'] += 1\n",
    "        elif 'TEC' in list(df.transcript_type_gencode):\n",
    "            annot_overlap['TEC'] += 1\n",
    "        elif 'protein_coding' in list(df.transcript_type_gencode):\n",
    "            annot_overlap['protein_coding'] += 1\n",
    "        else:\n",
    "            annot_overlap['other'] += 1"
   ]
  },
  {
   "cell_type": "code",
   "execution_count": 227,
   "id": "ccc431ba-4a57-4b99-94ea-026720f15650",
   "metadata": {},
   "outputs": [
    {
     "data": {
      "text/plain": [
       "gene_type\n",
       "protein_coding                        42820\n",
       "lncRNA                                19251\n",
       "transcribed_processed_pseudogene        532\n",
       "processed_pseudogene                    426\n",
       "transcribed_unitary_pseudogene          400\n",
       "miRNA                                   166\n",
       "misc_RNA                                129\n",
       "snRNA                                    79\n",
       "unprocessed_pseudogene                   68\n",
       "snoRNA                                   52\n",
       "TEC                                      48\n",
       "transcribed_unprocessed_pseudogene       23\n",
       "rRNA_pseudogene                          20\n",
       "pseudogene                                3\n",
       "unitary_pseudogene                        1\n",
       "Name: count, dtype: int64"
      ]
     },
     "execution_count": 227,
     "metadata": {},
     "output_type": "execute_result"
    }
   ],
   "source": [
    "gencode_exons.loc[gencode_exons.gene_id.isin(other_genes)].gene_type.value_counts()"
   ]
  },
  {
   "cell_type": "code",
   "execution_count": 220,
   "id": "64905d16-bc99-419f-9be8-fc5e98b3ac7d",
   "metadata": {},
   "outputs": [
    {
     "data": {
      "text/plain": [
       "['retained_intron',\n",
       " 'protein_coding',\n",
       " 'protein_coding_CDS_not_defined',\n",
       " 'protein_coding_CDS_not_defined',\n",
       " 'nonsense_mediated_decay']"
      ]
     },
     "execution_count": 220,
     "metadata": {},
     "output_type": "execute_result"
    }
   ],
   "source": [
    "list(df.transcript_type_gencode)"
   ]
  },
  {
   "cell_type": "code",
   "execution_count": 221,
   "id": "f2178f8f-f1ff-4fb0-a868-652b4941480b",
   "metadata": {},
   "outputs": [
    {
     "data": {
      "text/plain": [
       "{'other_gene': 3261,\n",
       " 'retained_intron': 10613,\n",
       " 'non_stop_decay': 16,\n",
       " 'nonsense_mediated_decay': 2077,\n",
       " 'processed_transcript': 5,\n",
       " 'pseudogene': 54,\n",
       " 'protein_coding_CDS_not_defined': 3825,\n",
       " 'TEC': 30,\n",
       " 'protein_coding': 3125,\n",
       " 'other': 0}"
      ]
     },
     "execution_count": 221,
     "metadata": {},
     "output_type": "execute_result"
    }
   ],
   "source": [
    "annot_overlap"
   ]
  },
  {
   "cell_type": "code",
   "execution_count": 199,
   "id": "fc4f6221-48ae-4d59-a481-47373eabd050",
   "metadata": {},
   "outputs": [
    {
     "data": {
      "text/plain": [
       "5953"
      ]
     },
     "execution_count": 199,
     "metadata": {},
     "output_type": "execute_result"
    }
   ],
   "source": [
    "2077 + 16+5+3825+30"
   ]
  },
  {
   "cell_type": "code",
   "execution_count": 200,
   "id": "ea15acc9-1464-4ef0-8818-3ae36d1788c1",
   "metadata": {},
   "outputs": [
    {
     "data": {
      "text/plain": [
       "3315"
      ]
     },
     "execution_count": 200,
     "metadata": {},
     "output_type": "execute_result"
    }
   ],
   "source": [
    "3261+54"
   ]
  },
  {
   "cell_type": "code",
   "execution_count": 204,
   "id": "b03c8ca5-1a7b-4a0a-87f7-9c9b973dd2b7",
   "metadata": {},
   "outputs": [
    {
     "data": {
      "text/plain": [
       "23006"
      ]
     },
     "execution_count": 204,
     "metadata": {},
     "output_type": "execute_result"
    }
   ],
   "source": [
    "5953+3315+3125+10613"
   ]
  },
  {
   "cell_type": "code",
   "execution_count": 261,
   "id": "aae9830e-9d31-4fbe-9971-70a48342a6ae",
   "metadata": {},
   "outputs": [
    {
     "name": "stderr",
     "output_type": "stream",
     "text": [
      "/tmp/jobs/41548387/ipykernel_15274/2404502956.py:12: UserWarning: set_ticklabels() should only be used with a fixed number of ticks, i.e. after set_ticks() or using a FixedLocator.\n",
      "  ax.set_yticklabels(['0', '5e3', '1e4', '1.5e4', '2e4'])\n"
     ]
    },
    {
     "data": {
      "image/png": "[encoded data removed]",
      "text/plain": [
       "<Figure size 50x300 with 1 Axes>"
      ]
     },
     "metadata": {},
     "output_type": "display_data"
    }
   ],
   "source": [
    "fig, ax = plt.subplots(figsize=(0.5, 3))\n",
    "\n",
    "ax.bar([0, 0, 0, 0], [23006, 23006-3125, 10613 + 5953, 10613],#[10613, 5953, 3825, 3315],\n",
    "       color = ['paleturquoise', 'turquoise', 'tab:cyan', 'tab:blue'])\n",
    "ax.set_xticks([])\n",
    "\n",
    "ax.text(0.6, 4500, 'Retained intron\\n(10613)', c='tab:blue')\n",
    "ax.text(0.6, 12000, 'Unproductive transcript\\n(5953)', c='tab:cyan')\n",
    "\n",
    "ax.text(0.6, 16800, 'Other gene\\n(3315)', c='tab:cyan')\n",
    "ax.text(0.6, 20500, 'Protein coding exon\\n(3125)', c='tab:cyan')\n",
    "ax.set_yticklabels(['0', '5e3', '1e4', '1.5e4', '2e4'])\n",
    "ax.set_ylabel('Counts')\n",
    "ax.spines[['right', 'top']].set_visible(False)\n",
    "ax.set_xlim([-0.8, 0.8])\n",
    "\n",
    "\n",
    "plt.savefig('../code/scratch_figures/figure2/intron_barplot_for_overlaps.pdf', bbox_inches='tight')\n",
    "plt.savefig('../code/scratch_figures/figure2/intron_barplot_for_overlaps.png', bbox_inches='tight', dpi=500)"
   ]
  },
  {
   "cell_type": "code",
   "execution_count": 177,
   "id": "e4afcad2-a99a-46ea-b4c1-40fc72420e2c",
   "metadata": {},
   "outputs": [
    {
     "data": {
      "text/plain": [
       "23006"
      ]
     },
     "execution_count": 177,
     "metadata": {},
     "output_type": "execute_result"
    }
   ],
   "source": [
    "3261 + 10613 + 16 + 2077 + 5 + 54 + 3825 + 30 + 3125 "
   ]
  },
  {
   "cell_type": "code",
   "execution_count": 65,
   "id": "07573194-bff2-4ed0-93cc-0eff3d7a812b",
   "metadata": {},
   "outputs": [],
   "source": [
    "def load_matrices_per_tissue(tissue, annotation):\n",
    "    col_names = ['chrom', 'start', 'end', 'gene', 'score', 'strand']\n",
    "    pos_names_intron = [f'bin_{str(i+1)}' for i in range(110)]\n",
    "    pos_names = [f'bin_{str(i+1)}' for i in range(30)]\n",
    "\n",
    "    if 'snmf' in annotation:\n",
    "        fk1_file = f'../code/CoveragePlots/matrices/{tissue}.snmf.flanking_exons_1.mat.gz'\n",
    "        fk2_file = f'../code/CoveragePlots/matrices/{tissue}.snmf.flanking_exons_2.mat.gz'\n",
    "        intron_file = f'../code/CoveragePlots/matrices_split/{tissue}.{annotation}.retained_introns.mat.gz'\n",
    "    elif 'gencode' in annotation:\n",
    "        fk1_file = f'../code/CoveragePlots/matrices/{tissue}.gencode.flanking_exons_1.mat.gz'\n",
    "        fk2_file = f'../code/CoveragePlots/matrices/{tissue}.gencode.flanking_exons_2.mat.gz'\n",
    "        intron_file = f'../code/CoveragePlots/matrices_split/{tissue}.{annotation}.retained_introns.mat.gz'\n",
    "    elif 'appris' in annotation:\n",
    "        fk1_file = f'../code/CoveragePlots/matrices/{tissue}.appris_flanking_exons_1.mat.gz'\n",
    "        fk2_file = f'../code/CoveragePlots/matrices/{tissue}.appris_flanking_exons_2.mat.gz'\n",
    "        intron_file = f'../code/CoveragePlots/matrices_split/{tissue}.appris_introns.mat.gz'\n",
    "\n",
    "    fk1 = pd.read_csv(fk1_file, sep='\\t', skiprows=1, names=col_names + pos_names, index_col=3)\n",
    "\n",
    "    fk2 = pd.read_csv(fk2_file, sep='\\t', skiprows=1, names=col_names + pos_names, index_col=3)\n",
    "    \n",
    "    intron = pd.read_csv(intron_file, sep='\\t', skiprows=1, names=col_names + pos_names_intron, index_col=3)\n",
    "\n",
    "    return fk1, intron, fk2\n",
    "\n",
    "\n",
    "def get_metaplot_input(tissue, annotation):\n",
    "    fk1, intron, fk2 = load_matrices_per_tissue(tissue, annotation)\n",
    "    \n",
    "    col_names = ['chrom', 'start', 'end', 'gene', 'score', 'strand']\n",
    "    pos_names_intron = [f'bin_{str(i+1)}' for i in range(110)]\n",
    "    pos_names = [f'bin_{str(i+1)}' for i in range(30)]\n",
    "    \n",
    "    \n",
    "    pos_introns = intron.loc[intron.strand == '+'].index\n",
    "    neg_introns = intron.loc[intron.strand == '-'].index\n",
    "    \n",
    "    norm_factor_pos = pd.concat([fk1.loc[pos_introns, pos_names[5:25]], fk2.loc[pos_introns, pos_names[5:25]]], axis=1).mean(axis=1)\n",
    "    norm_factor_neg = pd.concat([fk1.loc[neg_introns, pos_names[5:25]], fk2.loc[neg_introns, pos_names[5:25]]], axis=1).mean(axis=1)\n",
    "    \n",
    "    fk1_meta = fk1.loc[norm_factor_pos.index, pos_names[:25]]\n",
    "    intron_meta = intron.loc[norm_factor_pos.index, pos_names_intron[6:-5]]\n",
    "    fk2_meta = fk2.loc[norm_factor_pos.index, pos_names[5:]]\n",
    "    meta_X_pos = pd.concat([fk1_meta, intron_meta, fk2_meta], axis=1)\n",
    "    meta_X_pos.columns = [f'bin_{str(i+1)}' for i in range(meta_X_pos.shape[1])]\n",
    "    idx = norm_factor_pos.loc[norm_factor_pos >= 0.01].index\n",
    "    norm_X_pos = meta_X_pos.loc[idx].divide(norm_factor_pos.loc[idx], axis=0)\n",
    "    \n",
    "    \n",
    "    fk1_meta = fk2.loc[norm_factor_neg.index, pos_names[:25]]\n",
    "    intron_meta = intron.loc[norm_factor_neg.index, pos_names_intron[6:-5]]\n",
    "    fk2_meta = fk1.loc[norm_factor_neg.index, pos_names[5:]]\n",
    "    meta_X_neg = pd.concat([fk1_meta, intron_meta, fk2_meta], axis=1)\n",
    "    meta_X_neg.columns = [f'bin_{str(i+1)}' for i in range(meta_X_pos.shape[1])]\n",
    "    idx = norm_factor_neg.loc[norm_factor_neg >= 0.01].index\n",
    "    norm_X_neg = meta_X_neg.loc[idx].divide(norm_factor_neg.loc[idx], axis=0)\n",
    "    \n",
    "    norm_X = pd.concat([norm_X_pos, norm_X_neg], axis=0)\n",
    "\n",
    "    return norm_X"
   ]
  },
  {
   "cell_type": "code",
   "execution_count": 67,
   "id": "b65579c7-5013-463b-ba44-3939ce436099",
   "metadata": {},
   "outputs": [],
   "source": [
    "norm_X_snmf_gencode = get_metaplot_input('Liver', 'snmf_and_gencode')\n",
    "norm_X_snmf = get_metaplot_input('Liver', 'snmf_only')\n",
    "norm_X_snmf_vastdb = get_metaplot_input('Liver', 'snmf_and_vastdb')\n",
    "norm_X_gencode = get_metaplot_input('Liver', 'gencode_only')\n",
    "norm_X_snmf_gencode_vastdb = get_metaplot_input('Liver', 'snmf_and_gencode_and_vastdb')\n",
    "norm_X_appris = get_metaplot_input('Liver', 'appris_introns')"
   ]
  },
  {
   "cell_type": "code",
   "execution_count": null,
   "id": "bd8a6f9b-1cce-4b12-b3b2-34e5114afa93",
   "metadata": {},
   "outputs": [],
   "source": []
  },
  {
   "cell_type": "code",
   "execution_count": null,
   "id": "cf9b2d35-ad55-4919-a8a9-d4755c5ea5ba",
   "metadata": {},
   "outputs": [],
   "source": []
  },
  {
   "cell_type": "code",
   "execution_count": null,
   "id": "3685c0de-70a0-4457-b9ba-289710fa4072",
   "metadata": {},
   "outputs": [],
   "source": []
  },
  {
   "cell_type": "code",
   "execution_count": null,
   "id": "5015f105-3763-4140-a33a-3e84529b1d9f",
   "metadata": {},
   "outputs": [],
   "source": []
  },
  {
   "cell_type": "code",
   "execution_count": 72,
   "id": "11dbedcf-6f9b-4fa4-a654-3f5b96eadc1f",
   "metadata": {},
   "outputs": [
    {
     "data": {
      "text/plain": [
       "41292"
      ]
     },
     "execution_count": 72,
     "metadata": {},
     "output_type": "execute_result"
    }
   ],
   "source": [
    "366  + 2883  + 5669 + 32374 "
   ]
  },
  {
   "cell_type": "code",
   "execution_count": 71,
   "id": "fba2997c-6305-45ea-8aee-8c2dcca26d50",
   "metadata": {},
   "outputs": [
    {
     "data": {
      "text/html": [
       "<div>\n",
       "<style scoped>\n",
       "    .dataframe tbody tr th:only-of-type {\n",
       "        vertical-align: middle;\n",
       "    }\n",
       "\n",
       "    .dataframe tbody tr th {\n",
       "        vertical-align: top;\n",
       "    }\n",
       "\n",
       "    .dataframe thead th {\n",
       "        text-align: right;\n",
       "    }\n",
       "</style>\n",
       "<table border=\"1\" class=\"dataframe\">\n",
       "  <thead>\n",
       "    <tr style=\"text-align: right;\">\n",
       "      <th></th>\n",
       "      <th>bin_1</th>\n",
       "      <th>bin_2</th>\n",
       "      <th>bin_3</th>\n",
       "      <th>bin_4</th>\n",
       "      <th>bin_5</th>\n",
       "      <th>bin_6</th>\n",
       "      <th>bin_7</th>\n",
       "      <th>bin_8</th>\n",
       "      <th>bin_9</th>\n",
       "      <th>bin_10</th>\n",
       "      <th>...</th>\n",
       "      <th>bin_140</th>\n",
       "      <th>bin_141</th>\n",
       "      <th>bin_142</th>\n",
       "      <th>bin_143</th>\n",
       "      <th>bin_144</th>\n",
       "      <th>bin_145</th>\n",
       "      <th>bin_146</th>\n",
       "      <th>bin_147</th>\n",
       "      <th>bin_148</th>\n",
       "      <th>bin_149</th>\n",
       "    </tr>\n",
       "    <tr>\n",
       "      <th>gene</th>\n",
       "      <th></th>\n",
       "      <th></th>\n",
       "      <th></th>\n",
       "      <th></th>\n",
       "      <th></th>\n",
       "      <th></th>\n",
       "      <th></th>\n",
       "      <th></th>\n",
       "      <th></th>\n",
       "      <th></th>\n",
       "      <th></th>\n",
       "      <th></th>\n",
       "      <th></th>\n",
       "      <th></th>\n",
       "      <th></th>\n",
       "      <th></th>\n",
       "      <th></th>\n",
       "      <th></th>\n",
       "      <th></th>\n",
       "      <th></th>\n",
       "      <th></th>\n",
       "    </tr>\n",
       "  </thead>\n",
       "  <tbody>\n",
       "    <tr>\n",
       "      <th>ENSG00000187634_snmf_intron_2</th>\n",
       "      <td>0.165577</td>\n",
       "      <td>0.190243</td>\n",
       "      <td>0.077510</td>\n",
       "      <td>0.119778</td>\n",
       "      <td>0.250132</td>\n",
       "      <td>0.704614</td>\n",
       "      <td>0.697569</td>\n",
       "      <td>0.695803</td>\n",
       "      <td>0.577791</td>\n",
       "      <td>0.546081</td>\n",
       "      <td>...</td>\n",
       "      <td>0.587190</td>\n",
       "      <td>0.641984</td>\n",
       "      <td>0.923826</td>\n",
       "      <td>0.884685</td>\n",
       "      <td>0.715190</td>\n",
       "      <td>0.088086</td>\n",
       "      <td>0.133885</td>\n",
       "      <td>0.116265</td>\n",
       "      <td>0.137399</td>\n",
       "      <td>0.119778</td>\n",
       "    </tr>\n",
       "    <tr>\n",
       "      <th>ENSG00000215915_snmf_intron_1</th>\n",
       "      <td>0.664149</td>\n",
       "      <td>0.644660</td>\n",
       "      <td>0.679465</td>\n",
       "      <td>0.579216</td>\n",
       "      <td>0.682249</td>\n",
       "      <td>0.592933</td>\n",
       "      <td>0.583475</td>\n",
       "      <td>0.582211</td>\n",
       "      <td>0.796266</td>\n",
       "      <td>0.780747</td>\n",
       "      <td>...</td>\n",
       "      <td>1.271678</td>\n",
       "      <td>1.308809</td>\n",
       "      <td>1.347096</td>\n",
       "      <td>1.336657</td>\n",
       "      <td>1.301845</td>\n",
       "      <td>0.048733</td>\n",
       "      <td>0.022280</td>\n",
       "      <td>0.079365</td>\n",
       "      <td>0.036201</td>\n",
       "      <td>0.004180</td>\n",
       "    </tr>\n",
       "    <tr>\n",
       "      <th>ENSG00000215915_snmf_intron_3</th>\n",
       "      <td>0.012265</td>\n",
       "      <td>0.001938</td>\n",
       "      <td>0.005164</td>\n",
       "      <td>0.010330</td>\n",
       "      <td>0.085215</td>\n",
       "      <td>0.654184</td>\n",
       "      <td>0.671401</td>\n",
       "      <td>0.687538</td>\n",
       "      <td>0.695071</td>\n",
       "      <td>0.771465</td>\n",
       "      <td>...</td>\n",
       "      <td>0.790026</td>\n",
       "      <td>0.834637</td>\n",
       "      <td>0.815042</td>\n",
       "      <td>0.823919</td>\n",
       "      <td>0.857004</td>\n",
       "      <td>0.019367</td>\n",
       "      <td>0.013556</td>\n",
       "      <td>0.000000</td>\n",
       "      <td>0.000000</td>\n",
       "      <td>0.000000</td>\n",
       "    </tr>\n",
       "    <tr>\n",
       "      <th>ENSG00000215915_snmf_intron_5</th>\n",
       "      <td>0.020015</td>\n",
       "      <td>0.007276</td>\n",
       "      <td>0.013948</td>\n",
       "      <td>0.018802</td>\n",
       "      <td>0.073387</td>\n",
       "      <td>0.612560</td>\n",
       "      <td>0.954216</td>\n",
       "      <td>1.008801</td>\n",
       "      <td>1.126056</td>\n",
       "      <td>1.111905</td>\n",
       "      <td>...</td>\n",
       "      <td>0.882016</td>\n",
       "      <td>1.290822</td>\n",
       "      <td>1.656739</td>\n",
       "      <td>1.776014</td>\n",
       "      <td>1.918254</td>\n",
       "      <td>0.000000</td>\n",
       "      <td>0.002425</td>\n",
       "      <td>0.004246</td>\n",
       "      <td>0.000000</td>\n",
       "      <td>0.002425</td>\n",
       "    </tr>\n",
       "    <tr>\n",
       "      <th>ENSG00000215915_snmf_intron_6</th>\n",
       "      <td>0.002694</td>\n",
       "      <td>0.000000</td>\n",
       "      <td>0.001685</td>\n",
       "      <td>0.005726</td>\n",
       "      <td>0.065348</td>\n",
       "      <td>0.537830</td>\n",
       "      <td>0.514811</td>\n",
       "      <td>0.513127</td>\n",
       "      <td>0.505749</td>\n",
       "      <td>0.435653</td>\n",
       "      <td>...</td>\n",
       "      <td>1.397344</td>\n",
       "      <td>1.336713</td>\n",
       "      <td>1.273273</td>\n",
       "      <td>1.264290</td>\n",
       "      <td>1.115437</td>\n",
       "      <td>0.115874</td>\n",
       "      <td>0.109137</td>\n",
       "      <td>0.100717</td>\n",
       "      <td>0.090612</td>\n",
       "      <td>0.116885</td>\n",
       "    </tr>\n",
       "    <tr>\n",
       "      <th>...</th>\n",
       "      <td>...</td>\n",
       "      <td>...</td>\n",
       "      <td>...</td>\n",
       "      <td>...</td>\n",
       "      <td>...</td>\n",
       "      <td>...</td>\n",
       "      <td>...</td>\n",
       "      <td>...</td>\n",
       "      <td>...</td>\n",
       "      <td>...</td>\n",
       "      <td>...</td>\n",
       "      <td>...</td>\n",
       "      <td>...</td>\n",
       "      <td>...</td>\n",
       "      <td>...</td>\n",
       "      <td>...</td>\n",
       "      <td>...</td>\n",
       "      <td>...</td>\n",
       "      <td>...</td>\n",
       "      <td>...</td>\n",
       "      <td>...</td>\n",
       "    </tr>\n",
       "    <tr>\n",
       "      <th>ENSG00000268738_snmf_intron_1</th>\n",
       "      <td>0.601908</td>\n",
       "      <td>0.505863</td>\n",
       "      <td>0.326578</td>\n",
       "      <td>0.288133</td>\n",
       "      <td>0.268945</td>\n",
       "      <td>0.517697</td>\n",
       "      <td>0.824819</td>\n",
       "      <td>0.759697</td>\n",
       "      <td>0.799847</td>\n",
       "      <td>0.424361</td>\n",
       "      <td>...</td>\n",
       "      <td>1.612297</td>\n",
       "      <td>1.962008</td>\n",
       "      <td>1.443943</td>\n",
       "      <td>0.686285</td>\n",
       "      <td>0.433454</td>\n",
       "      <td>0.243337</td>\n",
       "      <td>0.128070</td>\n",
       "      <td>0.089659</td>\n",
       "      <td>0.064019</td>\n",
       "      <td>0.064019</td>\n",
       "    </tr>\n",
       "    <tr>\n",
       "      <th>ENSG00000197021_snmf_intron_1</th>\n",
       "      <td>0.016772</td>\n",
       "      <td>0.018031</td>\n",
       "      <td>0.020127</td>\n",
       "      <td>0.018240</td>\n",
       "      <td>0.016563</td>\n",
       "      <td>0.811771</td>\n",
       "      <td>0.910337</td>\n",
       "      <td>0.891019</td>\n",
       "      <td>0.830519</td>\n",
       "      <td>0.814048</td>\n",
       "      <td>...</td>\n",
       "      <td>0.831792</td>\n",
       "      <td>0.918129</td>\n",
       "      <td>0.796526</td>\n",
       "      <td>0.562589</td>\n",
       "      <td>0.181198</td>\n",
       "      <td>0.026626</td>\n",
       "      <td>0.031028</td>\n",
       "      <td>0.028094</td>\n",
       "      <td>0.028932</td>\n",
       "      <td>0.027254</td>\n",
       "    </tr>\n",
       "    <tr>\n",
       "      <th>ENSG00000130830_snmf_intron_1</th>\n",
       "      <td>0.029984</td>\n",
       "      <td>0.030772</td>\n",
       "      <td>0.031562</td>\n",
       "      <td>0.031562</td>\n",
       "      <td>0.037085</td>\n",
       "      <td>1.059290</td>\n",
       "      <td>1.104659</td>\n",
       "      <td>1.100715</td>\n",
       "      <td>1.078358</td>\n",
       "      <td>1.036933</td>\n",
       "      <td>...</td>\n",
       "      <td>1.219689</td>\n",
       "      <td>1.075728</td>\n",
       "      <td>0.875219</td>\n",
       "      <td>0.528260</td>\n",
       "      <td>0.209295</td>\n",
       "      <td>0.004209</td>\n",
       "      <td>0.000000</td>\n",
       "      <td>0.000000</td>\n",
       "      <td>0.000000</td>\n",
       "      <td>0.000000</td>\n",
       "    </tr>\n",
       "    <tr>\n",
       "      <th>ENSG00000130830_snmf_intron_6</th>\n",
       "      <td>0.014915</td>\n",
       "      <td>0.014915</td>\n",
       "      <td>0.014915</td>\n",
       "      <td>0.014915</td>\n",
       "      <td>0.015659</td>\n",
       "      <td>0.920982</td>\n",
       "      <td>0.952055</td>\n",
       "      <td>0.896746</td>\n",
       "      <td>0.879970</td>\n",
       "      <td>0.897369</td>\n",
       "      <td>...</td>\n",
       "      <td>0.920986</td>\n",
       "      <td>0.929186</td>\n",
       "      <td>0.960507</td>\n",
       "      <td>0.938136</td>\n",
       "      <td>1.003428</td>\n",
       "      <td>0.122302</td>\n",
       "      <td>0.014915</td>\n",
       "      <td>0.012677</td>\n",
       "      <td>0.014915</td>\n",
       "      <td>0.014915</td>\n",
       "    </tr>\n",
       "    <tr>\n",
       "      <th>ENSG00000130830_snmf_intron_7</th>\n",
       "      <td>0.025670</td>\n",
       "      <td>0.022248</td>\n",
       "      <td>0.016257</td>\n",
       "      <td>0.017115</td>\n",
       "      <td>0.017115</td>\n",
       "      <td>0.768432</td>\n",
       "      <td>0.755168</td>\n",
       "      <td>0.765863</td>\n",
       "      <td>0.776563</td>\n",
       "      <td>0.818062</td>\n",
       "      <td>...</td>\n",
       "      <td>1.223673</td>\n",
       "      <td>1.129547</td>\n",
       "      <td>1.225813</td>\n",
       "      <td>1.257899</td>\n",
       "      <td>1.257899</td>\n",
       "      <td>0.142049</td>\n",
       "      <td>0.017115</td>\n",
       "      <td>0.017115</td>\n",
       "      <td>0.017115</td>\n",
       "      <td>0.010266</td>\n",
       "    </tr>\n",
       "  </tbody>\n",
       "</table>\n",
       "<p>2883 rows × 149 columns</p>\n",
       "</div>"
      ],
      "text/plain": [
       "                                  bin_1     bin_2     bin_3     bin_4  \\\n",
       "gene                                                                    \n",
       "ENSG00000187634_snmf_intron_2  0.165577  0.190243  0.077510  0.119778   \n",
       "ENSG00000215915_snmf_intron_1  0.664149  0.644660  0.679465  0.579216   \n",
       "ENSG00000215915_snmf_intron_3  0.012265  0.001938  0.005164  0.010330   \n",
       "ENSG00000215915_snmf_intron_5  0.020015  0.007276  0.013948  0.018802   \n",
       "ENSG00000215915_snmf_intron_6  0.002694  0.000000  0.001685  0.005726   \n",
       "...                                 ...       ...       ...       ...   \n",
       "ENSG00000268738_snmf_intron_1  0.601908  0.505863  0.326578  0.288133   \n",
       "ENSG00000197021_snmf_intron_1  0.016772  0.018031  0.020127  0.018240   \n",
       "ENSG00000130830_snmf_intron_1  0.029984  0.030772  0.031562  0.031562   \n",
       "ENSG00000130830_snmf_intron_6  0.014915  0.014915  0.014915  0.014915   \n",
       "ENSG00000130830_snmf_intron_7  0.025670  0.022248  0.016257  0.017115   \n",
       "\n",
       "                                  bin_5     bin_6     bin_7     bin_8  \\\n",
       "gene                                                                    \n",
       "ENSG00000187634_snmf_intron_2  0.250132  0.704614  0.697569  0.695803   \n",
       "ENSG00000215915_snmf_intron_1  0.682249  0.592933  0.583475  0.582211   \n",
       "ENSG00000215915_snmf_intron_3  0.085215  0.654184  0.671401  0.687538   \n",
       "ENSG00000215915_snmf_intron_5  0.073387  0.612560  0.954216  1.008801   \n",
       "ENSG00000215915_snmf_intron_6  0.065348  0.537830  0.514811  0.513127   \n",
       "...                                 ...       ...       ...       ...   \n",
       "ENSG00000268738_snmf_intron_1  0.268945  0.517697  0.824819  0.759697   \n",
       "ENSG00000197021_snmf_intron_1  0.016563  0.811771  0.910337  0.891019   \n",
       "ENSG00000130830_snmf_intron_1  0.037085  1.059290  1.104659  1.100715   \n",
       "ENSG00000130830_snmf_intron_6  0.015659  0.920982  0.952055  0.896746   \n",
       "ENSG00000130830_snmf_intron_7  0.017115  0.768432  0.755168  0.765863   \n",
       "\n",
       "                                  bin_9    bin_10  ...   bin_140   bin_141  \\\n",
       "gene                                               ...                       \n",
       "ENSG00000187634_snmf_intron_2  0.577791  0.546081  ...  0.587190  0.641984   \n",
       "ENSG00000215915_snmf_intron_1  0.796266  0.780747  ...  1.271678  1.308809   \n",
       "ENSG00000215915_snmf_intron_3  0.695071  0.771465  ...  0.790026  0.834637   \n",
       "ENSG00000215915_snmf_intron_5  1.126056  1.111905  ...  0.882016  1.290822   \n",
       "ENSG00000215915_snmf_intron_6  0.505749  0.435653  ...  1.397344  1.336713   \n",
       "...                                 ...       ...  ...       ...       ...   \n",
       "ENSG00000268738_snmf_intron_1  0.799847  0.424361  ...  1.612297  1.962008   \n",
       "ENSG00000197021_snmf_intron_1  0.830519  0.814048  ...  0.831792  0.918129   \n",
       "ENSG00000130830_snmf_intron_1  1.078358  1.036933  ...  1.219689  1.075728   \n",
       "ENSG00000130830_snmf_intron_6  0.879970  0.897369  ...  0.920986  0.929186   \n",
       "ENSG00000130830_snmf_intron_7  0.776563  0.818062  ...  1.223673  1.129547   \n",
       "\n",
       "                                bin_142   bin_143   bin_144   bin_145  \\\n",
       "gene                                                                    \n",
       "ENSG00000187634_snmf_intron_2  0.923826  0.884685  0.715190  0.088086   \n",
       "ENSG00000215915_snmf_intron_1  1.347096  1.336657  1.301845  0.048733   \n",
       "ENSG00000215915_snmf_intron_3  0.815042  0.823919  0.857004  0.019367   \n",
       "ENSG00000215915_snmf_intron_5  1.656739  1.776014  1.918254  0.000000   \n",
       "ENSG00000215915_snmf_intron_6  1.273273  1.264290  1.115437  0.115874   \n",
       "...                                 ...       ...       ...       ...   \n",
       "ENSG00000268738_snmf_intron_1  1.443943  0.686285  0.433454  0.243337   \n",
       "ENSG00000197021_snmf_intron_1  0.796526  0.562589  0.181198  0.026626   \n",
       "ENSG00000130830_snmf_intron_1  0.875219  0.528260  0.209295  0.004209   \n",
       "ENSG00000130830_snmf_intron_6  0.960507  0.938136  1.003428  0.122302   \n",
       "ENSG00000130830_snmf_intron_7  1.225813  1.257899  1.257899  0.142049   \n",
       "\n",
       "                                bin_146   bin_147   bin_148   bin_149  \n",
       "gene                                                                   \n",
       "ENSG00000187634_snmf_intron_2  0.133885  0.116265  0.137399  0.119778  \n",
       "ENSG00000215915_snmf_intron_1  0.022280  0.079365  0.036201  0.004180  \n",
       "ENSG00000215915_snmf_intron_3  0.013556  0.000000  0.000000  0.000000  \n",
       "ENSG00000215915_snmf_intron_5  0.002425  0.004246  0.000000  0.002425  \n",
       "ENSG00000215915_snmf_intron_6  0.109137  0.100717  0.090612  0.116885  \n",
       "...                                 ...       ...       ...       ...  \n",
       "ENSG00000268738_snmf_intron_1  0.128070  0.089659  0.064019  0.064019  \n",
       "ENSG00000197021_snmf_intron_1  0.031028  0.028094  0.028932  0.027254  \n",
       "ENSG00000130830_snmf_intron_1  0.000000  0.000000  0.000000  0.000000  \n",
       "ENSG00000130830_snmf_intron_6  0.014915  0.012677  0.014915  0.014915  \n",
       "ENSG00000130830_snmf_intron_7  0.017115  0.017115  0.017115  0.010266  \n",
       "\n",
       "[2883 rows x 149 columns]"
      ]
     },
     "execution_count": 71,
     "metadata": {},
     "output_type": "execute_result"
    }
   ],
   "source": [
    "norm_X_snmf"
   ]
  },
  {
   "cell_type": "code",
   "execution_count": 70,
   "id": "e6d4b688-7a81-4532-a30d-2742a4f88f91",
   "metadata": {},
   "outputs": [
    {
     "data": {
      "text/html": [
       "<div>\n",
       "<style scoped>\n",
       "    .dataframe tbody tr th:only-of-type {\n",
       "        vertical-align: middle;\n",
       "    }\n",
       "\n",
       "    .dataframe tbody tr th {\n",
       "        vertical-align: top;\n",
       "    }\n",
       "\n",
       "    .dataframe thead th {\n",
       "        text-align: right;\n",
       "    }\n",
       "</style>\n",
       "<table border=\"1\" class=\"dataframe\">\n",
       "  <thead>\n",
       "    <tr style=\"text-align: right;\">\n",
       "      <th></th>\n",
       "      <th>bin_1</th>\n",
       "      <th>bin_2</th>\n",
       "      <th>bin_3</th>\n",
       "      <th>bin_4</th>\n",
       "      <th>bin_5</th>\n",
       "      <th>bin_6</th>\n",
       "      <th>bin_7</th>\n",
       "      <th>bin_8</th>\n",
       "      <th>bin_9</th>\n",
       "      <th>bin_10</th>\n",
       "      <th>...</th>\n",
       "      <th>bin_140</th>\n",
       "      <th>bin_141</th>\n",
       "      <th>bin_142</th>\n",
       "      <th>bin_143</th>\n",
       "      <th>bin_144</th>\n",
       "      <th>bin_145</th>\n",
       "      <th>bin_146</th>\n",
       "      <th>bin_147</th>\n",
       "      <th>bin_148</th>\n",
       "      <th>bin_149</th>\n",
       "    </tr>\n",
       "    <tr>\n",
       "      <th>gene</th>\n",
       "      <th></th>\n",
       "      <th></th>\n",
       "      <th></th>\n",
       "      <th></th>\n",
       "      <th></th>\n",
       "      <th></th>\n",
       "      <th></th>\n",
       "      <th></th>\n",
       "      <th></th>\n",
       "      <th></th>\n",
       "      <th></th>\n",
       "      <th></th>\n",
       "      <th></th>\n",
       "      <th></th>\n",
       "      <th></th>\n",
       "      <th></th>\n",
       "      <th></th>\n",
       "      <th></th>\n",
       "      <th></th>\n",
       "      <th></th>\n",
       "      <th></th>\n",
       "    </tr>\n",
       "  </thead>\n",
       "  <tbody>\n",
       "    <tr>\n",
       "      <th>ENSG00000187634_snmf_intron_9</th>\n",
       "      <td>0.038207</td>\n",
       "      <td>0.121908</td>\n",
       "      <td>0.078238</td>\n",
       "      <td>0.074600</td>\n",
       "      <td>0.138285</td>\n",
       "      <td>0.647766</td>\n",
       "      <td>0.697497</td>\n",
       "      <td>0.836998</td>\n",
       "      <td>0.921915</td>\n",
       "      <td>1.193631</td>\n",
       "      <td>...</td>\n",
       "      <td>0.786964</td>\n",
       "      <td>0.818806</td>\n",
       "      <td>0.809706</td>\n",
       "      <td>0.814256</td>\n",
       "      <td>0.746021</td>\n",
       "      <td>0.141924</td>\n",
       "      <td>0.090977</td>\n",
       "      <td>0.110993</td>\n",
       "      <td>0.136471</td>\n",
       "      <td>0.134647</td>\n",
       "    </tr>\n",
       "    <tr>\n",
       "      <th>ENSG00000187634_snmf_intron_10</th>\n",
       "      <td>0.478224</td>\n",
       "      <td>0.561189</td>\n",
       "      <td>0.583137</td>\n",
       "      <td>0.395272</td>\n",
       "      <td>0.514821</td>\n",
       "      <td>1.716075</td>\n",
       "      <td>1.695745</td>\n",
       "      <td>1.402953</td>\n",
       "      <td>1.396852</td>\n",
       "      <td>1.311453</td>\n",
       "      <td>...</td>\n",
       "      <td>1.396609</td>\n",
       "      <td>1.498109</td>\n",
       "      <td>1.374164</td>\n",
       "      <td>1.439551</td>\n",
       "      <td>1.592780</td>\n",
       "      <td>0.441627</td>\n",
       "      <td>0.441627</td>\n",
       "      <td>0.453830</td>\n",
       "      <td>0.400150</td>\n",
       "      <td>0.485548</td>\n",
       "    </tr>\n",
       "    <tr>\n",
       "      <th>ENSG00000187961_snmf_intron_2</th>\n",
       "      <td>0.001601</td>\n",
       "      <td>0.052708</td>\n",
       "      <td>0.073472</td>\n",
       "      <td>0.122986</td>\n",
       "      <td>0.100622</td>\n",
       "      <td>0.145075</td>\n",
       "      <td>0.245722</td>\n",
       "      <td>0.340324</td>\n",
       "      <td>0.450903</td>\n",
       "      <td>0.425095</td>\n",
       "      <td>...</td>\n",
       "      <td>1.208541</td>\n",
       "      <td>1.155299</td>\n",
       "      <td>1.083429</td>\n",
       "      <td>1.075440</td>\n",
       "      <td>1.031329</td>\n",
       "      <td>0.313049</td>\n",
       "      <td>0.394509</td>\n",
       "      <td>0.437628</td>\n",
       "      <td>0.445616</td>\n",
       "      <td>0.391315</td>\n",
       "    </tr>\n",
       "    <tr>\n",
       "      <th>ENSG00000187961_snmf_intron_4</th>\n",
       "      <td>0.317394</td>\n",
       "      <td>0.268902</td>\n",
       "      <td>0.285432</td>\n",
       "      <td>0.246860</td>\n",
       "      <td>0.315190</td>\n",
       "      <td>0.867619</td>\n",
       "      <td>0.884650</td>\n",
       "      <td>0.873632</td>\n",
       "      <td>0.950777</td>\n",
       "      <td>1.032927</td>\n",
       "      <td>...</td>\n",
       "      <td>1.212262</td>\n",
       "      <td>1.276553</td>\n",
       "      <td>1.305937</td>\n",
       "      <td>1.326144</td>\n",
       "      <td>1.399612</td>\n",
       "      <td>0.652416</td>\n",
       "      <td>0.575271</td>\n",
       "      <td>0.525681</td>\n",
       "      <td>0.538908</td>\n",
       "      <td>0.544415</td>\n",
       "    </tr>\n",
       "    <tr>\n",
       "      <th>ENSG00000169972_snmf_intron_3</th>\n",
       "      <td>0.056142</td>\n",
       "      <td>0.062379</td>\n",
       "      <td>0.047564</td>\n",
       "      <td>0.042887</td>\n",
       "      <td>0.118520</td>\n",
       "      <td>0.742493</td>\n",
       "      <td>0.752023</td>\n",
       "      <td>0.810937</td>\n",
       "      <td>0.769349</td>\n",
       "      <td>0.772817</td>\n",
       "      <td>...</td>\n",
       "      <td>1.235899</td>\n",
       "      <td>1.325569</td>\n",
       "      <td>1.244672</td>\n",
       "      <td>1.239799</td>\n",
       "      <td>1.309001</td>\n",
       "      <td>0.077974</td>\n",
       "      <td>0.084211</td>\n",
       "      <td>0.070178</td>\n",
       "      <td>0.069397</td>\n",
       "      <td>0.074074</td>\n",
       "    </tr>\n",
       "    <tr>\n",
       "      <th>...</th>\n",
       "      <td>...</td>\n",
       "      <td>...</td>\n",
       "      <td>...</td>\n",
       "      <td>...</td>\n",
       "      <td>...</td>\n",
       "      <td>...</td>\n",
       "      <td>...</td>\n",
       "      <td>...</td>\n",
       "      <td>...</td>\n",
       "      <td>...</td>\n",
       "      <td>...</td>\n",
       "      <td>...</td>\n",
       "      <td>...</td>\n",
       "      <td>...</td>\n",
       "      <td>...</td>\n",
       "      <td>...</td>\n",
       "      <td>...</td>\n",
       "      <td>...</td>\n",
       "      <td>...</td>\n",
       "      <td>...</td>\n",
       "      <td>...</td>\n",
       "    </tr>\n",
       "    <tr>\n",
       "      <th>ENSG00000196924_snmf_intron_8</th>\n",
       "      <td>0.024418</td>\n",
       "      <td>0.029726</td>\n",
       "      <td>0.029373</td>\n",
       "      <td>0.029549</td>\n",
       "      <td>0.040342</td>\n",
       "      <td>0.911917</td>\n",
       "      <td>0.906388</td>\n",
       "      <td>0.946642</td>\n",
       "      <td>0.972299</td>\n",
       "      <td>1.052302</td>\n",
       "      <td>...</td>\n",
       "      <td>0.947527</td>\n",
       "      <td>0.942219</td>\n",
       "      <td>0.949590</td>\n",
       "      <td>0.919216</td>\n",
       "      <td>0.885892</td>\n",
       "      <td>0.105635</td>\n",
       "      <td>0.018048</td>\n",
       "      <td>0.014863</td>\n",
       "      <td>0.013447</td>\n",
       "      <td>0.013447</td>\n",
       "    </tr>\n",
       "    <tr>\n",
       "      <th>ENSG00000196924_snmf_intron_9</th>\n",
       "      <td>0.013676</td>\n",
       "      <td>0.013676</td>\n",
       "      <td>0.011747</td>\n",
       "      <td>0.010345</td>\n",
       "      <td>0.010695</td>\n",
       "      <td>0.920344</td>\n",
       "      <td>0.892275</td>\n",
       "      <td>0.880176</td>\n",
       "      <td>0.860890</td>\n",
       "      <td>0.840375</td>\n",
       "      <td>...</td>\n",
       "      <td>1.027236</td>\n",
       "      <td>1.045429</td>\n",
       "      <td>1.062524</td>\n",
       "      <td>1.007733</td>\n",
       "      <td>1.033466</td>\n",
       "      <td>0.153592</td>\n",
       "      <td>0.043658</td>\n",
       "      <td>0.039100</td>\n",
       "      <td>0.037171</td>\n",
       "      <td>0.034365</td>\n",
       "    </tr>\n",
       "    <tr>\n",
       "      <th>ENSG00000196924_snmf_intron_11</th>\n",
       "      <td>0.004646</td>\n",
       "      <td>0.004646</td>\n",
       "      <td>0.004646</td>\n",
       "      <td>0.004646</td>\n",
       "      <td>0.010452</td>\n",
       "      <td>0.855070</td>\n",
       "      <td>0.887256</td>\n",
       "      <td>0.872324</td>\n",
       "      <td>0.868343</td>\n",
       "      <td>0.864361</td>\n",
       "      <td>...</td>\n",
       "      <td>1.229351</td>\n",
       "      <td>1.266623</td>\n",
       "      <td>1.264523</td>\n",
       "      <td>1.232556</td>\n",
       "      <td>1.177976</td>\n",
       "      <td>0.186974</td>\n",
       "      <td>0.085242</td>\n",
       "      <td>0.091048</td>\n",
       "      <td>0.074325</td>\n",
       "      <td>0.078738</td>\n",
       "    </tr>\n",
       "    <tr>\n",
       "      <th>ENSG00000160211_snmf_intron_1</th>\n",
       "      <td>0.009759</td>\n",
       "      <td>0.009759</td>\n",
       "      <td>0.009759</td>\n",
       "      <td>0.021475</td>\n",
       "      <td>0.030261</td>\n",
       "      <td>1.538384</td>\n",
       "      <td>1.450531</td>\n",
       "      <td>1.412951</td>\n",
       "      <td>1.403676</td>\n",
       "      <td>1.412951</td>\n",
       "      <td>...</td>\n",
       "      <td>1.222955</td>\n",
       "      <td>0.841984</td>\n",
       "      <td>0.758034</td>\n",
       "      <td>0.659866</td>\n",
       "      <td>0.310690</td>\n",
       "      <td>0.000978</td>\n",
       "      <td>0.000000</td>\n",
       "      <td>0.000000</td>\n",
       "      <td>0.000000</td>\n",
       "      <td>0.000000</td>\n",
       "    </tr>\n",
       "    <tr>\n",
       "      <th>ENSG00000160211_snmf_intron_4</th>\n",
       "      <td>0.127779</td>\n",
       "      <td>0.135184</td>\n",
       "      <td>0.119445</td>\n",
       "      <td>0.129630</td>\n",
       "      <td>0.133333</td>\n",
       "      <td>0.790735</td>\n",
       "      <td>0.877569</td>\n",
       "      <td>0.895054</td>\n",
       "      <td>0.863884</td>\n",
       "      <td>0.782918</td>\n",
       "      <td>...</td>\n",
       "      <td>1.283663</td>\n",
       "      <td>1.349527</td>\n",
       "      <td>1.313262</td>\n",
       "      <td>1.388881</td>\n",
       "      <td>1.352684</td>\n",
       "      <td>0.138887</td>\n",
       "      <td>0.000000</td>\n",
       "      <td>0.009257</td>\n",
       "      <td>0.009257</td>\n",
       "      <td>0.016668</td>\n",
       "    </tr>\n",
       "  </tbody>\n",
       "</table>\n",
       "<p>5669 rows × 149 columns</p>\n",
       "</div>"
      ],
      "text/plain": [
       "                                   bin_1     bin_2     bin_3     bin_4  \\\n",
       "gene                                                                     \n",
       "ENSG00000187634_snmf_intron_9   0.038207  0.121908  0.078238  0.074600   \n",
       "ENSG00000187634_snmf_intron_10  0.478224  0.561189  0.583137  0.395272   \n",
       "ENSG00000187961_snmf_intron_2   0.001601  0.052708  0.073472  0.122986   \n",
       "ENSG00000187961_snmf_intron_4   0.317394  0.268902  0.285432  0.246860   \n",
       "ENSG00000169972_snmf_intron_3   0.056142  0.062379  0.047564  0.042887   \n",
       "...                                  ...       ...       ...       ...   \n",
       "ENSG00000196924_snmf_intron_8   0.024418  0.029726  0.029373  0.029549   \n",
       "ENSG00000196924_snmf_intron_9   0.013676  0.013676  0.011747  0.010345   \n",
       "ENSG00000196924_snmf_intron_11  0.004646  0.004646  0.004646  0.004646   \n",
       "ENSG00000160211_snmf_intron_1   0.009759  0.009759  0.009759  0.021475   \n",
       "ENSG00000160211_snmf_intron_4   0.127779  0.135184  0.119445  0.129630   \n",
       "\n",
       "                                   bin_5     bin_6     bin_7     bin_8  \\\n",
       "gene                                                                     \n",
       "ENSG00000187634_snmf_intron_9   0.138285  0.647766  0.697497  0.836998   \n",
       "ENSG00000187634_snmf_intron_10  0.514821  1.716075  1.695745  1.402953   \n",
       "ENSG00000187961_snmf_intron_2   0.100622  0.145075  0.245722  0.340324   \n",
       "ENSG00000187961_snmf_intron_4   0.315190  0.867619  0.884650  0.873632   \n",
       "ENSG00000169972_snmf_intron_3   0.118520  0.742493  0.752023  0.810937   \n",
       "...                                  ...       ...       ...       ...   \n",
       "ENSG00000196924_snmf_intron_8   0.040342  0.911917  0.906388  0.946642   \n",
       "ENSG00000196924_snmf_intron_9   0.010695  0.920344  0.892275  0.880176   \n",
       "ENSG00000196924_snmf_intron_11  0.010452  0.855070  0.887256  0.872324   \n",
       "ENSG00000160211_snmf_intron_1   0.030261  1.538384  1.450531  1.412951   \n",
       "ENSG00000160211_snmf_intron_4   0.133333  0.790735  0.877569  0.895054   \n",
       "\n",
       "                                   bin_9    bin_10  ...   bin_140   bin_141  \\\n",
       "gene                                                ...                       \n",
       "ENSG00000187634_snmf_intron_9   0.921915  1.193631  ...  0.786964  0.818806   \n",
       "ENSG00000187634_snmf_intron_10  1.396852  1.311453  ...  1.396609  1.498109   \n",
       "ENSG00000187961_snmf_intron_2   0.450903  0.425095  ...  1.208541  1.155299   \n",
       "ENSG00000187961_snmf_intron_4   0.950777  1.032927  ...  1.212262  1.276553   \n",
       "ENSG00000169972_snmf_intron_3   0.769349  0.772817  ...  1.235899  1.325569   \n",
       "...                                  ...       ...  ...       ...       ...   \n",
       "ENSG00000196924_snmf_intron_8   0.972299  1.052302  ...  0.947527  0.942219   \n",
       "ENSG00000196924_snmf_intron_9   0.860890  0.840375  ...  1.027236  1.045429   \n",
       "ENSG00000196924_snmf_intron_11  0.868343  0.864361  ...  1.229351  1.266623   \n",
       "ENSG00000160211_snmf_intron_1   1.403676  1.412951  ...  1.222955  0.841984   \n",
       "ENSG00000160211_snmf_intron_4   0.863884  0.782918  ...  1.283663  1.349527   \n",
       "\n",
       "                                 bin_142   bin_143   bin_144   bin_145  \\\n",
       "gene                                                                     \n",
       "ENSG00000187634_snmf_intron_9   0.809706  0.814256  0.746021  0.141924   \n",
       "ENSG00000187634_snmf_intron_10  1.374164  1.439551  1.592780  0.441627   \n",
       "ENSG00000187961_snmf_intron_2   1.083429  1.075440  1.031329  0.313049   \n",
       "ENSG00000187961_snmf_intron_4   1.305937  1.326144  1.399612  0.652416   \n",
       "ENSG00000169972_snmf_intron_3   1.244672  1.239799  1.309001  0.077974   \n",
       "...                                  ...       ...       ...       ...   \n",
       "ENSG00000196924_snmf_intron_8   0.949590  0.919216  0.885892  0.105635   \n",
       "ENSG00000196924_snmf_intron_9   1.062524  1.007733  1.033466  0.153592   \n",
       "ENSG00000196924_snmf_intron_11  1.264523  1.232556  1.177976  0.186974   \n",
       "ENSG00000160211_snmf_intron_1   0.758034  0.659866  0.310690  0.000978   \n",
       "ENSG00000160211_snmf_intron_4   1.313262  1.388881  1.352684  0.138887   \n",
       "\n",
       "                                 bin_146   bin_147   bin_148   bin_149  \n",
       "gene                                                                    \n",
       "ENSG00000187634_snmf_intron_9   0.090977  0.110993  0.136471  0.134647  \n",
       "ENSG00000187634_snmf_intron_10  0.441627  0.453830  0.400150  0.485548  \n",
       "ENSG00000187961_snmf_intron_2   0.394509  0.437628  0.445616  0.391315  \n",
       "ENSG00000187961_snmf_intron_4   0.575271  0.525681  0.538908  0.544415  \n",
       "ENSG00000169972_snmf_intron_3   0.084211  0.070178  0.069397  0.074074  \n",
       "...                                  ...       ...       ...       ...  \n",
       "ENSG00000196924_snmf_intron_8   0.018048  0.014863  0.013447  0.013447  \n",
       "ENSG00000196924_snmf_intron_9   0.043658  0.039100  0.037171  0.034365  \n",
       "ENSG00000196924_snmf_intron_11  0.085242  0.091048  0.074325  0.078738  \n",
       "ENSG00000160211_snmf_intron_1   0.000000  0.000000  0.000000  0.000000  \n",
       "ENSG00000160211_snmf_intron_4   0.000000  0.009257  0.009257  0.016668  \n",
       "\n",
       "[5669 rows x 149 columns]"
      ]
     },
     "execution_count": 70,
     "metadata": {},
     "output_type": "execute_result"
    }
   ],
   "source": [
    "norm_X_snmf_gencode_vastdb"
   ]
  },
  {
   "cell_type": "code",
   "execution_count": 68,
   "id": "9d845ba0-ac8a-44ea-8430-1cf2e8a448c7",
   "metadata": {},
   "outputs": [
    {
     "data": {
      "text/html": [
       "<div>\n",
       "<style scoped>\n",
       "    .dataframe tbody tr th:only-of-type {\n",
       "        vertical-align: middle;\n",
       "    }\n",
       "\n",
       "    .dataframe tbody tr th {\n",
       "        vertical-align: top;\n",
       "    }\n",
       "\n",
       "    .dataframe thead th {\n",
       "        text-align: right;\n",
       "    }\n",
       "</style>\n",
       "<table border=\"1\" class=\"dataframe\">\n",
       "  <thead>\n",
       "    <tr style=\"text-align: right;\">\n",
       "      <th></th>\n",
       "      <th>bin_1</th>\n",
       "      <th>bin_2</th>\n",
       "      <th>bin_3</th>\n",
       "      <th>bin_4</th>\n",
       "      <th>bin_5</th>\n",
       "      <th>bin_6</th>\n",
       "      <th>bin_7</th>\n",
       "      <th>bin_8</th>\n",
       "      <th>bin_9</th>\n",
       "      <th>bin_10</th>\n",
       "      <th>...</th>\n",
       "      <th>bin_140</th>\n",
       "      <th>bin_141</th>\n",
       "      <th>bin_142</th>\n",
       "      <th>bin_143</th>\n",
       "      <th>bin_144</th>\n",
       "      <th>bin_145</th>\n",
       "      <th>bin_146</th>\n",
       "      <th>bin_147</th>\n",
       "      <th>bin_148</th>\n",
       "      <th>bin_149</th>\n",
       "    </tr>\n",
       "    <tr>\n",
       "      <th>gene</th>\n",
       "      <th></th>\n",
       "      <th></th>\n",
       "      <th></th>\n",
       "      <th></th>\n",
       "      <th></th>\n",
       "      <th></th>\n",
       "      <th></th>\n",
       "      <th></th>\n",
       "      <th></th>\n",
       "      <th></th>\n",
       "      <th></th>\n",
       "      <th></th>\n",
       "      <th></th>\n",
       "      <th></th>\n",
       "      <th></th>\n",
       "      <th></th>\n",
       "      <th></th>\n",
       "      <th></th>\n",
       "      <th></th>\n",
       "      <th></th>\n",
       "      <th></th>\n",
       "    </tr>\n",
       "  </thead>\n",
       "  <tbody>\n",
       "    <tr>\n",
       "      <th>ENSG00000187634_snmf_intron_3</th>\n",
       "      <td>0.951212</td>\n",
       "      <td>1.127739</td>\n",
       "      <td>1.073803</td>\n",
       "      <td>1.063973</td>\n",
       "      <td>1.274827</td>\n",
       "      <td>2.424325</td>\n",
       "      <td>2.228215</td>\n",
       "      <td>2.053864</td>\n",
       "      <td>1.814161</td>\n",
       "      <td>1.737903</td>\n",
       "      <td>...</td>\n",
       "      <td>0.833536</td>\n",
       "      <td>0.931604</td>\n",
       "      <td>0.833536</td>\n",
       "      <td>0.882557</td>\n",
       "      <td>0.931604</td>\n",
       "      <td>0.191220</td>\n",
       "      <td>0.009804</td>\n",
       "      <td>0.024523</td>\n",
       "      <td>0.156893</td>\n",
       "      <td>0.264765</td>\n",
       "    </tr>\n",
       "    <tr>\n",
       "      <th>ENSG00000187634_snmf_intron_4</th>\n",
       "      <td>0.027042</td>\n",
       "      <td>0.015447</td>\n",
       "      <td>0.003872</td>\n",
       "      <td>0.038618</td>\n",
       "      <td>0.127468</td>\n",
       "      <td>0.733896</td>\n",
       "      <td>0.733896</td>\n",
       "      <td>0.753215</td>\n",
       "      <td>0.733896</td>\n",
       "      <td>0.637322</td>\n",
       "      <td>...</td>\n",
       "      <td>1.178090</td>\n",
       "      <td>1.139472</td>\n",
       "      <td>1.126586</td>\n",
       "      <td>1.416289</td>\n",
       "      <td>1.815412</td>\n",
       "      <td>0.027042</td>\n",
       "      <td>0.073384</td>\n",
       "      <td>0.061808</td>\n",
       "      <td>0.050213</td>\n",
       "      <td>0.027042</td>\n",
       "    </tr>\n",
       "    <tr>\n",
       "      <th>ENSG00000187634_snmf_intron_5</th>\n",
       "      <td>0.112090</td>\n",
       "      <td>0.097337</td>\n",
       "      <td>0.103235</td>\n",
       "      <td>0.120929</td>\n",
       "      <td>0.200572</td>\n",
       "      <td>0.929116</td>\n",
       "      <td>1.027424</td>\n",
       "      <td>0.997935</td>\n",
       "      <td>0.968430</td>\n",
       "      <td>1.108192</td>\n",
       "      <td>...</td>\n",
       "      <td>0.949751</td>\n",
       "      <td>1.113458</td>\n",
       "      <td>1.274209</td>\n",
       "      <td>1.260935</td>\n",
       "      <td>1.097228</td>\n",
       "      <td>0.041300</td>\n",
       "      <td>0.000000</td>\n",
       "      <td>0.017693</td>\n",
       "      <td>0.011796</td>\n",
       "      <td>0.000000</td>\n",
       "    </tr>\n",
       "    <tr>\n",
       "      <th>ENSG00000187634_snmf_intron_11</th>\n",
       "      <td>0.123446</td>\n",
       "      <td>0.136742</td>\n",
       "      <td>0.150039</td>\n",
       "      <td>0.153836</td>\n",
       "      <td>0.146241</td>\n",
       "      <td>0.957513</td>\n",
       "      <td>0.982261</td>\n",
       "      <td>0.814375</td>\n",
       "      <td>0.669274</td>\n",
       "      <td>0.284877</td>\n",
       "      <td>...</td>\n",
       "      <td>1.459218</td>\n",
       "      <td>1.503530</td>\n",
       "      <td>1.427559</td>\n",
       "      <td>1.335763</td>\n",
       "      <td>1.397267</td>\n",
       "      <td>0.288675</td>\n",
       "      <td>0.286781</td>\n",
       "      <td>0.246892</td>\n",
       "      <td>0.169027</td>\n",
       "      <td>0.159528</td>\n",
       "    </tr>\n",
       "    <tr>\n",
       "      <th>ENSG00000187634_snmf_intron_12</th>\n",
       "      <td>0.220709</td>\n",
       "      <td>0.247048</td>\n",
       "      <td>0.269616</td>\n",
       "      <td>0.311000</td>\n",
       "      <td>0.386246</td>\n",
       "      <td>0.810942</td>\n",
       "      <td>0.796316</td>\n",
       "      <td>0.796316</td>\n",
       "      <td>0.810942</td>\n",
       "      <td>0.818707</td>\n",
       "      <td>...</td>\n",
       "      <td>1.391984</td>\n",
       "      <td>1.479767</td>\n",
       "      <td>1.396161</td>\n",
       "      <td>1.256544</td>\n",
       "      <td>1.241499</td>\n",
       "      <td>0.328559</td>\n",
       "      <td>0.285918</td>\n",
       "      <td>0.275888</td>\n",
       "      <td>0.267108</td>\n",
       "      <td>0.258335</td>\n",
       "    </tr>\n",
       "    <tr>\n",
       "      <th>...</th>\n",
       "      <td>...</td>\n",
       "      <td>...</td>\n",
       "      <td>...</td>\n",
       "      <td>...</td>\n",
       "      <td>...</td>\n",
       "      <td>...</td>\n",
       "      <td>...</td>\n",
       "      <td>...</td>\n",
       "      <td>...</td>\n",
       "      <td>...</td>\n",
       "      <td>...</td>\n",
       "      <td>...</td>\n",
       "      <td>...</td>\n",
       "      <td>...</td>\n",
       "      <td>...</td>\n",
       "      <td>...</td>\n",
       "      <td>...</td>\n",
       "      <td>...</td>\n",
       "      <td>...</td>\n",
       "      <td>...</td>\n",
       "      <td>...</td>\n",
       "    </tr>\n",
       "    <tr>\n",
       "      <th>ENSG00000185010_snmf_intron_16</th>\n",
       "      <td>0.555187</td>\n",
       "      <td>0.585190</td>\n",
       "      <td>0.300116</td>\n",
       "      <td>0.345082</td>\n",
       "      <td>0.495179</td>\n",
       "      <td>1.650597</td>\n",
       "      <td>1.900655</td>\n",
       "      <td>1.750636</td>\n",
       "      <td>1.750636</td>\n",
       "      <td>1.800616</td>\n",
       "      <td>...</td>\n",
       "      <td>0.300116</td>\n",
       "      <td>0.300116</td>\n",
       "      <td>0.450134</td>\n",
       "      <td>0.450134</td>\n",
       "      <td>0.436504</td>\n",
       "      <td>0.030004</td>\n",
       "      <td>0.000000</td>\n",
       "      <td>0.000000</td>\n",
       "      <td>0.000000</td>\n",
       "      <td>0.000000</td>\n",
       "    </tr>\n",
       "    <tr>\n",
       "      <th>ENSG00000185010_snmf_intron_17</th>\n",
       "      <td>0.532684</td>\n",
       "      <td>0.675365</td>\n",
       "      <td>0.656344</td>\n",
       "      <td>0.570775</td>\n",
       "      <td>0.570775</td>\n",
       "      <td>1.379336</td>\n",
       "      <td>1.236605</td>\n",
       "      <td>1.284182</td>\n",
       "      <td>1.300024</td>\n",
       "      <td>1.236605</td>\n",
       "      <td>...</td>\n",
       "      <td>0.618302</td>\n",
       "      <td>0.697564</td>\n",
       "      <td>0.745141</td>\n",
       "      <td>0.856138</td>\n",
       "      <td>0.837117</td>\n",
       "      <td>0.865623</td>\n",
       "      <td>1.046396</td>\n",
       "      <td>1.027326</td>\n",
       "      <td>1.046396</td>\n",
       "      <td>1.141501</td>\n",
       "    </tr>\n",
       "    <tr>\n",
       "      <th>ENSG00000155962_snmf_intron_1</th>\n",
       "      <td>0.062557</td>\n",
       "      <td>0.062557</td>\n",
       "      <td>0.062557</td>\n",
       "      <td>0.040659</td>\n",
       "      <td>0.031270</td>\n",
       "      <td>0.907030</td>\n",
       "      <td>0.856982</td>\n",
       "      <td>0.844473</td>\n",
       "      <td>0.813203</td>\n",
       "      <td>0.849682</td>\n",
       "      <td>...</td>\n",
       "      <td>0.875760</td>\n",
       "      <td>0.880218</td>\n",
       "      <td>0.880969</td>\n",
       "      <td>0.792351</td>\n",
       "      <td>0.813203</td>\n",
       "      <td>0.081319</td>\n",
       "      <td>0.000000</td>\n",
       "      <td>0.000000</td>\n",
       "      <td>0.000000</td>\n",
       "      <td>0.000000</td>\n",
       "    </tr>\n",
       "    <tr>\n",
       "      <th>ENSG00000185973_snmf_intron_3</th>\n",
       "      <td>0.013024</td>\n",
       "      <td>0.007814</td>\n",
       "      <td>0.000000</td>\n",
       "      <td>0.000000</td>\n",
       "      <td>0.000000</td>\n",
       "      <td>0.545809</td>\n",
       "      <td>0.535533</td>\n",
       "      <td>0.531188</td>\n",
       "      <td>0.518164</td>\n",
       "      <td>0.484874</td>\n",
       "      <td>...</td>\n",
       "      <td>1.550146</td>\n",
       "      <td>1.561728</td>\n",
       "      <td>1.502384</td>\n",
       "      <td>1.402513</td>\n",
       "      <td>1.501295</td>\n",
       "      <td>0.578372</td>\n",
       "      <td>0.432480</td>\n",
       "      <td>0.349108</td>\n",
       "      <td>0.278767</td>\n",
       "      <td>0.254019</td>\n",
       "    </tr>\n",
       "    <tr>\n",
       "      <th>ENSG00000185973_snmf_intron_4</th>\n",
       "      <td>0.000000</td>\n",
       "      <td>0.005324</td>\n",
       "      <td>0.026620</td>\n",
       "      <td>0.026620</td>\n",
       "      <td>0.026620</td>\n",
       "      <td>0.026620</td>\n",
       "      <td>0.026620</td>\n",
       "      <td>0.026620</td>\n",
       "      <td>0.026620</td>\n",
       "      <td>0.046596</td>\n",
       "      <td>...</td>\n",
       "      <td>1.884519</td>\n",
       "      <td>1.715888</td>\n",
       "      <td>1.621210</td>\n",
       "      <td>1.378627</td>\n",
       "      <td>1.505833</td>\n",
       "      <td>0.165086</td>\n",
       "      <td>0.000000</td>\n",
       "      <td>0.000000</td>\n",
       "      <td>0.000000</td>\n",
       "      <td>0.000000</td>\n",
       "    </tr>\n",
       "  </tbody>\n",
       "</table>\n",
       "<p>32374 rows × 149 columns</p>\n",
       "</div>"
      ],
      "text/plain": [
       "                                   bin_1     bin_2     bin_3     bin_4  \\\n",
       "gene                                                                     \n",
       "ENSG00000187634_snmf_intron_3   0.951212  1.127739  1.073803  1.063973   \n",
       "ENSG00000187634_snmf_intron_4   0.027042  0.015447  0.003872  0.038618   \n",
       "ENSG00000187634_snmf_intron_5   0.112090  0.097337  0.103235  0.120929   \n",
       "ENSG00000187634_snmf_intron_11  0.123446  0.136742  0.150039  0.153836   \n",
       "ENSG00000187634_snmf_intron_12  0.220709  0.247048  0.269616  0.311000   \n",
       "...                                  ...       ...       ...       ...   \n",
       "ENSG00000185010_snmf_intron_16  0.555187  0.585190  0.300116  0.345082   \n",
       "ENSG00000185010_snmf_intron_17  0.532684  0.675365  0.656344  0.570775   \n",
       "ENSG00000155962_snmf_intron_1   0.062557  0.062557  0.062557  0.040659   \n",
       "ENSG00000185973_snmf_intron_3   0.013024  0.007814  0.000000  0.000000   \n",
       "ENSG00000185973_snmf_intron_4   0.000000  0.005324  0.026620  0.026620   \n",
       "\n",
       "                                   bin_5     bin_6     bin_7     bin_8  \\\n",
       "gene                                                                     \n",
       "ENSG00000187634_snmf_intron_3   1.274827  2.424325  2.228215  2.053864   \n",
       "ENSG00000187634_snmf_intron_4   0.127468  0.733896  0.733896  0.753215   \n",
       "ENSG00000187634_snmf_intron_5   0.200572  0.929116  1.027424  0.997935   \n",
       "ENSG00000187634_snmf_intron_11  0.146241  0.957513  0.982261  0.814375   \n",
       "ENSG00000187634_snmf_intron_12  0.386246  0.810942  0.796316  0.796316   \n",
       "...                                  ...       ...       ...       ...   \n",
       "ENSG00000185010_snmf_intron_16  0.495179  1.650597  1.900655  1.750636   \n",
       "ENSG00000185010_snmf_intron_17  0.570775  1.379336  1.236605  1.284182   \n",
       "ENSG00000155962_snmf_intron_1   0.031270  0.907030  0.856982  0.844473   \n",
       "ENSG00000185973_snmf_intron_3   0.000000  0.545809  0.535533  0.531188   \n",
       "ENSG00000185973_snmf_intron_4   0.026620  0.026620  0.026620  0.026620   \n",
       "\n",
       "                                   bin_9    bin_10  ...   bin_140   bin_141  \\\n",
       "gene                                                ...                       \n",
       "ENSG00000187634_snmf_intron_3   1.814161  1.737903  ...  0.833536  0.931604   \n",
       "ENSG00000187634_snmf_intron_4   0.733896  0.637322  ...  1.178090  1.139472   \n",
       "ENSG00000187634_snmf_intron_5   0.968430  1.108192  ...  0.949751  1.113458   \n",
       "ENSG00000187634_snmf_intron_11  0.669274  0.284877  ...  1.459218  1.503530   \n",
       "ENSG00000187634_snmf_intron_12  0.810942  0.818707  ...  1.391984  1.479767   \n",
       "...                                  ...       ...  ...       ...       ...   \n",
       "ENSG00000185010_snmf_intron_16  1.750636  1.800616  ...  0.300116  0.300116   \n",
       "ENSG00000185010_snmf_intron_17  1.300024  1.236605  ...  0.618302  0.697564   \n",
       "ENSG00000155962_snmf_intron_1   0.813203  0.849682  ...  0.875760  0.880218   \n",
       "ENSG00000185973_snmf_intron_3   0.518164  0.484874  ...  1.550146  1.561728   \n",
       "ENSG00000185973_snmf_intron_4   0.026620  0.046596  ...  1.884519  1.715888   \n",
       "\n",
       "                                 bin_142   bin_143   bin_144   bin_145  \\\n",
       "gene                                                                     \n",
       "ENSG00000187634_snmf_intron_3   0.833536  0.882557  0.931604  0.191220   \n",
       "ENSG00000187634_snmf_intron_4   1.126586  1.416289  1.815412  0.027042   \n",
       "ENSG00000187634_snmf_intron_5   1.274209  1.260935  1.097228  0.041300   \n",
       "ENSG00000187634_snmf_intron_11  1.427559  1.335763  1.397267  0.288675   \n",
       "ENSG00000187634_snmf_intron_12  1.396161  1.256544  1.241499  0.328559   \n",
       "...                                  ...       ...       ...       ...   \n",
       "ENSG00000185010_snmf_intron_16  0.450134  0.450134  0.436504  0.030004   \n",
       "ENSG00000185010_snmf_intron_17  0.745141  0.856138  0.837117  0.865623   \n",
       "ENSG00000155962_snmf_intron_1   0.880969  0.792351  0.813203  0.081319   \n",
       "ENSG00000185973_snmf_intron_3   1.502384  1.402513  1.501295  0.578372   \n",
       "ENSG00000185973_snmf_intron_4   1.621210  1.378627  1.505833  0.165086   \n",
       "\n",
       "                                 bin_146   bin_147   bin_148   bin_149  \n",
       "gene                                                                    \n",
       "ENSG00000187634_snmf_intron_3   0.009804  0.024523  0.156893  0.264765  \n",
       "ENSG00000187634_snmf_intron_4   0.073384  0.061808  0.050213  0.027042  \n",
       "ENSG00000187634_snmf_intron_5   0.000000  0.017693  0.011796  0.000000  \n",
       "ENSG00000187634_snmf_intron_11  0.286781  0.246892  0.169027  0.159528  \n",
       "ENSG00000187634_snmf_intron_12  0.285918  0.275888  0.267108  0.258335  \n",
       "...                                  ...       ...       ...       ...  \n",
       "ENSG00000185010_snmf_intron_16  0.000000  0.000000  0.000000  0.000000  \n",
       "ENSG00000185010_snmf_intron_17  1.046396  1.027326  1.046396  1.141501  \n",
       "ENSG00000155962_snmf_intron_1   0.000000  0.000000  0.000000  0.000000  \n",
       "ENSG00000185973_snmf_intron_3   0.432480  0.349108  0.278767  0.254019  \n",
       "ENSG00000185973_snmf_intron_4   0.000000  0.000000  0.000000  0.000000  \n",
       "\n",
       "[32374 rows x 149 columns]"
      ]
     },
     "execution_count": 68,
     "metadata": {},
     "output_type": "execute_result"
    }
   ],
   "source": [
    "norm_X_snmf_vastdb"
   ]
  },
  {
   "cell_type": "code",
   "execution_count": 69,
   "id": "8fd4fc4b-7215-4af4-a56e-c8ce8f4d62f2",
   "metadata": {},
   "outputs": [
    {
     "data": {
      "text/html": [
       "<div>\n",
       "<style scoped>\n",
       "    .dataframe tbody tr th:only-of-type {\n",
       "        vertical-align: middle;\n",
       "    }\n",
       "\n",
       "    .dataframe tbody tr th {\n",
       "        vertical-align: top;\n",
       "    }\n",
       "\n",
       "    .dataframe thead th {\n",
       "        text-align: right;\n",
       "    }\n",
       "</style>\n",
       "<table border=\"1\" class=\"dataframe\">\n",
       "  <thead>\n",
       "    <tr style=\"text-align: right;\">\n",
       "      <th></th>\n",
       "      <th>bin_1</th>\n",
       "      <th>bin_2</th>\n",
       "      <th>bin_3</th>\n",
       "      <th>bin_4</th>\n",
       "      <th>bin_5</th>\n",
       "      <th>bin_6</th>\n",
       "      <th>bin_7</th>\n",
       "      <th>bin_8</th>\n",
       "      <th>bin_9</th>\n",
       "      <th>bin_10</th>\n",
       "      <th>...</th>\n",
       "      <th>bin_140</th>\n",
       "      <th>bin_141</th>\n",
       "      <th>bin_142</th>\n",
       "      <th>bin_143</th>\n",
       "      <th>bin_144</th>\n",
       "      <th>bin_145</th>\n",
       "      <th>bin_146</th>\n",
       "      <th>bin_147</th>\n",
       "      <th>bin_148</th>\n",
       "      <th>bin_149</th>\n",
       "    </tr>\n",
       "    <tr>\n",
       "      <th>gene</th>\n",
       "      <th></th>\n",
       "      <th></th>\n",
       "      <th></th>\n",
       "      <th></th>\n",
       "      <th></th>\n",
       "      <th></th>\n",
       "      <th></th>\n",
       "      <th></th>\n",
       "      <th></th>\n",
       "      <th></th>\n",
       "      <th></th>\n",
       "      <th></th>\n",
       "      <th></th>\n",
       "      <th></th>\n",
       "      <th></th>\n",
       "      <th></th>\n",
       "      <th></th>\n",
       "      <th></th>\n",
       "      <th></th>\n",
       "      <th></th>\n",
       "      <th></th>\n",
       "    </tr>\n",
       "  </thead>\n",
       "  <tbody>\n",
       "    <tr>\n",
       "      <th>ENSG00000160072_snmf_intron_8</th>\n",
       "      <td>0.019881</td>\n",
       "      <td>0.014561</td>\n",
       "      <td>0.019601</td>\n",
       "      <td>0.029121</td>\n",
       "      <td>0.138049</td>\n",
       "      <td>0.963263</td>\n",
       "      <td>1.006199</td>\n",
       "      <td>1.081804</td>\n",
       "      <td>1.051935</td>\n",
       "      <td>1.020200</td>\n",
       "      <td>...</td>\n",
       "      <td>0.985664</td>\n",
       "      <td>1.140607</td>\n",
       "      <td>1.237680</td>\n",
       "      <td>1.258682</td>\n",
       "      <td>1.284483</td>\n",
       "      <td>0.000281</td>\n",
       "      <td>0.001120</td>\n",
       "      <td>0.001960</td>\n",
       "      <td>0.000000</td>\n",
       "      <td>0.001120</td>\n",
       "    </tr>\n",
       "    <tr>\n",
       "      <th>ENSG00000197785_snmf_intron_3</th>\n",
       "      <td>0.051804</td>\n",
       "      <td>0.066936</td>\n",
       "      <td>0.082837</td>\n",
       "      <td>0.096685</td>\n",
       "      <td>0.175675</td>\n",
       "      <td>0.670898</td>\n",
       "      <td>0.688851</td>\n",
       "      <td>0.725781</td>\n",
       "      <td>0.733987</td>\n",
       "      <td>0.753478</td>\n",
       "      <td>...</td>\n",
       "      <td>1.234425</td>\n",
       "      <td>1.267765</td>\n",
       "      <td>1.328462</td>\n",
       "      <td>1.303669</td>\n",
       "      <td>1.300250</td>\n",
       "      <td>0.007693</td>\n",
       "      <td>0.001283</td>\n",
       "      <td>0.005129</td>\n",
       "      <td>0.007951</td>\n",
       "      <td>0.005898</td>\n",
       "    </tr>\n",
       "    <tr>\n",
       "      <th>ENSG00000149527_snmf_intron_4</th>\n",
       "      <td>0.007730</td>\n",
       "      <td>0.007730</td>\n",
       "      <td>0.007730</td>\n",
       "      <td>0.007730</td>\n",
       "      <td>0.064942</td>\n",
       "      <td>0.518207</td>\n",
       "      <td>0.672057</td>\n",
       "      <td>0.661235</td>\n",
       "      <td>0.585656</td>\n",
       "      <td>0.653113</td>\n",
       "      <td>...</td>\n",
       "      <td>1.773890</td>\n",
       "      <td>1.829589</td>\n",
       "      <td>1.485570</td>\n",
       "      <td>1.422832</td>\n",
       "      <td>0.670139</td>\n",
       "      <td>0.046391</td>\n",
       "      <td>0.046391</td>\n",
       "      <td>0.050254</td>\n",
       "      <td>0.062625</td>\n",
       "      <td>0.077314</td>\n",
       "    </tr>\n",
       "    <tr>\n",
       "      <th>ENSG00000160050_snmf_intron_5</th>\n",
       "      <td>0.372564</td>\n",
       "      <td>0.332067</td>\n",
       "      <td>0.309794</td>\n",
       "      <td>0.346242</td>\n",
       "      <td>0.449500</td>\n",
       "      <td>1.052882</td>\n",
       "      <td>1.052882</td>\n",
       "      <td>1.073136</td>\n",
       "      <td>1.012395</td>\n",
       "      <td>1.052882</td>\n",
       "      <td>...</td>\n",
       "      <td>0.783586</td>\n",
       "      <td>0.664133</td>\n",
       "      <td>0.578191</td>\n",
       "      <td>0.473803</td>\n",
       "      <td>0.388759</td>\n",
       "      <td>0.323969</td>\n",
       "      <td>0.279423</td>\n",
       "      <td>0.277393</td>\n",
       "      <td>0.309794</td>\n",
       "      <td>0.317891</td>\n",
       "    </tr>\n",
       "    <tr>\n",
       "      <th>ENSG00000198198_snmf_intron_1</th>\n",
       "      <td>0.011141</td>\n",
       "      <td>0.020050</td>\n",
       "      <td>0.020050</td>\n",
       "      <td>0.022271</td>\n",
       "      <td>0.075732</td>\n",
       "      <td>0.565795</td>\n",
       "      <td>0.630397</td>\n",
       "      <td>0.663809</td>\n",
       "      <td>0.739553</td>\n",
       "      <td>0.772965</td>\n",
       "      <td>...</td>\n",
       "      <td>1.033586</td>\n",
       "      <td>0.957854</td>\n",
       "      <td>0.926663</td>\n",
       "      <td>0.886564</td>\n",
       "      <td>0.997953</td>\n",
       "      <td>0.071278</td>\n",
       "      <td>0.133660</td>\n",
       "      <td>0.133660</td>\n",
       "      <td>0.169293</td>\n",
       "      <td>0.171526</td>\n",
       "    </tr>\n",
       "    <tr>\n",
       "      <th>...</th>\n",
       "      <td>...</td>\n",
       "      <td>...</td>\n",
       "      <td>...</td>\n",
       "      <td>...</td>\n",
       "      <td>...</td>\n",
       "      <td>...</td>\n",
       "      <td>...</td>\n",
       "      <td>...</td>\n",
       "      <td>...</td>\n",
       "      <td>...</td>\n",
       "      <td>...</td>\n",
       "      <td>...</td>\n",
       "      <td>...</td>\n",
       "      <td>...</td>\n",
       "      <td>...</td>\n",
       "      <td>...</td>\n",
       "      <td>...</td>\n",
       "      <td>...</td>\n",
       "      <td>...</td>\n",
       "      <td>...</td>\n",
       "      <td>...</td>\n",
       "    </tr>\n",
       "    <tr>\n",
       "      <th>ENSG00000187243_snmf_intron_2</th>\n",
       "      <td>0.000000</td>\n",
       "      <td>0.000000</td>\n",
       "      <td>0.000000</td>\n",
       "      <td>0.000000</td>\n",
       "      <td>0.000000</td>\n",
       "      <td>0.441730</td>\n",
       "      <td>0.337979</td>\n",
       "      <td>0.512512</td>\n",
       "      <td>0.481701</td>\n",
       "      <td>0.329984</td>\n",
       "      <td>...</td>\n",
       "      <td>1.855382</td>\n",
       "      <td>1.888876</td>\n",
       "      <td>1.833033</td>\n",
       "      <td>2.056582</td>\n",
       "      <td>1.654182</td>\n",
       "      <td>0.145298</td>\n",
       "      <td>0.000000</td>\n",
       "      <td>0.000000</td>\n",
       "      <td>0.000000</td>\n",
       "      <td>0.000000</td>\n",
       "    </tr>\n",
       "    <tr>\n",
       "      <th>ENSG00000126012_snmf_intron_7</th>\n",
       "      <td>0.140715</td>\n",
       "      <td>0.133700</td>\n",
       "      <td>0.133700</td>\n",
       "      <td>0.163509</td>\n",
       "      <td>0.161756</td>\n",
       "      <td>1.158526</td>\n",
       "      <td>1.081293</td>\n",
       "      <td>1.115631</td>\n",
       "      <td>1.067410</td>\n",
       "      <td>1.019190</td>\n",
       "      <td>...</td>\n",
       "      <td>0.918054</td>\n",
       "      <td>0.914923</td>\n",
       "      <td>0.910696</td>\n",
       "      <td>0.930580</td>\n",
       "      <td>0.973788</td>\n",
       "      <td>0.210851</td>\n",
       "      <td>0.124495</td>\n",
       "      <td>0.121863</td>\n",
       "      <td>0.110906</td>\n",
       "      <td>0.108713</td>\n",
       "    </tr>\n",
       "    <tr>\n",
       "      <th>ENSG00000010671_snmf_intron_2</th>\n",
       "      <td>0.459916</td>\n",
       "      <td>0.459916</td>\n",
       "      <td>0.476931</td>\n",
       "      <td>0.471269</td>\n",
       "      <td>0.499667</td>\n",
       "      <td>0.766516</td>\n",
       "      <td>0.700263</td>\n",
       "      <td>0.738118</td>\n",
       "      <td>0.738118</td>\n",
       "      <td>0.662439</td>\n",
       "      <td>...</td>\n",
       "      <td>1.391100</td>\n",
       "      <td>1.324847</td>\n",
       "      <td>1.334304</td>\n",
       "      <td>1.305935</td>\n",
       "      <td>1.158282</td>\n",
       "      <td>0.221435</td>\n",
       "      <td>0.113563</td>\n",
       "      <td>0.113563</td>\n",
       "      <td>0.113563</td>\n",
       "      <td>0.113563</td>\n",
       "    </tr>\n",
       "    <tr>\n",
       "      <th>ENSG00000010671_snmf_intron_3</th>\n",
       "      <td>0.000000</td>\n",
       "      <td>0.000000</td>\n",
       "      <td>0.000000</td>\n",
       "      <td>0.000000</td>\n",
       "      <td>0.000000</td>\n",
       "      <td>1.235201</td>\n",
       "      <td>1.201337</td>\n",
       "      <td>1.379015</td>\n",
       "      <td>1.395923</td>\n",
       "      <td>1.312161</td>\n",
       "      <td>...</td>\n",
       "      <td>1.046930</td>\n",
       "      <td>1.023706</td>\n",
       "      <td>0.930616</td>\n",
       "      <td>0.961662</td>\n",
       "      <td>1.023706</td>\n",
       "      <td>0.372266</td>\n",
       "      <td>0.372266</td>\n",
       "      <td>0.381546</td>\n",
       "      <td>0.521133</td>\n",
       "      <td>0.549070</td>\n",
       "    </tr>\n",
       "    <tr>\n",
       "      <th>ENSG00000130830_snmf_intron_3</th>\n",
       "      <td>0.193070</td>\n",
       "      <td>0.200793</td>\n",
       "      <td>0.206760</td>\n",
       "      <td>0.216589</td>\n",
       "      <td>0.221152</td>\n",
       "      <td>0.668722</td>\n",
       "      <td>0.646782</td>\n",
       "      <td>0.608168</td>\n",
       "      <td>0.636252</td>\n",
       "      <td>0.690661</td>\n",
       "      <td>...</td>\n",
       "      <td>1.260216</td>\n",
       "      <td>1.355347</td>\n",
       "      <td>1.396067</td>\n",
       "      <td>1.383429</td>\n",
       "      <td>1.411161</td>\n",
       "      <td>0.190612</td>\n",
       "      <td>0.048443</td>\n",
       "      <td>0.053007</td>\n",
       "      <td>0.060378</td>\n",
       "      <td>0.044230</td>\n",
       "    </tr>\n",
       "  </tbody>\n",
       "</table>\n",
       "<p>366 rows × 149 columns</p>\n",
       "</div>"
      ],
      "text/plain": [
       "                                  bin_1     bin_2     bin_3     bin_4  \\\n",
       "gene                                                                    \n",
       "ENSG00000160072_snmf_intron_8  0.019881  0.014561  0.019601  0.029121   \n",
       "ENSG00000197785_snmf_intron_3  0.051804  0.066936  0.082837  0.096685   \n",
       "ENSG00000149527_snmf_intron_4  0.007730  0.007730  0.007730  0.007730   \n",
       "ENSG00000160050_snmf_intron_5  0.372564  0.332067  0.309794  0.346242   \n",
       "ENSG00000198198_snmf_intron_1  0.011141  0.020050  0.020050  0.022271   \n",
       "...                                 ...       ...       ...       ...   \n",
       "ENSG00000187243_snmf_intron_2  0.000000  0.000000  0.000000  0.000000   \n",
       "ENSG00000126012_snmf_intron_7  0.140715  0.133700  0.133700  0.163509   \n",
       "ENSG00000010671_snmf_intron_2  0.459916  0.459916  0.476931  0.471269   \n",
       "ENSG00000010671_snmf_intron_3  0.000000  0.000000  0.000000  0.000000   \n",
       "ENSG00000130830_snmf_intron_3  0.193070  0.200793  0.206760  0.216589   \n",
       "\n",
       "                                  bin_5     bin_6     bin_7     bin_8  \\\n",
       "gene                                                                    \n",
       "ENSG00000160072_snmf_intron_8  0.138049  0.963263  1.006199  1.081804   \n",
       "ENSG00000197785_snmf_intron_3  0.175675  0.670898  0.688851  0.725781   \n",
       "ENSG00000149527_snmf_intron_4  0.064942  0.518207  0.672057  0.661235   \n",
       "ENSG00000160050_snmf_intron_5  0.449500  1.052882  1.052882  1.073136   \n",
       "ENSG00000198198_snmf_intron_1  0.075732  0.565795  0.630397  0.663809   \n",
       "...                                 ...       ...       ...       ...   \n",
       "ENSG00000187243_snmf_intron_2  0.000000  0.441730  0.337979  0.512512   \n",
       "ENSG00000126012_snmf_intron_7  0.161756  1.158526  1.081293  1.115631   \n",
       "ENSG00000010671_snmf_intron_2  0.499667  0.766516  0.700263  0.738118   \n",
       "ENSG00000010671_snmf_intron_3  0.000000  1.235201  1.201337  1.379015   \n",
       "ENSG00000130830_snmf_intron_3  0.221152  0.668722  0.646782  0.608168   \n",
       "\n",
       "                                  bin_9    bin_10  ...   bin_140   bin_141  \\\n",
       "gene                                               ...                       \n",
       "ENSG00000160072_snmf_intron_8  1.051935  1.020200  ...  0.985664  1.140607   \n",
       "ENSG00000197785_snmf_intron_3  0.733987  0.753478  ...  1.234425  1.267765   \n",
       "ENSG00000149527_snmf_intron_4  0.585656  0.653113  ...  1.773890  1.829589   \n",
       "ENSG00000160050_snmf_intron_5  1.012395  1.052882  ...  0.783586  0.664133   \n",
       "ENSG00000198198_snmf_intron_1  0.739553  0.772965  ...  1.033586  0.957854   \n",
       "...                                 ...       ...  ...       ...       ...   \n",
       "ENSG00000187243_snmf_intron_2  0.481701  0.329984  ...  1.855382  1.888876   \n",
       "ENSG00000126012_snmf_intron_7  1.067410  1.019190  ...  0.918054  0.914923   \n",
       "ENSG00000010671_snmf_intron_2  0.738118  0.662439  ...  1.391100  1.324847   \n",
       "ENSG00000010671_snmf_intron_3  1.395923  1.312161  ...  1.046930  1.023706   \n",
       "ENSG00000130830_snmf_intron_3  0.636252  0.690661  ...  1.260216  1.355347   \n",
       "\n",
       "                                bin_142   bin_143   bin_144   bin_145  \\\n",
       "gene                                                                    \n",
       "ENSG00000160072_snmf_intron_8  1.237680  1.258682  1.284483  0.000281   \n",
       "ENSG00000197785_snmf_intron_3  1.328462  1.303669  1.300250  0.007693   \n",
       "ENSG00000149527_snmf_intron_4  1.485570  1.422832  0.670139  0.046391   \n",
       "ENSG00000160050_snmf_intron_5  0.578191  0.473803  0.388759  0.323969   \n",
       "ENSG00000198198_snmf_intron_1  0.926663  0.886564  0.997953  0.071278   \n",
       "...                                 ...       ...       ...       ...   \n",
       "ENSG00000187243_snmf_intron_2  1.833033  2.056582  1.654182  0.145298   \n",
       "ENSG00000126012_snmf_intron_7  0.910696  0.930580  0.973788  0.210851   \n",
       "ENSG00000010671_snmf_intron_2  1.334304  1.305935  1.158282  0.221435   \n",
       "ENSG00000010671_snmf_intron_3  0.930616  0.961662  1.023706  0.372266   \n",
       "ENSG00000130830_snmf_intron_3  1.396067  1.383429  1.411161  0.190612   \n",
       "\n",
       "                                bin_146   bin_147   bin_148   bin_149  \n",
       "gene                                                                   \n",
       "ENSG00000160072_snmf_intron_8  0.001120  0.001960  0.000000  0.001120  \n",
       "ENSG00000197785_snmf_intron_3  0.001283  0.005129  0.007951  0.005898  \n",
       "ENSG00000149527_snmf_intron_4  0.046391  0.050254  0.062625  0.077314  \n",
       "ENSG00000160050_snmf_intron_5  0.279423  0.277393  0.309794  0.317891  \n",
       "ENSG00000198198_snmf_intron_1  0.133660  0.133660  0.169293  0.171526  \n",
       "...                                 ...       ...       ...       ...  \n",
       "ENSG00000187243_snmf_intron_2  0.000000  0.000000  0.000000  0.000000  \n",
       "ENSG00000126012_snmf_intron_7  0.124495  0.121863  0.110906  0.108713  \n",
       "ENSG00000010671_snmf_intron_2  0.113563  0.113563  0.113563  0.113563  \n",
       "ENSG00000010671_snmf_intron_3  0.372266  0.381546  0.521133  0.549070  \n",
       "ENSG00000130830_snmf_intron_3  0.048443  0.053007  0.060378  0.044230  \n",
       "\n",
       "[366 rows x 149 columns]"
      ]
     },
     "execution_count": 69,
     "metadata": {},
     "output_type": "execute_result"
    }
   ],
   "source": [
    "norm_X_snmf_gencode"
   ]
  },
  {
   "cell_type": "code",
   "execution_count": null,
   "id": "610dd2e3-6cab-45f4-ae99-a8afef6c2715",
   "metadata": {},
   "outputs": [],
   "source": []
  },
  {
   "cell_type": "code",
   "execution_count": null,
   "id": "104220cd-463c-4ad0-96dc-d3ca76be031f",
   "metadata": {},
   "outputs": [],
   "source": []
  },
  {
   "cell_type": "code",
   "execution_count": null,
   "id": "b8f9050f-ccf8-4899-bf37-c1412fec55f8",
   "metadata": {},
   "outputs": [],
   "source": []
  },
  {
   "cell_type": "code",
   "execution_count": 6,
   "id": "bbdf091a-dc78-4d11-b9e6-2c71616a0c7d",
   "metadata": {},
   "outputs": [],
   "source": [
    "snmf_cassette_exons = pd.read_csv('../code/ebpmf_models/filtered/snmf_10/tables/cassette_exons.bed.gz', sep='\\t')"
   ]
  },
  {
   "cell_type": "code",
   "execution_count": 7,
   "id": "77c7b873-9d91-440c-b2a5-2fe8655abae4",
   "metadata": {},
   "outputs": [
    {
     "data": {
      "text/plain": [
       "8774"
      ]
     },
     "execution_count": 7,
     "metadata": {},
     "output_type": "execute_result"
    }
   ],
   "source": [
    "len(snmf_cassette_exons.gene.unique())"
   ]
  },
  {
   "cell_type": "code",
   "execution_count": 8,
   "id": "341598b6-50a3-47e2-acce-fcc3d29f24d9",
   "metadata": {},
   "outputs": [],
   "source": [
    "gencode_exons_file = '/project2/mstephens/cfbuenabadn/gtex-stm/code/Annotations/gencode.v44.primary_assembly.exons.sorted.bed.gz'\n",
    "gencode_exons_df = pd.read_csv(gencode_exons_file, sep='\\t', \n",
    "                            names = ['chrom', 'start', 'end', 'gene_id', \n",
    "                                                           'transcript_id', 'strand', 'exon_id', 'transcript_support_level',\n",
    "                                                           'basic', 'Ensembl_canonical', 'MANE_Select', 'appris', 'transcript_type'])\n",
    "\n",
    "gencode_exons_bed = BedTool.from_dataframe(gencode_exons_df)\n",
    "\n",
    "\n",
    "vastdb_exons_df = pd.read_csv('/project2/yangili1/cfbuenabadn/CSQ_additional_files/EVENT_INFO-hg38.tab.gz', sep='\\t')\n",
    "vastdb_exons_df = vastdb_exons_df.dropna()\n",
    "vastdb_exons_cols = list(vastdb_exons_df.columns)\n",
    "vastdb_exons_df['chrom'] = vastdb_exons_df.CO_A.apply(lambda x: x.split(':')[0])\n",
    "vastdb_exons_df['start'] = vastdb_exons_df.CO_A.apply(lambda x: x.split(':')[1].split('-')[0])\n",
    "vastdb_exons_df['end'] = vastdb_exons_df.CO_A.apply(lambda x: x.split('-')[1])\n",
    "vastdb_exons_cols = ['chrom', 'start', 'end'] + vastdb_exons_cols\n",
    "vastdb_exons_df = vastdb_exons_df[vastdb_exons_cols]\n",
    "\n",
    "vastdb_exons_df = vastdb_exons_df.loc[(~vastdb_exons_df.COMPLEX.isin(['MIC-S', 'MIC_S', 'IR', 'Alt3', 'Alt5', 'MIC-M'])) & (vastdb_exons_df.EVENT.apply(lambda x: x.startswith('HsaEX')))]\n",
    "vastdb_exons_df = vastdb_exons_df.loc[(~ vastdb_exons_df.COMPLEX.apply(lambda x: (x.startswith('ME') or (x == 'A_NA') or (x == 'ANN') or x == 'NA*')))]\n",
    "vastdb_exons_df = vastdb_exons_df[[x for x in vastdb_exons_df.columns if x not in ['Seq_C1', 'Seq_A', 'Seq_C2']]]\n",
    "vastdb_exons_df['strand'] = vastdb_exons_df.REF_CO.apply(lambda x: x.split(':')[-1])\n",
    "\n",
    "intron_start_list = []\n",
    "intron_end_list = []\n",
    "for idx, row in vastdb_exons_df.iterrows():\n",
    "    strand = row.strand\n",
    "    if strand == '+':\n",
    "        intron_start = int(row.CO_C1.split('-')[-1])\n",
    "        intron_end = int(row.CO_C2.split('-')[0].split(':')[1])\n",
    "    else:\n",
    "        intron_start = int(row.CO_C2.split('-')[-1])\n",
    "        intron_end = int(row.CO_C1.split('-')[0].split(':')[1])\n",
    "        \n",
    "    intron_start_list.append(intron_start)\n",
    "    intron_end_list.append(intron_end)\n",
    "\n",
    "vastdb_introns_df = pd.DataFrame()\n",
    "vastdb_introns_df['chrom'] = list(vastdb_exons_df.chrom)\n",
    "vastdb_introns_df['start'] = intron_start_list\n",
    "vastdb_introns_df['end'] = intron_end_list\n",
    "vastdb_introns_df['GENE'] = list(vastdb_exons_df.GENE)\n",
    "vastdb_introns_df['EVENT'] = list(vastdb_exons_df.EVENT)\n",
    "vastdb_introns_df['strand'] = list(vastdb_exons_df.strand)\n",
    "\n",
    "vastdb_introns_bed = BedTool.from_dataframe(vastdb_introns_df).sort()\n",
    "vastdb_exons_bed = BedTool.from_dataframe(vastdb_exons_df).sort()\n",
    "\n",
    "\n",
    "# snmf_cassette_exons = pd.read_csv('../code/ebpmf_models/filtered/snmf_10/tables/cassette_exons.bed.gz', sep='\\t')\n",
    "snmf_cassette_exons_bed = BedTool.from_dataframe(snmf_cassette_exons)\n",
    "\n",
    "snmf_vastdb_cassette_exons = snmf_cassette_exons_bed.intersect(vastdb_exons_bed, f=1, F=1, wo=True).to_dataframe(\n",
    "    names = list(snmf_cassette_exons.columns) + [f'{x}_vastdb' for x in vastdb_exons_df.columns] + ['overlaps']\n",
    ")\n",
    "\n",
    "\n",
    "intron_start_vastdb = []\n",
    "intron_end_vastdb = []\n",
    "for idx, row in snmf_vastdb_cassette_exons.iterrows():\n",
    "    if row.strand_vastdb == '+':\n",
    "        intron_start = row.CO_C1_vastdb\n",
    "        intron_end = row.CO_C2_vastdb\n",
    "    else:\n",
    "        intron_start = row.CO_C2_vastdb\n",
    "        intron_end = row.CO_C1_vastdb\n",
    "    intron_start = int(intron_start.split('-')[-1])\n",
    "    intron_end = int(intron_end.split(':')[-1].split('-')[0])\n",
    "\n",
    "    intron_start_vastdb.append(intron_start)\n",
    "    intron_end_vastdb.append(intron_end)\n",
    "\n",
    "snmf_vastdb_cassette_exons['intron_start_vastdb'] = intron_start_vastdb\n",
    "snmf_vastdb_cassette_exons['intron_end_vastdb'] = intron_end_vastdb\n",
    "\n",
    "snmf_vastdb_cassette_exons_confirmed = snmf_vastdb_cassette_exons.loc[\n",
    "(snmf_vastdb_cassette_exons.intron_start == snmf_vastdb_cassette_exons.intron_start_vastdb) & (snmf_vastdb_cassette_exons.intron_end == snmf_vastdb_cassette_exons.intron_end_vastdb)\n",
    "]"
   ]
  },
  {
   "cell_type": "code",
   "execution_count": 9,
   "id": "0ce37937-5ee2-481e-97e4-00de6413d869",
   "metadata": {},
   "outputs": [
    {
     "name": "stderr",
     "output_type": "stream",
     "text": [
      "/tmp/jobs/41557464/ipykernel_40459/3589894801.py:1: SettingWithCopyWarning: \n",
      "A value is trying to be set on a copy of a slice from a DataFrame.\n",
      "Try using .loc[row_indexer,col_indexer] = value instead\n",
      "\n",
      "See the caveats in the documentation: https://pandas.pydata.org/pandas-docs/stable/user_guide/indexing.html#returning-a-view-versus-a-copy\n",
      "  snmf_vastdb_cassette_exons_confirmed['annot'] = snmf_vastdb_cassette_exons_confirmed[\n"
     ]
    }
   ],
   "source": [
    "snmf_vastdb_cassette_exons_confirmed['annot'] = snmf_vastdb_cassette_exons_confirmed[\n",
    "['chrom', 'start', 'end', 'intron_start', 'intron_end']].astype(str).agg(':'.join, axis=1)"
   ]
  },
  {
   "cell_type": "code",
   "execution_count": 10,
   "id": "30b7a6e1-f2bd-4242-96c7-46966a99e57e",
   "metadata": {},
   "outputs": [],
   "source": [
    "def load_matrices_per_tissue(tissue, annotation, exon_type):\n",
    "    col_names = ['chrom', 'start', 'end', 'gene', 'score', 'strand']\n",
    "    pos_names = [f'bin_{str(i+1)}' for i in range(120)]\n",
    "    \n",
    "    col_names += pos_names\n",
    "    fk1 = pd.read_csv(f'../code/CoveragePlots/matrices/cassette_exons/{tissue}.{annotation}.{exon_type}.flanking1.mat.gz', sep='\\t', skiprows=1,\n",
    "                             names=col_names)\n",
    "\n",
    "    fk2 = pd.read_csv(f'../code/CoveragePlots/matrices/cassette_exons/{tissue}.{annotation}.{exon_type}.flanking2.mat.gz', sep='\\t', skiprows=1,\n",
    "                                 names=col_names)\n",
    "    \n",
    "    exon = pd.read_csv(f'../code/CoveragePlots/matrices/cassette_exons/{tissue}.{annotation}.{exon_type}.exon.mat.gz', sep='\\t', skiprows=1,\n",
    "                                 names=col_names)\n",
    "\n",
    "    return fk1, exon, fk2\n",
    "    \n",
    "snmf_cassette_exons = pd.read_csv('../code/ebpmf_models/filtered/snmf_10/tables/cassette_exons.bed.gz', sep='\\t')\n",
    "\n",
    "\n",
    "col_names = ['chrom', 'start', 'end', 'gene', 'score', 'strand']\n",
    "pos_names = [f'bin_{str(i+1)}' for i in range(120)]\n",
    "gencode_snmf_cassette_exons = pd.read_csv('../code/CoveragePlots/bed_files/cassette_exons/gencode/cassette_exon.exon.bed', \n",
    "                                          sep='\\t', names = ['chrom', 'start', 'end', 'name', 'transcripts'])\n",
    "\n",
    "\n",
    "snmf_gencode_cassette_exons = pd.read_csv('../code/CoveragePlots/bed_files/cassette_exons/snmf/gencode.exon.bed',\n",
    "                                          sep='\\t', names = ['chrom', 'start', 'end', 'name', 'transcripts'])\n",
    "\n",
    "snmf_gencode_fk1 = pd.read_csv('../code/CoveragePlots/bed_files/cassette_exons/snmf/gencode.flanking1.bed',\n",
    "                                          sep='\\t', names = ['chrom', 'start', 'end', 'name', 'transcripts'])\n",
    "snmf_gencode_fk2 = pd.read_csv('../code/CoveragePlots/bed_files/cassette_exons/snmf/gencode.flanking2.bed',\n",
    "                                          sep='\\t', names = ['chrom', 'start', 'end', 'name', 'transcripts'])\n",
    "\n",
    "fk1, exon, fk2 = load_matrices_per_tissue('Liver', 'gencode', 'cassette_exon')\n",
    "gencode_exon = exon[['chrom', 'start', 'end']].copy()\n",
    "gencode_exon['intron_start'] = fk1.end\n",
    "gencode_exon['intron_end'] = fk2.start\n",
    "\n",
    "gencode_exon['annot'] = gencode_exon.chrom + ':' + gencode_exon.start.astype(str) + ':' + gencode_exon.end.astype(str) + ':'+ gencode_exon.intron_start.astype(str) + ':' + gencode_exon.intron_end.astype(str) \n",
    "\n",
    "snmf_exon = snmf_gencode_cassette_exons[['chrom', 'start', 'end']].copy()\n",
    "snmf_exon['intron_start'] = snmf_gencode_fk1.end\n",
    "snmf_exon['intron_end'] = snmf_gencode_fk2.start\n",
    "\n",
    "snmf_exon['annot'] = snmf_exon.chrom + ':' + snmf_exon.start.astype(str) + ':' + snmf_exon.end.astype(str) + ':' + snmf_exon.intron_start.astype(str) + ':' + snmf_exon.intron_end.astype(str) "
   ]
  },
  {
   "cell_type": "code",
   "execution_count": 11,
   "id": "333e94d7-57b9-425a-99f3-fe053f92a619",
   "metadata": {},
   "outputs": [],
   "source": [
    "snmf_gencode_exons = snmf_cassette_exons_bed.intersect(gencode_exons_bed, f=1, F=1, u=True).to_dataframe(names = snmf_cassette_exons.columns)\n",
    "snmf_vastdb_exons = snmf_cassette_exons_bed.intersect(vastdb_exons_bed, f=1, F=1, u=True).to_dataframe(names = snmf_cassette_exons.columns)\n",
    "\n",
    "snmf_vastdb_exons['annot'] = snmf_vastdb_exons[\n",
    "['chrom', 'start', 'end', 'intron_start', 'intron_end']].astype(str).agg(':'.join, axis=1)\n",
    "\n",
    "snmf_gencode_exons['annot'] = snmf_gencode_exons[\n",
    "['chrom', 'start', 'end', 'intron_start', 'intron_end']].astype(str).agg(':'.join, axis=1)\n",
    "\n",
    "# snmf_junctions_cassette_exons\n",
    "\n",
    "snmf_cassette_exons['annot'] =  snmf_cassette_exons[\n",
    "['chrom', 'start', 'end', 'intron_start', 'intron_end']].astype(str).agg(':'.join, axis=1)\n",
    "\n",
    "exons_by_both = pd.Index(snmf_cassette_exons.loc[snmf_cassette_exons.annot.isin(pd.Index(\n",
    "    snmf_vastdb_cassette_exons_confirmed.annot).intersection(pd.Index(gencode_exon.annot).intersection(pd.Index(snmf_exon.annot))))].transcripts)"
   ]
  },
  {
   "cell_type": "code",
   "execution_count": 12,
   "id": "5061065d-c10c-4ca4-9911-96d638e57564",
   "metadata": {},
   "outputs": [
    {
     "data": {
      "text/plain": [
       "3802"
      ]
     },
     "execution_count": 12,
     "metadata": {},
     "output_type": "execute_result"
    }
   ],
   "source": [
    "# Gencode & sNMF\n",
    "len(pd.Index(gencode_exon.annot).intersection(pd.Index(snmf_exon.annot)))"
   ]
  },
  {
   "cell_type": "code",
   "execution_count": 13,
   "id": "271196c3-0598-479e-9103-fc02e01e713a",
   "metadata": {},
   "outputs": [
    {
     "data": {
      "text/plain": [
       "3003"
      ]
     },
     "execution_count": 13,
     "metadata": {},
     "output_type": "execute_result"
    }
   ],
   "source": [
    "# Gencode & VastDB & sNMF\n",
    "len(exons_by_both)"
   ]
  },
  {
   "cell_type": "code",
   "execution_count": 14,
   "id": "d33d1f87-89dc-400c-b2a9-a98f86b6c6c4",
   "metadata": {},
   "outputs": [
    {
     "data": {
      "text/plain": [
       "12259"
      ]
     },
     "execution_count": 14,
     "metadata": {},
     "output_type": "execute_result"
    }
   ],
   "source": [
    "# VastDB & sNMF \n",
    "len(snmf_vastdb_cassette_exons_confirmed.annot.unique())"
   ]
  },
  {
   "cell_type": "code",
   "execution_count": 15,
   "id": "d0e5295a-3b65-4d9c-96a8-7c11cf08bd47",
   "metadata": {},
   "outputs": [
    {
     "ename": "NameError",
     "evalue": "name 'exons_by_any' is not defined",
     "output_type": "error",
     "traceback": [
      "\u001b[0;31m---------------------------------------------------------------------------\u001b[0m",
      "\u001b[0;31mNameError\u001b[0m                                 Traceback (most recent call last)",
      "Cell \u001b[0;32mIn[15], line 1\u001b[0m\n\u001b[0;32m----> 1\u001b[0m \u001b[38;5;28mlen\u001b[39m(\u001b[43mexons_by_any\u001b[49m)\n",
      "\u001b[0;31mNameError\u001b[0m: name 'exons_by_any' is not defined"
     ]
    }
   ],
   "source": [
    "len(exons_by_any)"
   ]
  },
  {
   "cell_type": "code",
   "execution_count": 16,
   "id": "94209acb-7795-46d7-864e-002c2c0cb087",
   "metadata": {},
   "outputs": [
    {
     "data": {
      "text/plain": [
       "13058"
      ]
     },
     "execution_count": 16,
     "metadata": {},
     "output_type": "execute_result"
    }
   ],
   "source": [
    "# Exons by (Gencode or VastDB) & sNMF\n",
    "len(pd.Index(snmf_vastdb_cassette_exons_confirmed.annot).union(pd.Index(gencode_exon.annot).intersection(pd.Index(snmf_exon.annot))).unique())"
   ]
  },
  {
   "cell_type": "code",
   "execution_count": 17,
   "id": "aab91d4f-204a-41dd-be97-e2b0208796d2",
   "metadata": {},
   "outputs": [],
   "source": [
    "snmf_gencode_cassette_exons = pd.read_csv('../code/CoveragePlots/bed_files/cassette_exons/snmf/gencode.exon.bed',\n",
    "                                          sep='\\t', names = ['chrom', 'start', 'end', 'name', 'transcripts'])\n",
    "\n",
    "snmf_vastdb_cassette_exons = pd.read_csv('../code/CoveragePlots/bed_files/cassette_exons/snmf/vastdb.exon.bed',\n",
    "                                          sep='\\t', names = ['chrom', 'start', 'end', 'name', 'transcripts'])\n",
    "\n",
    "snmf_junctions_cassette_exons = pd.read_csv('../code/CoveragePlots/bed_files/cassette_exons/snmf/junctions.exon.bed',\n",
    "                                          sep='\\t', names = ['chrom', 'start', 'end', 'name', 'transcripts'])"
   ]
  },
  {
   "cell_type": "code",
   "execution_count": 18,
   "id": "56207c34-70b2-4568-9c1c-fecb23c21236",
   "metadata": {},
   "outputs": [],
   "source": [
    "transcripts_annotated = pd.Index(snmf_gencode_exons.transcripts).union(pd.Index(snmf_vastdb_exons.transcripts)).union(\n",
    "    pd.Index(snmf_junctions_cassette_exons.transcripts).unique()\n",
    ")"
   ]
  },
  {
   "cell_type": "code",
   "execution_count": 19,
   "id": "28f0fafb-430f-4dd0-b5bc-5ebdf2a9da39",
   "metadata": {},
   "outputs": [
    {
     "data": {
      "text/plain": [
       "19068"
      ]
     },
     "execution_count": 19,
     "metadata": {},
     "output_type": "execute_result"
    }
   ],
   "source": [
    "# Exons annotated or with junctions & sNMF\n",
    "len(transcripts_annotated)"
   ]
  },
  {
   "cell_type": "code",
   "execution_count": 20,
   "id": "6663079c-8784-4824-a55d-854b8052d6bb",
   "metadata": {},
   "outputs": [
    {
     "data": {
      "text/plain": [
       "19655"
      ]
     },
     "execution_count": 20,
     "metadata": {},
     "output_type": "execute_result"
    }
   ],
   "source": [
    "len(snmf_cassette_exons.loc[snmf_cassette_exons.transcripts.isin(transcripts_annotated)].annot.unique())"
   ]
  },
  {
   "cell_type": "code",
   "execution_count": 21,
   "id": "a67d7453-72df-4490-8884-d1ad0a6ab348",
   "metadata": {},
   "outputs": [
    {
     "data": {
      "text/plain": [
       "6597"
      ]
     },
     "execution_count": 21,
     "metadata": {},
     "output_type": "execute_result"
    }
   ],
   "source": [
    "19655 - 13058"
   ]
  },
  {
   "cell_type": "code",
   "execution_count": 22,
   "id": "a531a2c0-35ad-41fc-9158-41a7b1640deb",
   "metadata": {},
   "outputs": [
    {
     "data": {
      "text/plain": [
       "28464"
      ]
     },
     "execution_count": 22,
     "metadata": {},
     "output_type": "execute_result"
    }
   ],
   "source": [
    "# All sNMF\n",
    "len(snmf_cassette_exons)"
   ]
  },
  {
   "cell_type": "code",
   "execution_count": null,
   "id": "dac30d94-0d34-4460-bf28-2e08322edd04",
   "metadata": {},
   "outputs": [],
   "source": []
  },
  {
   "cell_type": "code",
   "execution_count": 23,
   "id": "48979e64-fe70-46ba-8844-3666ae7f9ee2",
   "metadata": {},
   "outputs": [
    {
     "data": {
      "text/plain": [
       "8809"
      ]
     },
     "execution_count": 23,
     "metadata": {},
     "output_type": "execute_result"
    }
   ],
   "source": [
    "28464 - 19655"
   ]
  },
  {
   "cell_type": "code",
   "execution_count": 24,
   "id": "89472fa9-1c59-4165-b6f6-58efa2bc44e6",
   "metadata": {},
   "outputs": [
    {
     "data": {
      "text/plain": [
       "Index(['ENSG00000188976.isoform_1|ENSG00000188976.isoform_2|ENSG00000188976.isoform_4|ENSG00000188976.isoform_5|ENSG00000188976.isoform_6|ENSG00000188976.isoform_7',\n",
       "       'ENSG00000188976.isoform_1|ENSG00000188976.isoform_4|ENSG00000188976.isoform_5|ENSG00000188976.isoform_7',\n",
       "       'ENSG00000188976.isoform_1|ENSG00000188976.isoform_4|ENSG00000188976.isoform_5|ENSG00000188976.isoform_6|ENSG00000188976.isoform_7',\n",
       "       'ENSG00000187961.isoform_2|ENSG00000187961.isoform_3|ENSG00000187961.isoform_7|ENSG00000187961.isoform_8',\n",
       "       'ENSG00000187583.isoform_1|ENSG00000187583.isoform_3|ENSG00000187583.isoform_7|ENSG00000187583.isoform_8',\n",
       "       'ENSG00000187583.isoform_10|ENSG00000187583.isoform_1|ENSG00000187583.isoform_3|ENSG00000187583.isoform_8|ENSG00000187583.isoform_4',\n",
       "       'ENSG00000188157.isoform_4',\n",
       "       'ENSG00000188157.isoform_3|ENSG00000188157.isoform_4|ENSG00000188157.isoform_7',\n",
       "       'ENSG00000131591.isoform_10',\n",
       "       'ENSG00000131591.isoform_10|ENSG00000131591.isoform_1|ENSG00000131591.isoform_7|ENSG00000131591.isoform_8|ENSG00000131591.isoform_5',\n",
       "       ...\n",
       "       'ENSG00000269335.isoform_2|ENSG00000269335.isoform_3|ENSG00000269335.isoform_8|ENSG00000269335.isoform_4|ENSG00000269335.isoform_6|ENSG00000269335.isoform_7',\n",
       "       'ENSG00000160219.isoform_1', 'ENSG00000130830.isoform_1',\n",
       "       'ENSG00000130830.isoform_1',\n",
       "       'ENSG00000130830.isoform_1|ENSG00000130830.isoform_2',\n",
       "       'ENSG00000185010.isoform_2',\n",
       "       'ENSG00000185010.isoform_4|ENSG00000185010.isoform_6|ENSG00000185010.isoform_8',\n",
       "       'ENSG00000185010.isoform_8', 'ENSG00000165775.isoform_1',\n",
       "       'ENSG00000185515.isoform_1|ENSG00000185515.isoform_2|ENSG00000185515.isoform_4'],\n",
       "      dtype='object', name='transcripts', length=18614)"
      ]
     },
     "execution_count": 24,
     "metadata": {},
     "output_type": "execute_result"
    }
   ],
   "source": [
    "pd.Index(snmf_gencode_exons.transcripts)"
   ]
  },
  {
   "cell_type": "code",
   "execution_count": 25,
   "id": "18fb3102-1ff5-45bc-8c5a-dd426ab02c6d",
   "metadata": {},
   "outputs": [],
   "source": [
    "gencode_exons_file = '/project2/mstephens/cfbuenabadn/gtex-stm/code/Annotations/gencode.v44.primary_assembly.exons.bed.gz'\n",
    "gencode_exons = pd.read_csv(gencode_exons_file, sep='\\t')\n",
    "gencode_exons_bed = BedTool.from_dataframe(gencode_exons)\n",
    "\n",
    "# snmf_exons_bed = '/project2/mstephens/cfbuenabadn/gtex-stm/code/ebpmf_models/filtered/snmf_10/tables/snmf.merged_isoforms.exons.sorted.bed.gz'\n",
    "# snmf_exons = pd.read_csv(snmf_exons_bed, sep='\\t', names = ['chrom', 'start', 'end', 'gene_id', \n",
    "#                                                  'transcript_id', 'strand', 'factors', 'exon_id'])\n",
    "\n",
    "bad_exons = snmf_cassette_exons.loc[~snmf_cassette_exons.transcripts.isin(transcripts_annotated)]\n",
    "bad_exons_bed = BedTool.from_dataframe(bad_exons)\n",
    "\n",
    "bad_overlap = bad_exons_bed.intersect(gencode_exons_bed, wo=True).to_dataframe(\n",
    "    names = list(bad_exons.columns) + [f'{x}_gencode' for x in gencode_exons.columns] + ['overlap'])#.shape\n",
    "\n",
    "bad_no_overlap = bad_exons_bed.intersect(gencode_exons_bed, v=True).to_dataframe(\n",
    "    names = list(bad_exons.columns))#.shape"
   ]
  },
  {
   "cell_type": "code",
   "execution_count": 26,
   "id": "da3cfae6-44c8-4a21-be45-58bdde2d227d",
   "metadata": {},
   "outputs": [
    {
     "data": {
      "text/plain": [
       "3758"
      ]
     },
     "execution_count": 26,
     "metadata": {},
     "output_type": "execute_result"
    }
   ],
   "source": [
    "len(bad_overlap.annot.unique())"
   ]
  },
  {
   "cell_type": "code",
   "execution_count": 27,
   "id": "4ed18ee4-c0df-4231-848d-aee92e951ff4",
   "metadata": {},
   "outputs": [
    {
     "data": {
      "text/plain": [
       "5051"
      ]
     },
     "execution_count": 27,
     "metadata": {},
     "output_type": "execute_result"
    }
   ],
   "source": [
    "len(bad_no_overlap.annot.unique())"
   ]
  },
  {
   "cell_type": "code",
   "execution_count": 28,
   "id": "5e3c62e9-fc8a-485b-aee2-1d6696675645",
   "metadata": {},
   "outputs": [
    {
     "data": {
      "text/plain": [
       "2372"
      ]
     },
     "execution_count": 28,
     "metadata": {},
     "output_type": "execute_result"
    }
   ],
   "source": [
    "len(bad_overlap.loc[((bad_overlap.end == bad_overlap.end_gencode) | (bad_overlap.start == bad_overlap.start_gencode))].annot.unique())"
   ]
  },
  {
   "cell_type": "code",
   "execution_count": 29,
   "id": "567f56bb-6a9d-40ec-bb6f-b411081131b6",
   "metadata": {},
   "outputs": [
    {
     "data": {
      "text/plain": [
       "28464"
      ]
     },
     "execution_count": 29,
     "metadata": {},
     "output_type": "execute_result"
    }
   ],
   "source": [
    "len(snmf_cassette_exons.annot.unique())"
   ]
  },
  {
   "cell_type": "code",
   "execution_count": 30,
   "id": "a406c2f5-857b-4fbb-ad55-218b62fbae0e",
   "metadata": {},
   "outputs": [
    {
     "data": {
      "text/plain": [
       "8809"
      ]
     },
     "execution_count": 30,
     "metadata": {},
     "output_type": "execute_result"
    }
   ],
   "source": [
    "3758 + 5051"
   ]
  },
  {
   "cell_type": "code",
   "execution_count": 31,
   "id": "7807d523-0a44-45da-b29a-230d230ff9cb",
   "metadata": {},
   "outputs": [
    {
     "data": {
      "text/plain": [
       "3758"
      ]
     },
     "execution_count": 31,
     "metadata": {},
     "output_type": "execute_result"
    }
   ],
   "source": [
    "8809 - 5051"
   ]
  },
  {
   "cell_type": "code",
   "execution_count": 32,
   "id": "36b48d8e-35bb-4daf-9247-457738fb7f1e",
   "metadata": {},
   "outputs": [
    {
     "data": {
      "text/plain": [
       "23413"
      ]
     },
     "execution_count": 32,
     "metadata": {},
     "output_type": "execute_result"
    }
   ],
   "source": [
    "19655 + 3758"
   ]
  },
  {
   "cell_type": "code",
   "execution_count": 33,
   "id": "3bd9c656-7fb5-4b44-9b72-fbd639d9d25a",
   "metadata": {},
   "outputs": [
    {
     "data": {
      "text/plain": [
       "5051"
      ]
     },
     "execution_count": 33,
     "metadata": {},
     "output_type": "execute_result"
    }
   ],
   "source": [
    "28464 - 23413"
   ]
  },
  {
   "cell_type": "code",
   "execution_count": null,
   "id": "879bb694-2953-4892-83a8-4d4bc055d966",
   "metadata": {},
   "outputs": [],
   "source": []
  },
  {
   "cell_type": "code",
   "execution_count": 34,
   "id": "ee88f725-8b9f-49e1-9e6c-b0bff07e5eec",
   "metadata": {},
   "outputs": [
    {
     "data": {
      "text/plain": [
       "23413"
      ]
     },
     "execution_count": 34,
     "metadata": {},
     "output_type": "execute_result"
    }
   ],
   "source": [
    "3003+10055+6597+3758"
   ]
  },
  {
   "cell_type": "code",
   "execution_count": 35,
   "id": "ba977584-d0dd-4a7b-9d9a-ae2b7ba72330",
   "metadata": {},
   "outputs": [],
   "source": [
    "transcripts_annotated = pd.Index(snmf_gencode_exons.transcripts).union(pd.Index(snmf_vastdb_exons.transcripts)).union(\n",
    "    pd.Index(snmf_junctions_cassette_exons.transcripts).union(pd.Index(bad_overlap.transcripts)).unique()\n",
    ")"
   ]
  },
  {
   "cell_type": "code",
   "execution_count": 36,
   "id": "40609983-6d9c-4f8b-875b-c28d6474a2e3",
   "metadata": {},
   "outputs": [
    {
     "data": {
      "text/plain": [
       "Index(['ENSG00000187583.isoform_1|ENSG00000187583.isoform_3|ENSG00000187583.isoform_7|ENSG00000187583.isoform_8',\n",
       "       'ENSG00000187583.isoform_10|ENSG00000187583.isoform_1|ENSG00000187583.isoform_3|ENSG00000187583.isoform_8|ENSG00000187583.isoform_4',\n",
       "       'ENSG00000188157.isoform_4',\n",
       "       'ENSG00000188157.isoform_3|ENSG00000188157.isoform_4|ENSG00000188157.isoform_7',\n",
       "       'ENSG00000131591.isoform_10',\n",
       "       'ENSG00000131591.isoform_10|ENSG00000131591.isoform_1|ENSG00000131591.isoform_7|ENSG00000131591.isoform_8|ENSG00000131591.isoform_5',\n",
       "       'ENSG00000186827.isoform_2|ENSG00000186827.isoform_3',\n",
       "       'ENSG00000184163.isoform_3',\n",
       "       'ENSG00000160087.isoform_1|ENSG00000160087.isoform_4|ENSG00000160087.isoform_5',\n",
       "       'ENSG00000131584.isoform_1|ENSG00000131584.isoform_4|ENSG00000131584.isoform_5|ENSG00000131584.isoform_9|ENSG00000131584.isoform_2|ENSG00000131584.isoform_3',\n",
       "       ...\n",
       "       'ENSG00000102178.isoform_1', 'ENSG00000071889.isoform_1',\n",
       "       'ENSG00000071889.isoform_3',\n",
       "       'ENSG00000269335.isoform_2|ENSG00000269335.isoform_3|ENSG00000269335.isoform_8|ENSG00000269335.isoform_4|ENSG00000269335.isoform_6|ENSG00000269335.isoform_7',\n",
       "       'ENSG00000160219.isoform_1', 'ENSG00000130830.isoform_1',\n",
       "       'ENSG00000185010.isoform_2',\n",
       "       'ENSG00000185010.isoform_4|ENSG00000185010.isoform_6|ENSG00000185010.isoform_8',\n",
       "       'ENSG00000185010.isoform_8',\n",
       "       'ENSG00000185515.isoform_1|ENSG00000185515.isoform_2|ENSG00000185515.isoform_4'],\n",
       "      dtype='object', name='transcripts', length=14838)"
      ]
     },
     "execution_count": 36,
     "metadata": {},
     "output_type": "execute_result"
    }
   ],
   "source": [
    "pd.Index(snmf_gencode_exons.transcripts).intersection(pd.Index(snmf_vastdb_exons.transcripts)).unique()"
   ]
  },
  {
   "cell_type": "code",
   "execution_count": 37,
   "id": "46024aa0-4f23-479c-bc79-6453cce7df7b",
   "metadata": {},
   "outputs": [],
   "source": [
    "transcripts_unannotated = pd.Index(snmf_cassette_exons.transcripts).difference(transcripts_annotated).unique()"
   ]
  },
  {
   "cell_type": "code",
   "execution_count": 38,
   "id": "8a86983e-4809-40fb-9f1e-ed6222c02b34",
   "metadata": {},
   "outputs": [
    {
     "data": {
      "text/plain": [
       "3504"
      ]
     },
     "execution_count": 38,
     "metadata": {},
     "output_type": "execute_result"
    }
   ],
   "source": [
    "len(transcripts_unannotated)"
   ]
  },
  {
   "cell_type": "code",
   "execution_count": 332,
   "id": "8626805f-bc2a-4789-bc04-942b7abbbfb9",
   "metadata": {},
   "outputs": [
    {
     "data": {
      "text/plain": [
       "22594"
      ]
     },
     "execution_count": 332,
     "metadata": {},
     "output_type": "execute_result"
    }
   ],
   "source": [
    "len(transcripts_annotated)"
   ]
  },
  {
   "cell_type": "code",
   "execution_count": 328,
   "id": "6610021b-702d-4f42-93d7-0083f150e32f",
   "metadata": {},
   "outputs": [
    {
     "data": {
      "text/plain": [
       "3526"
      ]
     },
     "execution_count": 328,
     "metadata": {},
     "output_type": "execute_result"
    }
   ],
   "source": [
    "len(bad_overlap.transcripts.unique())"
   ]
  },
  {
   "cell_type": "code",
   "execution_count": 326,
   "id": "8815ac01-c9e7-44ba-a15e-8181d9691cf1",
   "metadata": {},
   "outputs": [
    {
     "data": {
      "text/plain": [
       "4098"
      ]
     },
     "execution_count": 326,
     "metadata": {},
     "output_type": "execute_result"
    }
   ],
   "source": [
    "len(bad_no_overlap.transcripts.unique())"
   ]
  },
  {
   "cell_type": "code",
   "execution_count": 39,
   "id": "32748b2f-b7ea-47ef-94a1-8dcf2c0789b0",
   "metadata": {},
   "outputs": [],
   "source": [
    "isoforms_for_annotated = []\n",
    "for transcript in transcripts_annotated:\n",
    "    isoforms_for_annotated.extend(transcript.split('|'))\n",
    "\n",
    "isoforms_for_annotated = sorted(set(isoforms_for_annotated))\n",
    "\n",
    "isoforms_for_unannotated = []\n",
    "for transcript in transcripts_unannotated:\n",
    "    isoforms_for_unannotated.extend(transcript.split('|'))\n",
    "\n",
    "isoforms_for_unannotated = sorted(set(isoforms_for_unannotated))\n"
   ]
  },
  {
   "cell_type": "code",
   "execution_count": 40,
   "id": "08c3e3cc-c0cb-42f7-89be-0984f07a4087",
   "metadata": {},
   "outputs": [],
   "source": [
    "EL = pd.read_csv('../code/ebpmf_models/filtered/snmf_10/tables/transcript.merged_isoforms.EL.bed.gz', sep='\\t', index_col = 3)"
   ]
  },
  {
   "cell_type": "code",
   "execution_count": null,
   "id": "2adefe2b-9b6a-45b3-867d-d55ba08d4996",
   "metadata": {},
   "outputs": [],
   "source": [
    "isoforms_anot_L = []\n",
    "isoforms_anot_L_diff = []\n",
    "\n",
    "for transcript in tqdm(transcripts_annotated, position=0, leave=True):\n",
    "    isoforms_for_annotated = transcript.split('|')\n",
    "    idx = EL.index.intersection(pd.Index(isoforms_for_annotated))\n",
    "    if len(idx) > 0:\n",
    "        isoforms_anot_L.append(EL.loc[EL.index.intersection(pd.Index(isoforms_for_annotated)), EL.columns[5:]].sum(axis=0).mean())\n",
    "    else:\n",
    "        isoforms_anot_L.append(0.001)\n",
    "\n",
    "\n",
    "isoforms_unanot_L = []\n",
    "isoforms_unanot_L_diff = []\n",
    "\n",
    "for transcript in tqdm(transcripts_unannotated, position=0, leave=True):\n",
    "    isoforms_for_unannotated = transcript.split('|')\n",
    "    idx = EL.index.intersection(pd.Index(isoforms_for_unannotated))\n",
    "    if len(idx) > 0:\n",
    "        isoforms_unanot_L.append(EL.loc[EL.index.intersection(pd.Index(isoforms_for_unannotated)), EL.columns[5:]].sum(axis=0).mean())\n",
    "    else:\n",
    "        isoforms_unanot_L.append(0.001)\n",
    "\n",
    "# isoforms_for_annotated = sorted(set(isoforms_for_annotated))\n",
    "\n",
    "# isoforms_for_unannotated = []\n",
    "# for transcript in transcripts_unannotated:\n",
    "#     isoforms_for_unannotated.extend(transcript.split('|'))\n",
    "\n",
    "# isoforms_for_unannotated = sorted(set(isoforms_for_unannotated))\n"
   ]
  },
  {
   "cell_type": "code",
   "execution_count": 443,
   "id": "b46507c1-6240-4051-9a55-dffe14ac1830",
   "metadata": {},
   "outputs": [
    {
     "data": {
      "image/png": "[encoded data removed]",
      "text/plain": [
       "<Figure size 300x300 with 1 Axes>"
      ]
     },
     "metadata": {},
     "output_type": "display_data"
    }
   ],
   "source": [
    "fig, ax = plt.subplots(figsize=(3, 3))\n",
    "\n",
    "ax.plot(sorted(isoforms_anot_L), np.arange(len(isoforms_anot_L))/len(isoforms_anot_L), c='tab:blue', linewidth=2, label='Supported exon')\n",
    "ax.plot(sorted(isoforms_unanot_L), np.arange(len(isoforms_unanot_L))/len(isoforms_unanot_L), c='tab:gray', alpha=0.5, linewidth=2, label='Other')\n",
    "ax.set_xlabel('Median relative usage (loadings)')\n",
    "ax.set_ylabel('Cummulative\\ndistribution')\n",
    "ax.legend(frameon=False)\n",
    "# plt.plot(np.arange(len(EL_unannotated))/len(EL_unannotated), sorted(EL_unannotated))\n",
    "\n",
    "plt.savefig('../code/scratch_figures/figure2/cassette_exons.relative_usage.pdf', bbox_inches='tight')\n",
    "plt.savefig('../code/scratch_figures/figure2/cassette_exons.relative_usage.png', bbox_inches='tight', dpi=500)"
   ]
  },
  {
   "cell_type": "code",
   "execution_count": 150,
   "id": "ce1c84cd-27c3-400b-a948-6fdab12d8d5b",
   "metadata": {},
   "outputs": [
    {
     "data": {
      "text/plain": [
       "13058"
      ]
     },
     "execution_count": 150,
     "metadata": {},
     "output_type": "execute_result"
    }
   ],
   "source": [
    "len(pd.Index(snmf_vastdb_cassette_exons_confirmed.annot).union(pd.Index(gencode_exon.annot).intersection(pd.Index(snmf_exon.annot))).unique())"
   ]
  },
  {
   "cell_type": "code",
   "execution_count": 356,
   "id": "e6728169-dd2d-4fea-9888-d00943a2d7b0",
   "metadata": {},
   "outputs": [
    {
     "data": {
      "text/plain": [
       "Index(['chr1:973186:973326:973010:973500',\n",
       "       'chr1:1212638:1212704:1212138:1212992',\n",
       "       'chr1:1337018:1337055:1336515:1337977',\n",
       "       'chr1:1454345:1454500:1452434:1455460',\n",
       "       'chr1:1487863:1487914:1486668:1489204',\n",
       "       'chr1:1520548:1520617:1520306:1522744',\n",
       "       'chr1:1624991:1625185:1624901:1625286',\n",
       "       'chr1:1690976:1691393:1676846:1692449',\n",
       "       'chr1:1755374:1755476:1754698:1756258',\n",
       "       'chr1:1839190:1839238:1825499:1890820',\n",
       "       ...\n",
       "       'chrX:150795418:150795486:150795289:150831231',\n",
       "       'chrX:153546088:153546129:153543168:153547835',\n",
       "       'chrX:153863368:153863379:153862894:153863477',\n",
       "       'chrX:153941950:153942031:153941653:153942855',\n",
       "       'chrX:154092184:154092307:154032557:154097604',\n",
       "       'chrX:154352553:154352675:154352447:154352772',\n",
       "       'chrX:154357251:154357274:154355072:154357434',\n",
       "       'chrX:154414101:154414190:154413567:154419543',\n",
       "       'chrX:154486228:154486333:154485979:154486537',\n",
       "       'chrX:155046509:155046584:155033553:155051670'],\n",
       "      dtype='object', name='annot', length=4088)"
      ]
     },
     "execution_count": 356,
     "metadata": {},
     "output_type": "execute_result"
    }
   ],
   "source": [
    "pd.Index(gencode_exon.annot)"
   ]
  },
  {
   "cell_type": "code",
   "execution_count": 42,
   "id": "4e8ff608-129b-4b98-a198-c353efefe520",
   "metadata": {},
   "outputs": [],
   "source": [
    "annot_by_both = pd.Index(gencode_exon.annot).intersection(pd.Index(snmf_exon.annot)).intersection(pd.Index(snmf_vastdb_cassette_exons_confirmed.annot))\n",
    "annot_by_any = pd.Index(gencode_exon.annot).intersection(pd.Index(snmf_exon.annot)).union(pd.Index(snmf_vastdb_cassette_exons_confirmed.annot))\n",
    "\n",
    "annot_by_one = annot_by_any.difference(annot_by_both)\n",
    "\n",
    "transcripts_annotated = pd.Index(snmf_gencode_exons.transcripts).union(pd.Index(snmf_vastdb_exons.transcripts)).union(\n",
    "    pd.Index(snmf_junctions_cassette_exons.transcripts)\n",
    ")\n",
    "\n",
    "is_exon = pd.Index(snmf_cassette_exons.loc[snmf_cassette_exons.transcripts.isin(transcripts_annotated)].annot.unique())\n",
    "is_exon_only = is_exon.difference(annot_by_any)\n",
    "\n",
    "overlap_with_exon = pd.Index(bad_overlap.annot.unique())\n",
    "\n",
    "no_overlap = pd.Index(bad_no_overlap.annot.unique())\n",
    "\n",
    "\n",
    "transcripts_by_both = snmf_cassette_exons.loc[snmf_cassette_exons.annot.isin(annot_by_both)].transcripts.unique()\n",
    "transcripts_by_one = snmf_cassette_exons.loc[snmf_cassette_exons.annot.isin(annot_by_one)].transcripts.unique()\n",
    "transcripts_exon_only = snmf_cassette_exons.loc[snmf_cassette_exons.annot.isin(is_exon_only)].transcripts.unique()\n",
    "transcripts_overlap = snmf_cassette_exons.loc[snmf_cassette_exons.annot.isin(overlap_with_exon)].transcripts.unique()\n",
    "transcripts_no_overlap = snmf_cassette_exons.loc[snmf_cassette_exons.annot.isin(no_overlap)].transcripts.unique()"
   ]
  },
  {
   "cell_type": "code",
   "execution_count": 43,
   "id": "3efe675f-17f6-4c85-a3f7-7c51861ace2c",
   "metadata": {},
   "outputs": [
    {
     "data": {
      "text/plain": [
       "3003"
      ]
     },
     "execution_count": 43,
     "metadata": {},
     "output_type": "execute_result"
    }
   ],
   "source": [
    "len(annot_by_both)"
   ]
  },
  {
   "cell_type": "code",
   "execution_count": 44,
   "id": "55019f2b-7b63-463c-85ec-edba83581b0a",
   "metadata": {},
   "outputs": [
    {
     "data": {
      "text/plain": [
       "10055"
      ]
     },
     "execution_count": 44,
     "metadata": {},
     "output_type": "execute_result"
    }
   ],
   "source": [
    "len(annot_by_one)"
   ]
  },
  {
   "cell_type": "code",
   "execution_count": 45,
   "id": "d0345266-a544-4768-aa9c-0b189e5d0656",
   "metadata": {},
   "outputs": [
    {
     "data": {
      "text/plain": [
       "6597"
      ]
     },
     "execution_count": 45,
     "metadata": {},
     "output_type": "execute_result"
    }
   ],
   "source": [
    "len(is_exon_only)"
   ]
  },
  {
   "cell_type": "code",
   "execution_count": 46,
   "id": "fe0979a4-35fa-4f0f-b3b8-16fe61502762",
   "metadata": {},
   "outputs": [
    {
     "data": {
      "text/plain": [
       "3758"
      ]
     },
     "execution_count": 46,
     "metadata": {},
     "output_type": "execute_result"
    }
   ],
   "source": [
    "len(overlap_with_exon)"
   ]
  },
  {
   "cell_type": "code",
   "execution_count": 151,
   "id": "77975cb0-0ba5-4596-8c62-17461905d9a9",
   "metadata": {},
   "outputs": [
    {
     "data": {
      "text/plain": [
       "Index(['chr10:100178133:100178194:100176070:100185514',\n",
       "       'chr10:100179201:100179247:100178194:100183756',\n",
       "       'chr10:100250248:100250332:100246935:100253421',\n",
       "       'chr10:100356532:100356764:100354632:100360734',\n",
       "       'chr10:100950676:100956537:100950207:100959428',\n",
       "       'chr10:100973547:100973609:100973277:100977632',\n",
       "       'chr10:100990436:100990543:100989884:100990869',\n",
       "       'chr10:101037382:101038692:101037203:101039175',\n",
       "       'chr10:101039175:101039222:101037203:101039489',\n",
       "       'chr10:101580248:101580416:101579817:101582763',\n",
       "       ...\n",
       "       'chrX:75293472:75293514:75274640:75296342',\n",
       "       'chrX:75296342:75296411:75274640:75297491',\n",
       "       'chrX:75297491:75297553:75274640:75299735',\n",
       "       'chrX:75424652:75424784:75421990:75429078',\n",
       "       'chrX:78020945:78021079:78020398:78029250',\n",
       "       'chrX:78042585:78042788:78040733:78043317',\n",
       "       'chrX:80717573:80717759:80704846:80719489',\n",
       "       'chrX:80791854:80791952:80745729:80793622',\n",
       "       'chrX:85054344:85054398:85051508:85055827',\n",
       "       'chrX:85067127:85067218:85055925:85073998'],\n",
       "      dtype='object', length=6597)"
      ]
     },
     "execution_count": 151,
     "metadata": {},
     "output_type": "execute_result"
    }
   ],
   "source": [
    "is_exon_only"
   ]
  },
  {
   "cell_type": "code",
   "execution_count": 48,
   "id": "5c798225-c75e-4f9b-bc33-b94f910c94c9",
   "metadata": {},
   "outputs": [
    {
     "data": {
      "image/png": "[encoded data removed]",
      "text/plain": [
       "<Figure size 60x300 with 1 Axes>"
      ]
     },
     "metadata": {},
     "output_type": "display_data"
    }
   ],
   "source": [
    "fig, ax = plt.subplots(figsize=(0.6, 3))\n",
    "ax.bar([0], [28464], color='tab:gray', alpha=0.5, label='Other')\n",
    "ax.bar([0], [23413], color='turquoise', alpha=0.5, label='Partial overlap')\n",
    "ax.bar([0], [19655], color='tab:cyan', label='Annotated exon')\n",
    "# ax.bar([0], [18629], color='tab:green')\n",
    "ax.bar([0], [13058], color='tab:blue', label='Annotated\\ncassette exon')\n",
    "ax.bar([0], [3003], color='navy', label='Gencode & VastDB\\ncassette exon')\n",
    "ax.set_xlim([-1, 1])\n",
    "ax.spines[['right', 'top']].set_visible(False)\n",
    "ax.set_xticks([])\n",
    "ax.text(1, 500, 'Gencode & VastDB\\n(3003)', c='navy')\n",
    "ax.text(1, 6500, 'Gencode or VastDB\\n(10055)', c='tab:blue')\n",
    "ax.text(1, 14500, 'Annotated exon\\n(6597)', c='tab:cyan')\n",
    "ax.text(1, 20000, 'Partial exon overlap\\n(3758)', c='turquoise')\n",
    "ax.text(1, 24500, 'Other\\n(5051)', c='tab:gray')\n",
    "\n",
    "# ax.legend(frameon=False, bbox_to_anchor =(2, 0.5))\n",
    "\n",
    "plt.savefig('../code/scratch_figures/figure2/cassette_exons.barplot.pdf', bbox_inches='tight')\n",
    "plt.savefig('../code/scratch_figures/figure2/cassette_exons.barplot.png', bbox_inches='tight', dpi=500)"
   ]
  },
  {
   "cell_type": "code",
   "execution_count": 49,
   "id": "472a40ba-836c-48e1-8927-2fc25f8a7de5",
   "metadata": {},
   "outputs": [],
   "source": [
    "def get_L_for_transcripts(transcripts_list, EL):\n",
    "    df = pd.DataFrame()\n",
    "    isoforms = []\n",
    "    tr_ = []\n",
    "    for tr in transcripts_list:\n",
    "        iso = tr.split('|')\n",
    "        isoforms.extend(iso)\n",
    "        tr_.extend([tr]*len(iso))\n",
    "    \n",
    "    df['transcript'] = tr_\n",
    "    df['isoform'] = isoforms\n",
    "    \n",
    "    samples = [x for x in EL.columns if x.startswith('GTEX-')]\n",
    "    EL_slice = EL.reindex(df.isoform).fillna(0.001)\n",
    "    merged = df.merge(EL_slice, right_index=True, left_on = 'isoform').drop_duplicates()\n",
    "    \n",
    "    \n",
    "    return merged.groupby('transcript')[samples].sum()"
   ]
  },
  {
   "cell_type": "code",
   "execution_count": 50,
   "id": "a25c7421-f288-4ad2-89e0-89a63c7895a5",
   "metadata": {},
   "outputs": [],
   "source": [
    "transcripts_by_both = snmf_cassette_exons.loc[snmf_cassette_exons.annot.isin(annot_by_both)].transcripts.unique()\n",
    "transcripts_by_one = snmf_cassette_exons.loc[snmf_cassette_exons.annot.isin(annot_by_one)].transcripts.unique()\n",
    "transcripts_exon_only = snmf_cassette_exons.loc[snmf_cassette_exons.annot.isin(is_exon_only)].transcripts.unique()\n",
    "transcripts_overlap = snmf_cassette_exons.loc[snmf_cassette_exons.annot.isin(overlap_with_exon)].transcripts.unique()\n",
    "transcripts_no_overlap = snmf_cassette_exons.loc[snmf_cassette_exons.annot.isin(no_overlap)].transcripts.unique()\n",
    "\n",
    "\n",
    "EL_section = get_L_for_transcripts(transcripts_by_both, EL)\n",
    "EL_by_both = np.array(EL_section.median(axis=1))\n",
    "EL_Q9 = np.array(EL_section.quantile(0.9, axis=1))\n",
    "EL_Q1 = np.array(EL_section.quantile(0.1, axis=1))\n",
    "diff_EL_by_both = EL_Q9 - EL_Q1\n",
    "\n",
    "EL_section = get_L_for_transcripts(transcripts_by_one, EL)\n",
    "EL_by_one = np.array(EL_section.median(axis=1))\n",
    "EL_Q9 = np.array(EL_section.quantile(0.9, axis=1))\n",
    "EL_Q1 = np.array(EL_section.quantile(0.1, axis=1))\n",
    "diff_EL_by_one = EL_Q9 - EL_Q1\n",
    "\n",
    "EL_section = get_L_for_transcripts(transcripts_exon_only, EL)\n",
    "EL_exon_only = np.array(EL_section.median(axis=1))\n",
    "EL_Q9 = np.array(EL_section.quantile(0.9, axis=1))\n",
    "EL_Q1 = np.array(EL_section.quantile(0.1, axis=1))\n",
    "diff_EL_exon_only = EL_Q9 - EL_Q1\n",
    "\n",
    "EL_section = get_L_for_transcripts(transcripts_overlap, EL)\n",
    "EL_overlap = np.array(EL_section.median(axis=1))\n",
    "EL_Q9 = np.array(EL_section.quantile(0.9, axis=1))\n",
    "EL_Q1 = np.array(EL_section.quantile(0.1, axis=1))\n",
    "diff_EL_overlap = EL_Q9 - EL_Q1\n",
    "\n",
    "EL_section = get_L_for_transcripts(transcripts_no_overlap, EL)\n",
    "EL_no_overlap = np.array(EL_section.median(axis=1))\n",
    "EL_Q9 = np.array(EL_section.quantile(0.9, axis=1))\n",
    "EL_Q1 = np.array(EL_section.quantile(0.1, axis=1))\n",
    "diff_EL_no_overlap = EL_Q9 - EL_Q1"
   ]
  },
  {
   "cell_type": "code",
   "execution_count": 51,
   "id": "a06b661d-27f2-4efd-9a84-329f6a433913",
   "metadata": {},
   "outputs": [
    {
     "data": {
      "text/plain": [
       "array([0.2873, 0.7568, 0.6391, ..., 0.2413, 0.9104, 0.5751])"
      ]
     },
     "execution_count": 51,
     "metadata": {},
     "output_type": "execute_result"
    }
   ],
   "source": [
    "EL_by_both"
   ]
  },
  {
   "cell_type": "code",
   "execution_count": 52,
   "id": "81cd08e3-c5b2-49b0-bab9-7469b0cc81de",
   "metadata": {},
   "outputs": [
    {
     "data": {
      "image/png": "[encoded data removed]",
      "text/plain": [
       "<Figure size 300x300 with 1 Axes>"
      ]
     },
     "metadata": {},
     "output_type": "display_data"
    }
   ],
   "source": [
    "fig, ax = plt.subplots(figsize=(3, 3))\n",
    "\n",
    "ax.plot(sorted(diff_EL_by_both), np.arange(len(diff_EL_by_both))/len(diff_EL_by_both), c='navy', linewidth=2, label='Gencode & VastDB')\n",
    "ax.plot(sorted(diff_EL_by_one), np.arange(len(diff_EL_by_one))/len(diff_EL_by_one), c='tab:blue', linewidth=2, label='Gencode or VastDB')\n",
    "ax.plot(sorted(diff_EL_exon_only), np.arange(len(diff_EL_exon_only))/len(diff_EL_exon_only), c='tab:cyan', linewidth=2, label='Constitutive exon')\n",
    "ax.plot(sorted(diff_EL_overlap), np.arange(len(diff_EL_overlap))/len(diff_EL_overlap), c='turquoise', linewidth=2, label='Overlapping exon')\n",
    "\n",
    "ax.plot(sorted(diff_EL_no_overlap), np.arange(len(diff_EL_no_overlap))/len(diff_EL_no_overlap), c='tab:gray', alpha=0.5, linewidth=2, label='Other')\n",
    "ax.set_xlabel('Differential relative usage (loadings)')\n",
    "ax.set_ylabel('Cummulative\\ndistribution')\n",
    "ax.legend(frameon=False, bbox_to_anchor = (1, 1))\n",
    "# plt.plot(np.arange(len(EL_unannotated))/len(EL_unannotated), sorted(EL_unannotated))\n",
    "\n",
    "plt.savefig('../code/scratch_figures/figure2/cassette_exons.diff_in_L.pdf', bbox_inches='tight')\n",
    "plt.savefig('../code/scratch_figures/figure2/cassette_exons.diff_in_L.png', bbox_inches='tight', dpi=500)"
   ]
  },
  {
   "cell_type": "code",
   "execution_count": 53,
   "id": "8f7db6b9-450a-4a66-894e-370af7ad324e",
   "metadata": {},
   "outputs": [
    {
     "data": {
      "image/png": "[encoded data removed]",
      "text/plain": [
       "<Figure size 300x300 with 1 Axes>"
      ]
     },
     "metadata": {},
     "output_type": "display_data"
    }
   ],
   "source": [
    "fig, ax = plt.subplots(figsize=(3, 3))\n",
    "\n",
    "ax.plot(sorted(EL_by_both), np.arange(len(EL_by_both))/len(EL_by_both), c='navy', linewidth=2, label='Gencode & VastDB')\n",
    "ax.plot(sorted(EL_by_one), np.arange(len(EL_by_one))/len(EL_by_one), c='tab:blue', linewidth=2, label='Gencode or VastDB')\n",
    "ax.plot(sorted(EL_exon_only), np.arange(len(EL_exon_only))/len(EL_exon_only), c='tab:cyan', linewidth=2, label='Constitutive exon')\n",
    "ax.plot(sorted(EL_overlap), np.arange(len(EL_overlap))/len(EL_overlap), c='turquoise', linewidth=2, label='Overlapping exon')\n",
    "\n",
    "ax.plot(sorted(EL_no_overlap), np.arange(len(EL_no_overlap))/len(EL_no_overlap), c='tab:gray', alpha=0.5, linewidth=2, label='Other')\n",
    "ax.set_xlabel('Median relative usage (loadings)')\n",
    "ax.set_ylabel('Cummulative\\ndistribution')\n",
    "ax.legend(frameon=False, bbox_to_anchor = (1, 1))\n",
    "# plt.plot(np.arange(len(EL_unannotated))/len(EL_unannotated), sorted(EL_unannotated))\n",
    "\n",
    "plt.savefig('../code/scratch_figures/figure2/cassette_exons.median_in_L.pdf', bbox_inches='tight')\n",
    "plt.savefig('../code/scratch_figures/figure2/cassette_exons.median_in_L.png', bbox_inches='tight', dpi=500)"
   ]
  },
  {
   "cell_type": "code",
   "execution_count": 54,
   "id": "7ca9fc34-a240-49cc-a05b-04d0f3a125b8",
   "metadata": {},
   "outputs": [
    {
     "data": {
      "image/png": "[encoded data removed]",
      "text/plain": [
       "<Figure size 300x300 with 1 Axes>"
      ]
     },
     "metadata": {},
     "output_type": "display_data"
    }
   ],
   "source": [
    "fig, ax = plt.subplots(figsize=(3, 3))\n",
    "\n",
    "X = list(EL_by_both) + list(EL_by_one) + list(EL_exon_only)\n",
    "Y = list(EL_overlap) + list(EL_no_overlap)\n",
    "\n",
    "\n",
    "ax.plot(sorted(Y), np.arange(len(Y))/len(Y), c='tab:gray', linewidth=2, label='Other')\n",
    "\n",
    "ax.plot(sorted(X), np.arange(len(X))/len(X), c='tab:blue', linewidth=2, label='Annotated exon')\n",
    "\n",
    "\n",
    "ax.set_xlabel('Median relative usage (loadings)')\n",
    "ax.set_ylabel('Cummulative\\ndistribution')\n",
    "ax.legend(frameon=False, bbox_to_anchor = (1, 1))\n",
    "# plt.plot(np.arange(len(EL_unannotated))/len(EL_unannotated), sorted(EL_unannotated))\n",
    "\n",
    "plt.savefig('../code/scratch_figures/figure2/cassette_exons.median_in_L_two_categories.pdf', bbox_inches='tight')\n",
    "plt.savefig('../code/scratch_figures/figure2/cassette_exons.median_in_L_two_categories.png', bbox_inches='tight', dpi=500)"
   ]
  },
  {
   "cell_type": "code",
   "execution_count": 55,
   "id": "ac51a7a5-6723-4c34-8e1b-b7056ef42999",
   "metadata": {},
   "outputs": [
    {
     "data": {
      "image/png": "[encoded data removed]",
      "text/plain": [
       "<Figure size 300x300 with 1 Axes>"
      ]
     },
     "metadata": {},
     "output_type": "display_data"
    }
   ],
   "source": [
    "fig, ax = plt.subplots(figsize=(3, 3))\n",
    "\n",
    "X = list(diff_EL_by_both) + list(diff_EL_by_one) + list(diff_EL_exon_only)\n",
    "Y = list(diff_EL_overlap) + list(diff_EL_no_overlap)\n",
    "\n",
    "\n",
    "ax.plot(sorted(Y), np.arange(len(Y))/len(Y), c='tab:gray', linewidth=2, label='Other')\n",
    "\n",
    "ax.plot(sorted(X), np.arange(len(X))/len(X), c='tab:blue', linewidth=2, label='Annotated exon')\n",
    "\n",
    "\n",
    "ax.set_xlabel('Differential relative usage (loadings)')\n",
    "ax.set_ylabel('Cummulative\\ndistribution')\n",
    "ax.legend(frameon=False, bbox_to_anchor = (1, 1))\n",
    "# plt.plot(np.arange(len(EL_unannotated))/len(EL_unannotated), sorted(EL_unannotated))\n",
    "\n",
    "plt.savefig('../code/scratch_figures/figure2/cassette_exons.median_diff_L_two_categories.pdf', bbox_inches='tight')\n",
    "plt.savefig('../code/scratch_figures/figure2/cassette_exons.median_diff_L_two_categories.png', bbox_inches='tight', dpi=500)"
   ]
  },
  {
   "cell_type": "code",
   "execution_count": 56,
   "id": "af780901-8ff9-4f7c-bffc-e440b42b6170",
   "metadata": {},
   "outputs": [],
   "source": [
    "EL_section = get_L_for_transcripts(transcripts_by_both, EL)"
   ]
  },
  {
   "cell_type": "code",
   "execution_count": 57,
   "id": "07d33f60-094a-44c3-b7ba-0145d4f98aaf",
   "metadata": {},
   "outputs": [
    {
     "data": {
      "text/plain": [
       "array([0.2982748, 0.7000074, 0.6154065, ..., 0.2970787, 0.8491943,\n",
       "       0.5685577])"
      ]
     },
     "execution_count": 57,
     "metadata": {},
     "output_type": "execute_result"
    }
   ],
   "source": [
    "np.array(EL_section.mean(axis=1))"
   ]
  },
  {
   "cell_type": "code",
   "execution_count": 58,
   "id": "8a9acf49-ef0f-4476-b5cb-1e47975a6ffb",
   "metadata": {},
   "outputs": [],
   "source": [
    "EL_samples = [x for x in EL.columns if x.startswith('GTEX-')]\n",
    "EL_no_overlap = EL.reindex(transcripts_no_overlap).dropna()[EL_samples]"
   ]
  },
  {
   "cell_type": "code",
   "execution_count": 147,
   "id": "e7a4bfa0-3caf-4553-b994-76853f39f015",
   "metadata": {},
   "outputs": [
    {
     "data": {
      "text/plain": [
       "pid\n",
       "ENSG00000188976.isoform_3     0.00000\n",
       "ENSG00000133424.isoform_10    0.00000\n",
       "ENSG00000133424.isoform_5     0.00000\n",
       "ENSG00000133424.isoform_6     0.00000\n",
       "ENSG00000133424.isoform_2     0.00000\n",
       "                               ...   \n",
       "ENSG00000154217.isoform_9     0.01520\n",
       "ENSG00000188641.isoform_7     0.01530\n",
       "ENSG00000086102.isoform_5     0.01550\n",
       "ENSG00000068305.isoform_3     0.01550\n",
       "ENSG00000127527.isoform_10    0.01555\n",
       "Name: 0.5, Length: 1960, dtype: float64"
      ]
     },
     "execution_count": 147,
     "metadata": {},
     "output_type": "execute_result"
    }
   ],
   "source": [
    "EL_no_overlap.quantile(axis=1).sort_values()[:1960]"
   ]
  },
  {
   "cell_type": "code",
   "execution_count": null,
   "id": "4fcfc3c8-31f9-4e9f-a2af-e87ea4424e9f",
   "metadata": {},
   "outputs": [],
   "source": [
    "is_exon_only"
   ]
  },
  {
   "cell_type": "code",
   "execution_count": 161,
   "id": "fface49e-8822-4b1f-86e1-6b362c329664",
   "metadata": {},
   "outputs": [],
   "source": [
    "EL_section = get_L_for_transcripts(transcripts_exon_only, EL)"
   ]
  },
  {
   "cell_type": "code",
   "execution_count": 162,
   "id": "2e240e63-46cc-4b69-9436-32d3356a8526",
   "metadata": {},
   "outputs": [
    {
     "data": {
      "text/html": [
       "<div>\n",
       "<style scoped>\n",
       "    .dataframe tbody tr th:only-of-type {\n",
       "        vertical-align: middle;\n",
       "    }\n",
       "\n",
       "    .dataframe tbody tr th {\n",
       "        vertical-align: top;\n",
       "    }\n",
       "\n",
       "    .dataframe thead th {\n",
       "        text-align: right;\n",
       "    }\n",
       "</style>\n",
       "<table border=\"1\" class=\"dataframe\">\n",
       "  <thead>\n",
       "    <tr style=\"text-align: right;\">\n",
       "      <th></th>\n",
       "      <th>GTEX-1117F-0426-SM-5EGHI</th>\n",
       "      <th>GTEX-1122O-2426-SM-5GIDN</th>\n",
       "      <th>GTEX-1128S-2426-SM-5H11B</th>\n",
       "      <th>GTEX-113JC-2726-SM-5EGIS</th>\n",
       "      <th>GTEX-11DXX-2726-SM-5PNXO</th>\n",
       "      <th>GTEX-11EM3-2126-SM-5H11M</th>\n",
       "      <th>GTEX-11EMC-2626-SM-59864</th>\n",
       "      <th>GTEX-11GSP-2726-SM-5A5LJ</th>\n",
       "      <th>GTEX-11I78-2426-SM-5A5K9</th>\n",
       "      <th>GTEX-11P81-2526-SM-5GU6H</th>\n",
       "      <th>...</th>\n",
       "      <th>GTEX-13PVQ-0011-R7a-SM-5L3G3</th>\n",
       "      <th>GTEX-13RTJ-0011-R7b-SM-5P9JS</th>\n",
       "      <th>GTEX-13VXU-0011-R7b-SM-5SI72</th>\n",
       "      <th>GTEX-13X6I-0011-R7b-SM-5PNWP</th>\n",
       "      <th>GTEX-13X6J-0011-R7b-SM-5PNUC</th>\n",
       "      <th>GTEX-1445S-0011-R7b-SM-5PNUG</th>\n",
       "      <th>GTEX-144GL-0011-R7b-SM-5P9HX</th>\n",
       "      <th>GTEX-144GO-0011-R7b-SM-5S2TT</th>\n",
       "      <th>GTEX-145MG-0011-R7b-SM-5P9JY</th>\n",
       "      <th>GTEX-145MH-0011-R7a-SM-5PNWH</th>\n",
       "    </tr>\n",
       "    <tr>\n",
       "      <th>transcript</th>\n",
       "      <th></th>\n",
       "      <th></th>\n",
       "      <th></th>\n",
       "      <th></th>\n",
       "      <th></th>\n",
       "      <th></th>\n",
       "      <th></th>\n",
       "      <th></th>\n",
       "      <th></th>\n",
       "      <th></th>\n",
       "      <th></th>\n",
       "      <th></th>\n",
       "      <th></th>\n",
       "      <th></th>\n",
       "      <th></th>\n",
       "      <th></th>\n",
       "      <th></th>\n",
       "      <th></th>\n",
       "      <th></th>\n",
       "      <th></th>\n",
       "      <th></th>\n",
       "    </tr>\n",
       "  </thead>\n",
       "  <tbody>\n",
       "    <tr>\n",
       "      <th>ENSG00000000460.isoform_1|ENSG00000000460.isoform_2|ENSG00000000460.isoform_3</th>\n",
       "      <td>1.0000</td>\n",
       "      <td>0.9998</td>\n",
       "      <td>0.9997</td>\n",
       "      <td>1.0000</td>\n",
       "      <td>1.0000</td>\n",
       "      <td>1.0001</td>\n",
       "      <td>1.0001</td>\n",
       "      <td>0.9998</td>\n",
       "      <td>0.9997</td>\n",
       "      <td>0.9000</td>\n",
       "      <td>...</td>\n",
       "      <td>0.9998</td>\n",
       "      <td>1.0002</td>\n",
       "      <td>1.0002</td>\n",
       "      <td>0.9999</td>\n",
       "      <td>0.9999</td>\n",
       "      <td>0.9997</td>\n",
       "      <td>0.9998</td>\n",
       "      <td>0.9000</td>\n",
       "      <td>0.9998</td>\n",
       "      <td>1.0001</td>\n",
       "    </tr>\n",
       "    <tr>\n",
       "      <th>ENSG00000000938.isoform_5</th>\n",
       "      <td>0.0018</td>\n",
       "      <td>0.0018</td>\n",
       "      <td>0.2641</td>\n",
       "      <td>0.0019</td>\n",
       "      <td>0.1172</td>\n",
       "      <td>0.0164</td>\n",
       "      <td>0.0026</td>\n",
       "      <td>0.0022</td>\n",
       "      <td>0.0024</td>\n",
       "      <td>0.0046</td>\n",
       "      <td>...</td>\n",
       "      <td>0.0004</td>\n",
       "      <td>0.1659</td>\n",
       "      <td>0.0006</td>\n",
       "      <td>0.0007</td>\n",
       "      <td>0.0419</td>\n",
       "      <td>0.1022</td>\n",
       "      <td>0.1165</td>\n",
       "      <td>0.0729</td>\n",
       "      <td>0.0011</td>\n",
       "      <td>0.0011</td>\n",
       "    </tr>\n",
       "    <tr>\n",
       "      <th>ENSG00000001036.isoform_7</th>\n",
       "      <td>0.0001</td>\n",
       "      <td>0.0651</td>\n",
       "      <td>0.0002</td>\n",
       "      <td>0.2235</td>\n",
       "      <td>0.0001</td>\n",
       "      <td>0.2545</td>\n",
       "      <td>0.0001</td>\n",
       "      <td>0.1062</td>\n",
       "      <td>0.0002</td>\n",
       "      <td>0.0002</td>\n",
       "      <td>...</td>\n",
       "      <td>0.0000</td>\n",
       "      <td>0.0869</td>\n",
       "      <td>0.0000</td>\n",
       "      <td>0.0000</td>\n",
       "      <td>0.0392</td>\n",
       "      <td>0.0001</td>\n",
       "      <td>0.1623</td>\n",
       "      <td>0.0001</td>\n",
       "      <td>0.0629</td>\n",
       "      <td>0.0000</td>\n",
       "    </tr>\n",
       "    <tr>\n",
       "      <th>ENSG00000001497.isoform_1</th>\n",
       "      <td>0.0001</td>\n",
       "      <td>0.0839</td>\n",
       "      <td>0.0598</td>\n",
       "      <td>0.0824</td>\n",
       "      <td>0.0458</td>\n",
       "      <td>0.0001</td>\n",
       "      <td>0.0526</td>\n",
       "      <td>0.0749</td>\n",
       "      <td>0.0548</td>\n",
       "      <td>0.0581</td>\n",
       "      <td>...</td>\n",
       "      <td>0.0000</td>\n",
       "      <td>0.2852</td>\n",
       "      <td>0.3545</td>\n",
       "      <td>0.2516</td>\n",
       "      <td>0.3157</td>\n",
       "      <td>0.1620</td>\n",
       "      <td>0.1779</td>\n",
       "      <td>0.0001</td>\n",
       "      <td>0.2696</td>\n",
       "      <td>0.4278</td>\n",
       "    </tr>\n",
       "    <tr>\n",
       "      <th>ENSG00000001497.isoform_9</th>\n",
       "      <td>0.0030</td>\n",
       "      <td>0.0001</td>\n",
       "      <td>0.0001</td>\n",
       "      <td>0.0002</td>\n",
       "      <td>0.0661</td>\n",
       "      <td>0.0731</td>\n",
       "      <td>0.0001</td>\n",
       "      <td>0.0847</td>\n",
       "      <td>0.0002</td>\n",
       "      <td>0.0518</td>\n",
       "      <td>...</td>\n",
       "      <td>0.3735</td>\n",
       "      <td>0.0459</td>\n",
       "      <td>0.1543</td>\n",
       "      <td>0.1519</td>\n",
       "      <td>0.0306</td>\n",
       "      <td>0.3596</td>\n",
       "      <td>0.3489</td>\n",
       "      <td>0.6519</td>\n",
       "      <td>0.3119</td>\n",
       "      <td>0.0001</td>\n",
       "    </tr>\n",
       "    <tr>\n",
       "      <th>...</th>\n",
       "      <td>...</td>\n",
       "      <td>...</td>\n",
       "      <td>...</td>\n",
       "      <td>...</td>\n",
       "      <td>...</td>\n",
       "      <td>...</td>\n",
       "      <td>...</td>\n",
       "      <td>...</td>\n",
       "      <td>...</td>\n",
       "      <td>...</td>\n",
       "      <td>...</td>\n",
       "      <td>...</td>\n",
       "      <td>...</td>\n",
       "      <td>...</td>\n",
       "      <td>...</td>\n",
       "      <td>...</td>\n",
       "      <td>...</td>\n",
       "      <td>...</td>\n",
       "      <td>...</td>\n",
       "      <td>...</td>\n",
       "      <td>...</td>\n",
       "    </tr>\n",
       "    <tr>\n",
       "      <th>ENSG00000283361.isoform_1</th>\n",
       "      <td>0.0010</td>\n",
       "      <td>0.0010</td>\n",
       "      <td>0.0010</td>\n",
       "      <td>0.0010</td>\n",
       "      <td>0.0010</td>\n",
       "      <td>0.0010</td>\n",
       "      <td>0.0010</td>\n",
       "      <td>0.0010</td>\n",
       "      <td>0.0010</td>\n",
       "      <td>0.0010</td>\n",
       "      <td>...</td>\n",
       "      <td>0.0010</td>\n",
       "      <td>0.0010</td>\n",
       "      <td>0.0010</td>\n",
       "      <td>0.0010</td>\n",
       "      <td>0.0010</td>\n",
       "      <td>0.0010</td>\n",
       "      <td>0.0010</td>\n",
       "      <td>0.0010</td>\n",
       "      <td>0.0010</td>\n",
       "      <td>0.0010</td>\n",
       "    </tr>\n",
       "    <tr>\n",
       "      <th>ENSG00000283361.isoform_3</th>\n",
       "      <td>0.0010</td>\n",
       "      <td>0.0010</td>\n",
       "      <td>0.0010</td>\n",
       "      <td>0.0010</td>\n",
       "      <td>0.0010</td>\n",
       "      <td>0.0010</td>\n",
       "      <td>0.0010</td>\n",
       "      <td>0.0010</td>\n",
       "      <td>0.0010</td>\n",
       "      <td>0.0010</td>\n",
       "      <td>...</td>\n",
       "      <td>0.0010</td>\n",
       "      <td>0.0010</td>\n",
       "      <td>0.0010</td>\n",
       "      <td>0.0010</td>\n",
       "      <td>0.0010</td>\n",
       "      <td>0.0010</td>\n",
       "      <td>0.0010</td>\n",
       "      <td>0.0010</td>\n",
       "      <td>0.0010</td>\n",
       "      <td>0.0010</td>\n",
       "    </tr>\n",
       "    <tr>\n",
       "      <th>ENSG00000283361.isoform_4</th>\n",
       "      <td>0.0010</td>\n",
       "      <td>0.0010</td>\n",
       "      <td>0.0010</td>\n",
       "      <td>0.0010</td>\n",
       "      <td>0.0010</td>\n",
       "      <td>0.0010</td>\n",
       "      <td>0.0010</td>\n",
       "      <td>0.0010</td>\n",
       "      <td>0.0010</td>\n",
       "      <td>0.0010</td>\n",
       "      <td>...</td>\n",
       "      <td>0.0010</td>\n",
       "      <td>0.0010</td>\n",
       "      <td>0.0010</td>\n",
       "      <td>0.0010</td>\n",
       "      <td>0.0010</td>\n",
       "      <td>0.0010</td>\n",
       "      <td>0.0010</td>\n",
       "      <td>0.0010</td>\n",
       "      <td>0.0010</td>\n",
       "      <td>0.0010</td>\n",
       "    </tr>\n",
       "    <tr>\n",
       "      <th>ENSG00000283361.isoform_6</th>\n",
       "      <td>0.0010</td>\n",
       "      <td>0.0010</td>\n",
       "      <td>0.0010</td>\n",
       "      <td>0.0010</td>\n",
       "      <td>0.0010</td>\n",
       "      <td>0.0010</td>\n",
       "      <td>0.0010</td>\n",
       "      <td>0.0010</td>\n",
       "      <td>0.0010</td>\n",
       "      <td>0.0010</td>\n",
       "      <td>...</td>\n",
       "      <td>0.0010</td>\n",
       "      <td>0.0010</td>\n",
       "      <td>0.0010</td>\n",
       "      <td>0.0010</td>\n",
       "      <td>0.0010</td>\n",
       "      <td>0.0010</td>\n",
       "      <td>0.0010</td>\n",
       "      <td>0.0010</td>\n",
       "      <td>0.0010</td>\n",
       "      <td>0.0010</td>\n",
       "    </tr>\n",
       "    <tr>\n",
       "      <th>ENSG00000283378.isoform_1|ENSG00000283378.isoform_10|ENSG00000283378.isoform_5|ENSG00000283378.isoform_7</th>\n",
       "      <td>0.0040</td>\n",
       "      <td>0.0040</td>\n",
       "      <td>0.0040</td>\n",
       "      <td>0.0040</td>\n",
       "      <td>0.0040</td>\n",
       "      <td>0.0040</td>\n",
       "      <td>0.0040</td>\n",
       "      <td>0.0040</td>\n",
       "      <td>0.0040</td>\n",
       "      <td>0.0040</td>\n",
       "      <td>...</td>\n",
       "      <td>0.0040</td>\n",
       "      <td>0.0040</td>\n",
       "      <td>0.0040</td>\n",
       "      <td>0.0040</td>\n",
       "      <td>0.0040</td>\n",
       "      <td>0.0040</td>\n",
       "      <td>0.0040</td>\n",
       "      <td>0.0040</td>\n",
       "      <td>0.0040</td>\n",
       "      <td>0.0040</td>\n",
       "    </tr>\n",
       "  </tbody>\n",
       "</table>\n",
       "<p>5852 rows × 1000 columns</p>\n",
       "</div>"
      ],
      "text/plain": [
       "                                                    GTEX-1117F-0426-SM-5EGHI  \\\n",
       "transcript                                                                     \n",
       "ENSG00000000460.isoform_1|ENSG00000000460.isofo...                    1.0000   \n",
       "ENSG00000000938.isoform_5                                             0.0018   \n",
       "ENSG00000001036.isoform_7                                             0.0001   \n",
       "ENSG00000001497.isoform_1                                             0.0001   \n",
       "ENSG00000001497.isoform_9                                             0.0030   \n",
       "...                                                                      ...   \n",
       "ENSG00000283361.isoform_1                                             0.0010   \n",
       "ENSG00000283361.isoform_3                                             0.0010   \n",
       "ENSG00000283361.isoform_4                                             0.0010   \n",
       "ENSG00000283361.isoform_6                                             0.0010   \n",
       "ENSG00000283378.isoform_1|ENSG00000283378.isofo...                    0.0040   \n",
       "\n",
       "                                                    GTEX-1122O-2426-SM-5GIDN  \\\n",
       "transcript                                                                     \n",
       "ENSG00000000460.isoform_1|ENSG00000000460.isofo...                    0.9998   \n",
       "ENSG00000000938.isoform_5                                             0.0018   \n",
       "ENSG00000001036.isoform_7                                             0.0651   \n",
       "ENSG00000001497.isoform_1                                             0.0839   \n",
       "ENSG00000001497.isoform_9                                             0.0001   \n",
       "...                                                                      ...   \n",
       "ENSG00000283361.isoform_1                                             0.0010   \n",
       "ENSG00000283361.isoform_3                                             0.0010   \n",
       "ENSG00000283361.isoform_4                                             0.0010   \n",
       "ENSG00000283361.isoform_6                                             0.0010   \n",
       "ENSG00000283378.isoform_1|ENSG00000283378.isofo...                    0.0040   \n",
       "\n",
       "                                                    GTEX-1128S-2426-SM-5H11B  \\\n",
       "transcript                                                                     \n",
       "ENSG00000000460.isoform_1|ENSG00000000460.isofo...                    0.9997   \n",
       "ENSG00000000938.isoform_5                                             0.2641   \n",
       "ENSG00000001036.isoform_7                                             0.0002   \n",
       "ENSG00000001497.isoform_1                                             0.0598   \n",
       "ENSG00000001497.isoform_9                                             0.0001   \n",
       "...                                                                      ...   \n",
       "ENSG00000283361.isoform_1                                             0.0010   \n",
       "ENSG00000283361.isoform_3                                             0.0010   \n",
       "ENSG00000283361.isoform_4                                             0.0010   \n",
       "ENSG00000283361.isoform_6                                             0.0010   \n",
       "ENSG00000283378.isoform_1|ENSG00000283378.isofo...                    0.0040   \n",
       "\n",
       "                                                    GTEX-113JC-2726-SM-5EGIS  \\\n",
       "transcript                                                                     \n",
       "ENSG00000000460.isoform_1|ENSG00000000460.isofo...                    1.0000   \n",
       "ENSG00000000938.isoform_5                                             0.0019   \n",
       "ENSG00000001036.isoform_7                                             0.2235   \n",
       "ENSG00000001497.isoform_1                                             0.0824   \n",
       "ENSG00000001497.isoform_9                                             0.0002   \n",
       "...                                                                      ...   \n",
       "ENSG00000283361.isoform_1                                             0.0010   \n",
       "ENSG00000283361.isoform_3                                             0.0010   \n",
       "ENSG00000283361.isoform_4                                             0.0010   \n",
       "ENSG00000283361.isoform_6                                             0.0010   \n",
       "ENSG00000283378.isoform_1|ENSG00000283378.isofo...                    0.0040   \n",
       "\n",
       "                                                    GTEX-11DXX-2726-SM-5PNXO  \\\n",
       "transcript                                                                     \n",
       "ENSG00000000460.isoform_1|ENSG00000000460.isofo...                    1.0000   \n",
       "ENSG00000000938.isoform_5                                             0.1172   \n",
       "ENSG00000001036.isoform_7                                             0.0001   \n",
       "ENSG00000001497.isoform_1                                             0.0458   \n",
       "ENSG00000001497.isoform_9                                             0.0661   \n",
       "...                                                                      ...   \n",
       "ENSG00000283361.isoform_1                                             0.0010   \n",
       "ENSG00000283361.isoform_3                                             0.0010   \n",
       "ENSG00000283361.isoform_4                                             0.0010   \n",
       "ENSG00000283361.isoform_6                                             0.0010   \n",
       "ENSG00000283378.isoform_1|ENSG00000283378.isofo...                    0.0040   \n",
       "\n",
       "                                                    GTEX-11EM3-2126-SM-5H11M  \\\n",
       "transcript                                                                     \n",
       "ENSG00000000460.isoform_1|ENSG00000000460.isofo...                    1.0001   \n",
       "ENSG00000000938.isoform_5                                             0.0164   \n",
       "ENSG00000001036.isoform_7                                             0.2545   \n",
       "ENSG00000001497.isoform_1                                             0.0001   \n",
       "ENSG00000001497.isoform_9                                             0.0731   \n",
       "...                                                                      ...   \n",
       "ENSG00000283361.isoform_1                                             0.0010   \n",
       "ENSG00000283361.isoform_3                                             0.0010   \n",
       "ENSG00000283361.isoform_4                                             0.0010   \n",
       "ENSG00000283361.isoform_6                                             0.0010   \n",
       "ENSG00000283378.isoform_1|ENSG00000283378.isofo...                    0.0040   \n",
       "\n",
       "                                                    GTEX-11EMC-2626-SM-59864  \\\n",
       "transcript                                                                     \n",
       "ENSG00000000460.isoform_1|ENSG00000000460.isofo...                    1.0001   \n",
       "ENSG00000000938.isoform_5                                             0.0026   \n",
       "ENSG00000001036.isoform_7                                             0.0001   \n",
       "ENSG00000001497.isoform_1                                             0.0526   \n",
       "ENSG00000001497.isoform_9                                             0.0001   \n",
       "...                                                                      ...   \n",
       "ENSG00000283361.isoform_1                                             0.0010   \n",
       "ENSG00000283361.isoform_3                                             0.0010   \n",
       "ENSG00000283361.isoform_4                                             0.0010   \n",
       "ENSG00000283361.isoform_6                                             0.0010   \n",
       "ENSG00000283378.isoform_1|ENSG00000283378.isofo...                    0.0040   \n",
       "\n",
       "                                                    GTEX-11GSP-2726-SM-5A5LJ  \\\n",
       "transcript                                                                     \n",
       "ENSG00000000460.isoform_1|ENSG00000000460.isofo...                    0.9998   \n",
       "ENSG00000000938.isoform_5                                             0.0022   \n",
       "ENSG00000001036.isoform_7                                             0.1062   \n",
       "ENSG00000001497.isoform_1                                             0.0749   \n",
       "ENSG00000001497.isoform_9                                             0.0847   \n",
       "...                                                                      ...   \n",
       "ENSG00000283361.isoform_1                                             0.0010   \n",
       "ENSG00000283361.isoform_3                                             0.0010   \n",
       "ENSG00000283361.isoform_4                                             0.0010   \n",
       "ENSG00000283361.isoform_6                                             0.0010   \n",
       "ENSG00000283378.isoform_1|ENSG00000283378.isofo...                    0.0040   \n",
       "\n",
       "                                                    GTEX-11I78-2426-SM-5A5K9  \\\n",
       "transcript                                                                     \n",
       "ENSG00000000460.isoform_1|ENSG00000000460.isofo...                    0.9997   \n",
       "ENSG00000000938.isoform_5                                             0.0024   \n",
       "ENSG00000001036.isoform_7                                             0.0002   \n",
       "ENSG00000001497.isoform_1                                             0.0548   \n",
       "ENSG00000001497.isoform_9                                             0.0002   \n",
       "...                                                                      ...   \n",
       "ENSG00000283361.isoform_1                                             0.0010   \n",
       "ENSG00000283361.isoform_3                                             0.0010   \n",
       "ENSG00000283361.isoform_4                                             0.0010   \n",
       "ENSG00000283361.isoform_6                                             0.0010   \n",
       "ENSG00000283378.isoform_1|ENSG00000283378.isofo...                    0.0040   \n",
       "\n",
       "                                                    GTEX-11P81-2526-SM-5GU6H  \\\n",
       "transcript                                                                     \n",
       "ENSG00000000460.isoform_1|ENSG00000000460.isofo...                    0.9000   \n",
       "ENSG00000000938.isoform_5                                             0.0046   \n",
       "ENSG00000001036.isoform_7                                             0.0002   \n",
       "ENSG00000001497.isoform_1                                             0.0581   \n",
       "ENSG00000001497.isoform_9                                             0.0518   \n",
       "...                                                                      ...   \n",
       "ENSG00000283361.isoform_1                                             0.0010   \n",
       "ENSG00000283361.isoform_3                                             0.0010   \n",
       "ENSG00000283361.isoform_4                                             0.0010   \n",
       "ENSG00000283361.isoform_6                                             0.0010   \n",
       "ENSG00000283378.isoform_1|ENSG00000283378.isofo...                    0.0040   \n",
       "\n",
       "                                                    ...  \\\n",
       "transcript                                          ...   \n",
       "ENSG00000000460.isoform_1|ENSG00000000460.isofo...  ...   \n",
       "ENSG00000000938.isoform_5                           ...   \n",
       "ENSG00000001036.isoform_7                           ...   \n",
       "ENSG00000001497.isoform_1                           ...   \n",
       "ENSG00000001497.isoform_9                           ...   \n",
       "...                                                 ...   \n",
       "ENSG00000283361.isoform_1                           ...   \n",
       "ENSG00000283361.isoform_3                           ...   \n",
       "ENSG00000283361.isoform_4                           ...   \n",
       "ENSG00000283361.isoform_6                           ...   \n",
       "ENSG00000283378.isoform_1|ENSG00000283378.isofo...  ...   \n",
       "\n",
       "                                                    GTEX-13PVQ-0011-R7a-SM-5L3G3  \\\n",
       "transcript                                                                         \n",
       "ENSG00000000460.isoform_1|ENSG00000000460.isofo...                        0.9998   \n",
       "ENSG00000000938.isoform_5                                                 0.0004   \n",
       "ENSG00000001036.isoform_7                                                 0.0000   \n",
       "ENSG00000001497.isoform_1                                                 0.0000   \n",
       "ENSG00000001497.isoform_9                                                 0.3735   \n",
       "...                                                                          ...   \n",
       "ENSG00000283361.isoform_1                                                 0.0010   \n",
       "ENSG00000283361.isoform_3                                                 0.0010   \n",
       "ENSG00000283361.isoform_4                                                 0.0010   \n",
       "ENSG00000283361.isoform_6                                                 0.0010   \n",
       "ENSG00000283378.isoform_1|ENSG00000283378.isofo...                        0.0040   \n",
       "\n",
       "                                                    GTEX-13RTJ-0011-R7b-SM-5P9JS  \\\n",
       "transcript                                                                         \n",
       "ENSG00000000460.isoform_1|ENSG00000000460.isofo...                        1.0002   \n",
       "ENSG00000000938.isoform_5                                                 0.1659   \n",
       "ENSG00000001036.isoform_7                                                 0.0869   \n",
       "ENSG00000001497.isoform_1                                                 0.2852   \n",
       "ENSG00000001497.isoform_9                                                 0.0459   \n",
       "...                                                                          ...   \n",
       "ENSG00000283361.isoform_1                                                 0.0010   \n",
       "ENSG00000283361.isoform_3                                                 0.0010   \n",
       "ENSG00000283361.isoform_4                                                 0.0010   \n",
       "ENSG00000283361.isoform_6                                                 0.0010   \n",
       "ENSG00000283378.isoform_1|ENSG00000283378.isofo...                        0.0040   \n",
       "\n",
       "                                                    GTEX-13VXU-0011-R7b-SM-5SI72  \\\n",
       "transcript                                                                         \n",
       "ENSG00000000460.isoform_1|ENSG00000000460.isofo...                        1.0002   \n",
       "ENSG00000000938.isoform_5                                                 0.0006   \n",
       "ENSG00000001036.isoform_7                                                 0.0000   \n",
       "ENSG00000001497.isoform_1                                                 0.3545   \n",
       "ENSG00000001497.isoform_9                                                 0.1543   \n",
       "...                                                                          ...   \n",
       "ENSG00000283361.isoform_1                                                 0.0010   \n",
       "ENSG00000283361.isoform_3                                                 0.0010   \n",
       "ENSG00000283361.isoform_4                                                 0.0010   \n",
       "ENSG00000283361.isoform_6                                                 0.0010   \n",
       "ENSG00000283378.isoform_1|ENSG00000283378.isofo...                        0.0040   \n",
       "\n",
       "                                                    GTEX-13X6I-0011-R7b-SM-5PNWP  \\\n",
       "transcript                                                                         \n",
       "ENSG00000000460.isoform_1|ENSG00000000460.isofo...                        0.9999   \n",
       "ENSG00000000938.isoform_5                                                 0.0007   \n",
       "ENSG00000001036.isoform_7                                                 0.0000   \n",
       "ENSG00000001497.isoform_1                                                 0.2516   \n",
       "ENSG00000001497.isoform_9                                                 0.1519   \n",
       "...                                                                          ...   \n",
       "ENSG00000283361.isoform_1                                                 0.0010   \n",
       "ENSG00000283361.isoform_3                                                 0.0010   \n",
       "ENSG00000283361.isoform_4                                                 0.0010   \n",
       "ENSG00000283361.isoform_6                                                 0.0010   \n",
       "ENSG00000283378.isoform_1|ENSG00000283378.isofo...                        0.0040   \n",
       "\n",
       "                                                    GTEX-13X6J-0011-R7b-SM-5PNUC  \\\n",
       "transcript                                                                         \n",
       "ENSG00000000460.isoform_1|ENSG00000000460.isofo...                        0.9999   \n",
       "ENSG00000000938.isoform_5                                                 0.0419   \n",
       "ENSG00000001036.isoform_7                                                 0.0392   \n",
       "ENSG00000001497.isoform_1                                                 0.3157   \n",
       "ENSG00000001497.isoform_9                                                 0.0306   \n",
       "...                                                                          ...   \n",
       "ENSG00000283361.isoform_1                                                 0.0010   \n",
       "ENSG00000283361.isoform_3                                                 0.0010   \n",
       "ENSG00000283361.isoform_4                                                 0.0010   \n",
       "ENSG00000283361.isoform_6                                                 0.0010   \n",
       "ENSG00000283378.isoform_1|ENSG00000283378.isofo...                        0.0040   \n",
       "\n",
       "                                                    GTEX-1445S-0011-R7b-SM-5PNUG  \\\n",
       "transcript                                                                         \n",
       "ENSG00000000460.isoform_1|ENSG00000000460.isofo...                        0.9997   \n",
       "ENSG00000000938.isoform_5                                                 0.1022   \n",
       "ENSG00000001036.isoform_7                                                 0.0001   \n",
       "ENSG00000001497.isoform_1                                                 0.1620   \n",
       "ENSG00000001497.isoform_9                                                 0.3596   \n",
       "...                                                                          ...   \n",
       "ENSG00000283361.isoform_1                                                 0.0010   \n",
       "ENSG00000283361.isoform_3                                                 0.0010   \n",
       "ENSG00000283361.isoform_4                                                 0.0010   \n",
       "ENSG00000283361.isoform_6                                                 0.0010   \n",
       "ENSG00000283378.isoform_1|ENSG00000283378.isofo...                        0.0040   \n",
       "\n",
       "                                                    GTEX-144GL-0011-R7b-SM-5P9HX  \\\n",
       "transcript                                                                         \n",
       "ENSG00000000460.isoform_1|ENSG00000000460.isofo...                        0.9998   \n",
       "ENSG00000000938.isoform_5                                                 0.1165   \n",
       "ENSG00000001036.isoform_7                                                 0.1623   \n",
       "ENSG00000001497.isoform_1                                                 0.1779   \n",
       "ENSG00000001497.isoform_9                                                 0.3489   \n",
       "...                                                                          ...   \n",
       "ENSG00000283361.isoform_1                                                 0.0010   \n",
       "ENSG00000283361.isoform_3                                                 0.0010   \n",
       "ENSG00000283361.isoform_4                                                 0.0010   \n",
       "ENSG00000283361.isoform_6                                                 0.0010   \n",
       "ENSG00000283378.isoform_1|ENSG00000283378.isofo...                        0.0040   \n",
       "\n",
       "                                                    GTEX-144GO-0011-R7b-SM-5S2TT  \\\n",
       "transcript                                                                         \n",
       "ENSG00000000460.isoform_1|ENSG00000000460.isofo...                        0.9000   \n",
       "ENSG00000000938.isoform_5                                                 0.0729   \n",
       "ENSG00000001036.isoform_7                                                 0.0001   \n",
       "ENSG00000001497.isoform_1                                                 0.0001   \n",
       "ENSG00000001497.isoform_9                                                 0.6519   \n",
       "...                                                                          ...   \n",
       "ENSG00000283361.isoform_1                                                 0.0010   \n",
       "ENSG00000283361.isoform_3                                                 0.0010   \n",
       "ENSG00000283361.isoform_4                                                 0.0010   \n",
       "ENSG00000283361.isoform_6                                                 0.0010   \n",
       "ENSG00000283378.isoform_1|ENSG00000283378.isofo...                        0.0040   \n",
       "\n",
       "                                                    GTEX-145MG-0011-R7b-SM-5P9JY  \\\n",
       "transcript                                                                         \n",
       "ENSG00000000460.isoform_1|ENSG00000000460.isofo...                        0.9998   \n",
       "ENSG00000000938.isoform_5                                                 0.0011   \n",
       "ENSG00000001036.isoform_7                                                 0.0629   \n",
       "ENSG00000001497.isoform_1                                                 0.2696   \n",
       "ENSG00000001497.isoform_9                                                 0.3119   \n",
       "...                                                                          ...   \n",
       "ENSG00000283361.isoform_1                                                 0.0010   \n",
       "ENSG00000283361.isoform_3                                                 0.0010   \n",
       "ENSG00000283361.isoform_4                                                 0.0010   \n",
       "ENSG00000283361.isoform_6                                                 0.0010   \n",
       "ENSG00000283378.isoform_1|ENSG00000283378.isofo...                        0.0040   \n",
       "\n",
       "                                                    GTEX-145MH-0011-R7a-SM-5PNWH  \n",
       "transcript                                                                        \n",
       "ENSG00000000460.isoform_1|ENSG00000000460.isofo...                        1.0001  \n",
       "ENSG00000000938.isoform_5                                                 0.0011  \n",
       "ENSG00000001036.isoform_7                                                 0.0000  \n",
       "ENSG00000001497.isoform_1                                                 0.4278  \n",
       "ENSG00000001497.isoform_9                                                 0.0001  \n",
       "...                                                                          ...  \n",
       "ENSG00000283361.isoform_1                                                 0.0010  \n",
       "ENSG00000283361.isoform_3                                                 0.0010  \n",
       "ENSG00000283361.isoform_4                                                 0.0010  \n",
       "ENSG00000283361.isoform_6                                                 0.0010  \n",
       "ENSG00000283378.isoform_1|ENSG00000283378.isofo...                        0.0040  \n",
       "\n",
       "[5852 rows x 1000 columns]"
      ]
     },
     "execution_count": 162,
     "metadata": {},
     "output_type": "execute_result"
    }
   ],
   "source": [
    "EL_section"
   ]
  },
  {
   "cell_type": "code",
   "execution_count": 163,
   "id": "21bb7ff4-9e0a-4edf-a130-5748cafdf65c",
   "metadata": {},
   "outputs": [],
   "source": [
    "EL_samples = [x for x in EL.columns if x.startswith('GTEX-')]\n",
    "EL_no_overlap = EL.reindex(transcripts_exon_only).dropna()[EL_samples]"
   ]
  },
  {
   "cell_type": "code",
   "execution_count": 168,
   "id": "45dbc1f7-f8a3-4748-a846-38cb20b3d636",
   "metadata": {},
   "outputs": [
    {
     "data": {
      "text/plain": [
       "array(['ENSG00000188976.isoform_1|ENSG00000188976.isoform_2|ENSG00000188976.isoform_4|ENSG00000188976.isoform_5|ENSG00000188976.isoform_6|ENSG00000188976.isoform_7',\n",
       "       'ENSG00000188976.isoform_1|ENSG00000188976.isoform_4|ENSG00000188976.isoform_5|ENSG00000188976.isoform_7',\n",
       "       'ENSG00000188976.isoform_1|ENSG00000188976.isoform_4|ENSG00000188976.isoform_5|ENSG00000188976.isoform_6|ENSG00000188976.isoform_7',\n",
       "       ..., 'ENSG00000130830.isoform_1|ENSG00000130830.isoform_2',\n",
       "       'ENSG00000185010.isoform_2', 'ENSG00000155959.isoform_1'],\n",
       "      dtype=object)"
      ]
     },
     "execution_count": 168,
     "metadata": {},
     "output_type": "execute_result"
    }
   ],
   "source": [
    "transcripts_exon_only"
   ]
  },
  {
   "cell_type": "code",
   "execution_count": 180,
   "id": "92b8c03b-173b-4cba-8b66-4bb55f79bca6",
   "metadata": {},
   "outputs": [
    {
     "data": {
      "text/plain": [
       "transcript\n",
       "ENSG00000145349.isoform_1|ENSG00000145349.isoform_2|ENSG00000145349.isoform_6                                                                                                             0.588425\n",
       "ENSG00000137601.isoform_1|ENSG00000137601.isoform_10|ENSG00000137601.isoform_5|ENSG00000137601.isoform_9|ENSG00000137601.isoform_3                                                        0.589800\n",
       "ENSG00000185104.isoform_2|ENSG00000185104.isoform_3|ENSG00000185104.isoform_4|ENSG00000185104.isoform_5|ENSG00000185104.isoform_7|ENSG00000185104.isoform_8|ENSG00000185104.isoform_9     0.589975\n",
       "ENSG00000170921.isoform_10|ENSG00000170921.isoform_5|ENSG00000170921.isoform_7                                                                                                            0.591075\n",
       "ENSG00000136828.isoform_1|ENSG00000136828.isoform_6|ENSG00000136828.isoform_9                                                                                                             0.592450\n",
       "ENSG00000038210.isoform_1|ENSG00000038210.isoform_10|ENSG00000038210.isoform_4|ENSG00000038210.isoform_5                                                                                  0.594275\n",
       "ENSG00000157657.isoform_8                                                                                                                                                                 0.595625\n",
       "ENSG00000172159.isoform_3|ENSG00000172159.isoform_8|ENSG00000172159.isoform_5                                                                                                             0.597675\n",
       "ENSG00000160111.isoform_2|ENSG00000160111.isoform_6                                                                                                                                       0.604050\n",
       "ENSG00000163539.isoform_2|ENSG00000163539.isoform_6|ENSG00000163539.isoform_7                                                                                                             0.606950\n",
       "ENSG00000176225.isoform_1|ENSG00000176225.isoform_3|ENSG00000176225.isoform_8|ENSG00000176225.isoform_9                                                                                   0.607850\n",
       "ENSG00000176225.isoform_1|ENSG00000176225.isoform_3|ENSG00000176225.isoform_9|ENSG00000176225.isoform_8                                                                                   0.607850\n",
       "ENSG00000106086.isoform_2                                                                                                                                                                 0.612200\n",
       "ENSG00000135749.isoform_3|ENSG00000135749.isoform_4|ENSG00000135749.isoform_6|ENSG00000135749.isoform_8                                                                                   0.612500\n",
       "ENSG00000103489.isoform_1|ENSG00000103489.isoform_2|ENSG00000103489.isoform_5|ENSG00000103489.isoform_9                                                                                   0.616125\n",
       "ENSG00000173482.isoform_10|ENSG00000173482.isoform_9                                                                                                                                      0.618425\n",
       "ENSG00000165895.isoform_3|ENSG00000165895.isoform_5                                                                                                                                       0.620300\n",
       "ENSG00000125257.isoform_2|ENSG00000125257.isoform_4|ENSG00000125257.isoform_8|ENSG00000125257.isoform_9                                                                                   0.620500\n",
       "ENSG00000144668.isoform_10|ENSG00000144668.isoform_5|ENSG00000144668.isoform_9|ENSG00000144668.isoform_1|ENSG00000144668.isoform_2|ENSG00000144668.isoform_6|ENSG00000144668.isoform_7    0.621400\n",
       "ENSG00000173588.isoform_1|ENSG00000173588.isoform_10|ENSG00000173588.isoform_9                                                                                                            0.623775\n",
       "ENSG00000066933.isoform_3|ENSG00000066933.isoform_6|ENSG00000066933.isoform_7|ENSG00000066933.isoform_8                                                                                   0.624825\n",
       "ENSG00000168411.isoform_2                                                                                                                                                                 0.625275\n",
       "ENSG00000078142.isoform_10|ENSG00000078142.isoform_1|ENSG00000078142.isoform_3|ENSG00000078142.isoform_7|ENSG00000078142.isoform_8|ENSG00000078142.isoform_6                              0.629625\n",
       "ENSG00000156113.isoform_10|ENSG00000156113.isoform_7|ENSG00000156113.isoform_9|ENSG00000156113.isoform_6                                                                                  0.630025\n",
       "ENSG00000184445.isoform_1|ENSG00000184445.isoform_6|ENSG00000184445.isoform_7                                                                                                             0.630300\n",
       "ENSG00000174501.isoform_3|ENSG00000174501.isoform_8|ENSG00000174501.isoform_4                                                                                                             0.632450\n",
       "ENSG00000181135.isoform_2|ENSG00000181135.isoform_3|ENSG00000181135.isoform_4                                                                                                             0.632950\n",
       "ENSG00000164494.isoform_4|ENSG00000164494.isoform_7|ENSG00000164494.isoform_8                                                                                                             0.634425\n",
       "ENSG00000157657.isoform_7|ENSG00000157657.isoform_8                                                                                                                                       0.635850\n",
       "ENSG00000151779.isoform_2|ENSG00000151779.isoform_3|ENSG00000151779.isoform_4|ENSG00000151779.isoform_5|ENSG00000151779.isoform_9                                                         0.640600\n",
       "ENSG00000160111.isoform_2                                                                                                                                                                 0.644475\n",
       "ENSG00000078487.isoform_1|ENSG00000078487.isoform_9                                                                                                                                       0.649775\n",
       "ENSG00000101868.isoform_5|ENSG00000101868.isoform_6|ENSG00000101868.isoform_9                                                                                                             0.652050\n",
       "ENSG00000134627.isoform_4|ENSG00000134627.isoform_6                                                                                                                                       0.655800\n",
       "ENSG00000151067.isoform_2|ENSG00000151067.isoform_4|ENSG00000151067.isoform_6|ENSG00000151067.isoform_9                                                                                   0.659100\n",
       "ENSG00000047578.isoform_1|ENSG00000047578.isoform_7|ENSG00000047578.isoform_9                                                                                                             0.659475\n",
       "ENSG00000119778.isoform_3|ENSG00000119778.isoform_6|ENSG00000119778.isoform_7                                                                                                             0.660875\n",
       "ENSG00000166263.isoform_1|ENSG00000166263.isoform_10|ENSG00000166263.isoform_3|ENSG00000166263.isoform_4|ENSG00000166263.isoform_6|ENSG00000166263.isoform_7                              0.668350\n",
       "ENSG00000006634.isoform_2                                                                                                                                                                 0.677650\n",
       "ENSG00000047617.isoform_2|ENSG00000047617.isoform_5|ENSG00000047617.isoform_8|ENSG00000047617.isoform_9                                                                                   0.677675\n",
       "ENSG00000221866.isoform_1|ENSG00000221866.isoform_4|ENSG00000221866.isoform_8                                                                                                             0.677925\n",
       "ENSG00000110693.isoform_1|ENSG00000110693.isoform_10|ENSG00000110693.isoform_8|ENSG00000110693.isoform_9                                                                                  0.683350\n",
       "ENSG00000277149.isoform_3|ENSG00000277149.isoform_4|ENSG00000277149.isoform_8                                                                                                             0.697975\n",
       "ENSG00000163697.isoform_10|ENSG00000163697.isoform_7|ENSG00000163697.isoform_1|ENSG00000163697.isoform_3                                                                                  0.721875\n",
       "ENSG00000157212.isoform_3|ENSG00000157212.isoform_5|ENSG00000157212.isoform_6|ENSG00000157212.isoform_8|ENSG00000157212.isoform_9                                                         0.732650\n",
       "ENSG00000162994.isoform_1|ENSG00000162994.isoform_4                                                                                                                                       0.757625\n",
       "ENSG00000147485.isoform_10|ENSG00000147485.isoform_4|ENSG00000147485.isoform_1|ENSG00000147485.isoform_7|ENSG00000147485.isoform_9                                                        0.785825\n",
       "ENSG00000028116.isoform_4|ENSG00000028116.isoform_9                                                                                                                                       0.814000\n",
       "ENSG00000160949.isoform_2|ENSG00000160949.isoform_3|ENSG00000160949.isoform_6                                                                                                             0.817075\n",
       "ENSG00000142611.isoform_10|ENSG00000142611.isoform_5|ENSG00000142611.isoform_3|ENSG00000142611.isoform_8|ENSG00000142611.isoform_9                                                        0.921000\n",
       "dtype: float64"
      ]
     },
     "execution_count": 180,
     "metadata": {},
     "output_type": "execute_result"
    }
   ],
   "source": [
    "(EL_section.quantile(0.75, axis=1) - EL_section.quantile(0.25, axis=1)).sort_values()[-50:]"
   ]
  },
  {
   "cell_type": "code",
   "execution_count": 184,
   "id": "23eaeabf-1a3f-43ba-972f-42a4810546e5",
   "metadata": {},
   "outputs": [
    {
     "data": {
      "text/plain": [
       "59841"
      ]
     },
     "execution_count": 184,
     "metadata": {},
     "output_type": "execute_result"
    }
   ],
   "source": [
    "snmf_exons.loc[snmf_exons.gene_id == 'ENSG00000162994'].end.max() - snmf_exons.loc[snmf_exons.gene_id == 'ENSG00000162994'].start.min()"
   ]
  },
  {
   "cell_type": "code",
   "execution_count": null,
   "id": "1da8e23a-d4bf-4d25-a032-e373c1a38504",
   "metadata": {},
   "outputs": [],
   "source": []
  },
  {
   "cell_type": "code",
   "execution_count": null,
   "id": "3488b06d-d5b7-4156-bd93-b80fc4942920",
   "metadata": {},
   "outputs": [],
   "source": []
  },
  {
   "cell_type": "code",
   "execution_count": null,
   "id": "dd72e42b-15be-4f58-aa5a-bae55c80f1bd",
   "metadata": {},
   "outputs": [],
   "source": []
  },
  {
   "cell_type": "code",
   "execution_count": 63,
   "id": "af86e898-13a8-4b34-8c2d-6faba6062986",
   "metadata": {},
   "outputs": [
    {
     "data": {
      "text/html": [
       "<div>\n",
       "<style scoped>\n",
       "    .dataframe tbody tr th:only-of-type {\n",
       "        vertical-align: middle;\n",
       "    }\n",
       "\n",
       "    .dataframe tbody tr th {\n",
       "        vertical-align: top;\n",
       "    }\n",
       "\n",
       "    .dataframe thead th {\n",
       "        text-align: right;\n",
       "    }\n",
       "</style>\n",
       "<table border=\"1\" class=\"dataframe\">\n",
       "  <thead>\n",
       "    <tr style=\"text-align: right;\">\n",
       "      <th></th>\n",
       "      <th>transcript</th>\n",
       "      <th>isoform</th>\n",
       "    </tr>\n",
       "  </thead>\n",
       "  <tbody>\n",
       "    <tr>\n",
       "      <th>3954</th>\n",
       "      <td>ENSG00000137075.isoform_2</td>\n",
       "      <td>ENSG00000137075.isoform_2</td>\n",
       "    </tr>\n",
       "  </tbody>\n",
       "</table>\n",
       "</div>"
      ],
      "text/plain": [
       "                     transcript                    isoform\n",
       "3954  ENSG00000137075.isoform_2  ENSG00000137075.isoform_2"
      ]
     },
     "execution_count": 63,
     "metadata": {},
     "output_type": "execute_result"
    }
   ],
   "source": [
    "df = pd.DataFrame()\n",
    "isoforms = []\n",
    "tr_ = []\n",
    "for tr in transcripts_no_overlap:\n",
    "    iso = tr.split('|')\n",
    "    isoforms.extend(iso)\n",
    "    tr_.extend([tr]*len(iso))\n",
    "\n",
    "df['transcript'] = tr_\n",
    "df['isoform'] = isoforms\n",
    "    \n",
    "df.loc[df.isoform == 'ENSG00000137075.isoform_2']"
   ]
  },
  {
   "cell_type": "code",
   "execution_count": 65,
   "id": "adfa1942-2865-4d65-9501-b0aed54e9cb9",
   "metadata": {},
   "outputs": [],
   "source": [
    "snmf_exons_bed = '/project2/mstephens/cfbuenabadn/gtex-stm/code/ebpmf_models/filtered/snmf_10/tables/snmf.merged_isoforms.exons.sorted.bed.gz'\n",
    "snmf_exons = pd.read_csv(snmf_exons_bed, sep='\\t', names = ['chrom', 'start', 'end', 'gene_id', \n",
    "                                                 'transcript_id', 'strand', 'factors', 'exon_id'])"
   ]
  },
  {
   "cell_type": "code",
   "execution_count": 66,
   "id": "993624cc-e5f9-4b84-b700-bb4feb72f9b6",
   "metadata": {},
   "outputs": [
    {
     "data": {
      "text/html": [
       "<div>\n",
       "<style scoped>\n",
       "    .dataframe tbody tr th:only-of-type {\n",
       "        vertical-align: middle;\n",
       "    }\n",
       "\n",
       "    .dataframe tbody tr th {\n",
       "        vertical-align: top;\n",
       "    }\n",
       "\n",
       "    .dataframe thead th {\n",
       "        text-align: right;\n",
       "    }\n",
       "</style>\n",
       "<table border=\"1\" class=\"dataframe\">\n",
       "  <thead>\n",
       "    <tr style=\"text-align: right;\">\n",
       "      <th></th>\n",
       "      <th>chrom</th>\n",
       "      <th>start</th>\n",
       "      <th>end</th>\n",
       "      <th>gene_id</th>\n",
       "      <th>transcript_id</th>\n",
       "      <th>strand</th>\n",
       "      <th>factors</th>\n",
       "      <th>exon_id</th>\n",
       "    </tr>\n",
       "  </thead>\n",
       "  <tbody>\n",
       "    <tr>\n",
       "      <th>713309</th>\n",
       "      <td>chr9</td>\n",
       "      <td>36336427</td>\n",
       "      <td>36339814</td>\n",
       "      <td>ENSG00000137075</td>\n",
       "      <td>ENSG00000137075.isoform_2</td>\n",
       "      <td>-</td>\n",
       "      <td>factor_1:factor_4:factor_6:factor_7</td>\n",
       "      <td>exon_1</td>\n",
       "    </tr>\n",
       "    <tr>\n",
       "      <th>713313</th>\n",
       "      <td>chr9</td>\n",
       "      <td>36342325</td>\n",
       "      <td>36342424</td>\n",
       "      <td>ENSG00000137075</td>\n",
       "      <td>ENSG00000137075.isoform_2</td>\n",
       "      <td>-</td>\n",
       "      <td>factor_1:factor_4:factor_6:factor_7</td>\n",
       "      <td>exon_2</td>\n",
       "    </tr>\n",
       "    <tr>\n",
       "      <th>713317</th>\n",
       "      <td>chr9</td>\n",
       "      <td>36344832</td>\n",
       "      <td>36344953</td>\n",
       "      <td>ENSG00000137075</td>\n",
       "      <td>ENSG00000137075.isoform_2</td>\n",
       "      <td>-</td>\n",
       "      <td>factor_1:factor_4:factor_6:factor_7</td>\n",
       "      <td>exon_3</td>\n",
       "    </tr>\n",
       "    <tr>\n",
       "      <th>713318</th>\n",
       "      <td>chr9</td>\n",
       "      <td>36347119</td>\n",
       "      <td>36347152</td>\n",
       "      <td>ENSG00000137075</td>\n",
       "      <td>ENSG00000137075.isoform_2</td>\n",
       "      <td>-</td>\n",
       "      <td>factor_1:factor_4:factor_6:factor_7</td>\n",
       "      <td>exon_4</td>\n",
       "    </tr>\n",
       "    <tr>\n",
       "      <th>713319</th>\n",
       "      <td>chr9</td>\n",
       "      <td>36351115</td>\n",
       "      <td>36351199</td>\n",
       "      <td>ENSG00000137075</td>\n",
       "      <td>ENSG00000137075.isoform_2</td>\n",
       "      <td>-</td>\n",
       "      <td>factor_1:factor_4:factor_6:factor_7</td>\n",
       "      <td>exon_5</td>\n",
       "    </tr>\n",
       "    <tr>\n",
       "      <th>713321</th>\n",
       "      <td>chr9</td>\n",
       "      <td>36352742</td>\n",
       "      <td>36352848</td>\n",
       "      <td>ENSG00000137075</td>\n",
       "      <td>ENSG00000137075.isoform_2</td>\n",
       "      <td>-</td>\n",
       "      <td>factor_1:factor_4:factor_6:factor_7</td>\n",
       "      <td>exon_6</td>\n",
       "    </tr>\n",
       "    <tr>\n",
       "      <th>713326</th>\n",
       "      <td>chr9</td>\n",
       "      <td>36353170</td>\n",
       "      <td>36353331</td>\n",
       "      <td>ENSG00000137075</td>\n",
       "      <td>ENSG00000137075.isoform_2</td>\n",
       "      <td>-</td>\n",
       "      <td>factor_1:factor_4:factor_6:factor_7</td>\n",
       "      <td>exon_7</td>\n",
       "    </tr>\n",
       "    <tr>\n",
       "      <th>713327</th>\n",
       "      <td>chr9</td>\n",
       "      <td>36356303</td>\n",
       "      <td>36356473</td>\n",
       "      <td>ENSG00000137075</td>\n",
       "      <td>ENSG00000137075.isoform_2</td>\n",
       "      <td>-</td>\n",
       "      <td>factor_1:factor_4:factor_6:factor_7</td>\n",
       "      <td>exon_8</td>\n",
       "    </tr>\n",
       "    <tr>\n",
       "      <th>713332</th>\n",
       "      <td>chr9</td>\n",
       "      <td>36357775</td>\n",
       "      <td>36357942</td>\n",
       "      <td>ENSG00000137075</td>\n",
       "      <td>ENSG00000137075.isoform_2</td>\n",
       "      <td>-</td>\n",
       "      <td>factor_1:factor_4:factor_6:factor_7</td>\n",
       "      <td>exon_9</td>\n",
       "    </tr>\n",
       "    <tr>\n",
       "      <th>713334</th>\n",
       "      <td>chr9</td>\n",
       "      <td>36369719</td>\n",
       "      <td>36369932</td>\n",
       "      <td>ENSG00000137075</td>\n",
       "      <td>ENSG00000137075.isoform_2</td>\n",
       "      <td>-</td>\n",
       "      <td>factor_1:factor_4:factor_6:factor_7</td>\n",
       "      <td>exon_10</td>\n",
       "    </tr>\n",
       "    <tr>\n",
       "      <th>713339</th>\n",
       "      <td>chr9</td>\n",
       "      <td>36375934</td>\n",
       "      <td>36376127</td>\n",
       "      <td>ENSG00000137075</td>\n",
       "      <td>ENSG00000137075.isoform_2</td>\n",
       "      <td>-</td>\n",
       "      <td>factor_1:factor_4:factor_6:factor_7</td>\n",
       "      <td>exon_11</td>\n",
       "    </tr>\n",
       "    <tr>\n",
       "      <th>713341</th>\n",
       "      <td>chr9</td>\n",
       "      <td>36390467</td>\n",
       "      <td>36390604</td>\n",
       "      <td>ENSG00000137075</td>\n",
       "      <td>ENSG00000137075.isoform_2</td>\n",
       "      <td>-</td>\n",
       "      <td>factor_1:factor_4:factor_6:factor_7</td>\n",
       "      <td>exon_12</td>\n",
       "    </tr>\n",
       "  </tbody>\n",
       "</table>\n",
       "</div>"
      ],
      "text/plain": [
       "       chrom     start       end          gene_id              transcript_id  \\\n",
       "713309  chr9  36336427  36339814  ENSG00000137075  ENSG00000137075.isoform_2   \n",
       "713313  chr9  36342325  36342424  ENSG00000137075  ENSG00000137075.isoform_2   \n",
       "713317  chr9  36344832  36344953  ENSG00000137075  ENSG00000137075.isoform_2   \n",
       "713318  chr9  36347119  36347152  ENSG00000137075  ENSG00000137075.isoform_2   \n",
       "713319  chr9  36351115  36351199  ENSG00000137075  ENSG00000137075.isoform_2   \n",
       "713321  chr9  36352742  36352848  ENSG00000137075  ENSG00000137075.isoform_2   \n",
       "713326  chr9  36353170  36353331  ENSG00000137075  ENSG00000137075.isoform_2   \n",
       "713327  chr9  36356303  36356473  ENSG00000137075  ENSG00000137075.isoform_2   \n",
       "713332  chr9  36357775  36357942  ENSG00000137075  ENSG00000137075.isoform_2   \n",
       "713334  chr9  36369719  36369932  ENSG00000137075  ENSG00000137075.isoform_2   \n",
       "713339  chr9  36375934  36376127  ENSG00000137075  ENSG00000137075.isoform_2   \n",
       "713341  chr9  36390467  36390604  ENSG00000137075  ENSG00000137075.isoform_2   \n",
       "\n",
       "       strand                              factors  exon_id  \n",
       "713309      -  factor_1:factor_4:factor_6:factor_7   exon_1  \n",
       "713313      -  factor_1:factor_4:factor_6:factor_7   exon_2  \n",
       "713317      -  factor_1:factor_4:factor_6:factor_7   exon_3  \n",
       "713318      -  factor_1:factor_4:factor_6:factor_7   exon_4  \n",
       "713319      -  factor_1:factor_4:factor_6:factor_7   exon_5  \n",
       "713321      -  factor_1:factor_4:factor_6:factor_7   exon_6  \n",
       "713326      -  factor_1:factor_4:factor_6:factor_7   exon_7  \n",
       "713327      -  factor_1:factor_4:factor_6:factor_7   exon_8  \n",
       "713332      -  factor_1:factor_4:factor_6:factor_7   exon_9  \n",
       "713334      -  factor_1:factor_4:factor_6:factor_7  exon_10  \n",
       "713339      -  factor_1:factor_4:factor_6:factor_7  exon_11  \n",
       "713341      -  factor_1:factor_4:factor_6:factor_7  exon_12  "
      ]
     },
     "execution_count": 66,
     "metadata": {},
     "output_type": "execute_result"
    }
   ],
   "source": [
    "snmf_exons.loc[snmf_exons.transcript_id == 'ENSG00000137075.isoform_2']"
   ]
  },
  {
   "cell_type": "code",
   "execution_count": 62,
   "id": "5f9429a4-b987-4e99-b6b3-4d06b80dca09",
   "metadata": {},
   "outputs": [
    {
     "data": {
      "text/html": [
       "<div>\n",
       "<style scoped>\n",
       "    .dataframe tbody tr th:only-of-type {\n",
       "        vertical-align: middle;\n",
       "    }\n",
       "\n",
       "    .dataframe tbody tr th {\n",
       "        vertical-align: top;\n",
       "    }\n",
       "\n",
       "    .dataframe thead th {\n",
       "        text-align: right;\n",
       "    }\n",
       "</style>\n",
       "<table border=\"1\" class=\"dataframe\">\n",
       "  <thead>\n",
       "    <tr style=\"text-align: right;\">\n",
       "      <th></th>\n",
       "      <th>chrom</th>\n",
       "      <th>start</th>\n",
       "      <th>end</th>\n",
       "      <th>gene</th>\n",
       "      <th>exon_coordinates</th>\n",
       "      <th>strand</th>\n",
       "      <th>intron_start</th>\n",
       "      <th>intron_end</th>\n",
       "      <th>flanking1_start</th>\n",
       "      <th>flanking2_end</th>\n",
       "      <th>transcripts</th>\n",
       "      <th>exon_name</th>\n",
       "      <th>annot</th>\n",
       "    </tr>\n",
       "  </thead>\n",
       "  <tbody>\n",
       "    <tr>\n",
       "      <th>14674</th>\n",
       "      <td>chr2</td>\n",
       "      <td>74025045</td>\n",
       "      <td>74025177</td>\n",
       "      <td>ENSG00000187605</td>\n",
       "      <td>chr2:74025045-74025177</td>\n",
       "      <td>+</td>\n",
       "      <td>74003166</td>\n",
       "      <td>74046278</td>\n",
       "      <td>74003110</td>\n",
       "      <td>74048411</td>\n",
       "      <td>ENSG00000187605.isoform_6</td>\n",
       "      <td>ENSG00000187605:1</td>\n",
       "      <td>chr2:74025045:74025177:74003166:74046278</td>\n",
       "    </tr>\n",
       "    <tr>\n",
       "      <th>14675</th>\n",
       "      <td>chr2</td>\n",
       "      <td>74061630</td>\n",
       "      <td>74061798</td>\n",
       "      <td>ENSG00000187605</td>\n",
       "      <td>chr2:74061630-74061798</td>\n",
       "      <td>+</td>\n",
       "      <td>74048411</td>\n",
       "      <td>74073549</td>\n",
       "      <td>74046278</td>\n",
       "      <td>74073639</td>\n",
       "      <td>ENSG00000187605.isoform_6</td>\n",
       "      <td>ENSG00000187605:1</td>\n",
       "      <td>chr2:74061630:74061798:74048411:74073549</td>\n",
       "    </tr>\n",
       "  </tbody>\n",
       "</table>\n",
       "</div>"
      ],
      "text/plain": [
       "      chrom     start       end             gene        exon_coordinates  \\\n",
       "14674  chr2  74025045  74025177  ENSG00000187605  chr2:74025045-74025177   \n",
       "14675  chr2  74061630  74061798  ENSG00000187605  chr2:74061630-74061798   \n",
       "\n",
       "      strand  intron_start  intron_end  flanking1_start  flanking2_end  \\\n",
       "14674      +      74003166    74046278         74003110       74048411   \n",
       "14675      +      74048411    74073549         74046278       74073639   \n",
       "\n",
       "                     transcripts          exon_name  \\\n",
       "14674  ENSG00000187605.isoform_6  ENSG00000187605:1   \n",
       "14675  ENSG00000187605.isoform_6  ENSG00000187605:1   \n",
       "\n",
       "                                          annot  \n",
       "14674  chr2:74025045:74025177:74003166:74046278  \n",
       "14675  chr2:74061630:74061798:74048411:74073549  "
      ]
     },
     "execution_count": 62,
     "metadata": {},
     "output_type": "execute_result"
    }
   ],
   "source": [
    "snmf_cassette_exons.loc[snmf_cassette_exons.transcripts == 'ENSG00000187605.isoform_6']"
   ]
  },
  {
   "cell_type": "code",
   "execution_count": 77,
   "id": "126a25f0-51d5-43b6-94a1-d52d58aa68a2",
   "metadata": {},
   "outputs": [],
   "source": [
    "snmf_ri = pd.read_csv('../code/CoveragePlots/bed_files/introns/snmf.retained_introns.bed.gz', sep='\\t',\n",
    "                     names = ['chrom', 'start', 'end', 'intron_name', 'transcripts', 'strand'])\n",
    "snmf_ri['gene_id'] = snmf_ri.intron_name.apply(lambda x: x.split('_')[0])"
   ]
  },
  {
   "cell_type": "code",
   "execution_count": 78,
   "id": "04b183c5-b13d-4722-b1f9-c6735378d27a",
   "metadata": {},
   "outputs": [
    {
     "data": {
      "text/plain": [
       "(83553, 7)"
      ]
     },
     "execution_count": 78,
     "metadata": {},
     "output_type": "execute_result"
    }
   ],
   "source": [
    "snmf_ri.shape"
   ]
  },
  {
   "cell_type": "code",
   "execution_count": 79,
   "id": "39803a76-7196-48c9-8b6f-8d86c2165b97",
   "metadata": {},
   "outputs": [
    {
     "data": {
      "text/plain": [
       "12472"
      ]
     },
     "execution_count": 79,
     "metadata": {},
     "output_type": "execute_result"
    }
   ],
   "source": [
    "len(snmf_ri.gene_id.unique())"
   ]
  },
  {
   "cell_type": "code",
   "execution_count": 132,
   "id": "d54cc995-331c-4031-ab8c-c92fe2a391e7",
   "metadata": {},
   "outputs": [
    {
     "data": {
      "text/plain": [
       "2906"
      ]
     },
     "execution_count": 132,
     "metadata": {},
     "output_type": "execute_result"
    }
   ],
   "source": [
    "cassette_exons = pd.read_csv('../code/ebpmf_models/filtered/snmf_10/tables/cassette_exons.bed.gz', sep='\\t')\n",
    "\n",
    "annotation = pd.read_csv('../code/ebpmf_models/filtered/snmf_10/tables/annotated.snmf.merged_isoforms.tab.gz', sep='\\t')\n",
    "annotation['gene_id'] = annotation.transcript.apply(lambda x: x.split('.')[0])\n",
    "second_annotation = pd.read_csv('../code/ebpmf_models/filtered/snmf_10/tables/second_annotation.snmf.merged_isoforms.tab.gz', sep='\\t',\n",
    "                               names = ['gene', 'transcript', 'chain', 'ref_transcript', 'intron_retention', 'utr'])\n",
    "\n",
    "len(second_annotation.loc[~second_annotation.utr.isin(['no_utr', '.'])].gene.unique())"
   ]
  },
  {
   "cell_type": "code",
   "execution_count": 138,
   "id": "6aa7d9a4-626f-4839-b4ef-0b0d41e0be40",
   "metadata": {},
   "outputs": [
    {
     "data": {
      "text/plain": [
       "8013"
      ]
     },
     "execution_count": 138,
     "metadata": {},
     "output_type": "execute_result"
    }
   ],
   "source": [
    "len(second_annotation.loc[~second_annotation.utr.isin(['no_utr', '.'])].transcript.unique())"
   ]
  },
  {
   "cell_type": "code",
   "execution_count": 118,
   "id": "6b03f06b-8a01-4aba-897c-a666a641c3f9",
   "metadata": {},
   "outputs": [
    {
     "data": {
      "text/plain": [
       "8774"
      ]
     },
     "execution_count": 118,
     "metadata": {},
     "output_type": "execute_result"
    }
   ],
   "source": [
    "len(cassette_exons.gene.unique())"
   ]
  },
  {
   "cell_type": "code",
   "execution_count": 120,
   "id": "c00b5fa1-2cc7-45c7-b2df-2eaebbe54553",
   "metadata": {},
   "outputs": [
    {
     "data": {
      "text/plain": [
       "Index(['ENSG00000000003', 'ENSG00000000005', 'ENSG00000000419',\n",
       "       'ENSG00000000457', 'ENSG00000000938', 'ENSG00000001167',\n",
       "       'ENSG00000001460', 'ENSG00000001461', 'ENSG00000001497',\n",
       "       'ENSG00000001561',\n",
       "       ...\n",
       "       'ENSG00000281106', 'ENSG00000282933', 'ENSG00000283071',\n",
       "       'ENSG00000283199', 'ENSG00000283378', 'ENSG00000283526',\n",
       "       'ENSG00000283528', 'ENSG00000283632', 'ENSG00000283703',\n",
       "       'ENSG00000284024'],\n",
       "      dtype='object', length=11597)"
      ]
     },
     "execution_count": 120,
     "metadata": {},
     "output_type": "execute_result"
    }
   ],
   "source": [
    "pd.Index(annotation.loc[(annotation.appris_ref.apply(\n",
    "    lambda x: ('intron.chain' in x) or ('ref.transcript' in x) or ('super' in x) or ('sub' in x)\n",
    ") | (annotation.gencode_ref != '.'))].gene_id.unique()).union(pd.Index(second_annotation.loc[second_annotation.chain == 'annotated_chain'].gene.unique())).unique()"
   ]
  },
  {
   "cell_type": "code",
   "execution_count": 136,
   "id": "4678f4e0-d1d1-4797-9a7c-6794c5ea8bab",
   "metadata": {},
   "outputs": [
    {
     "data": {
      "image/png": "[encoded data removed]",
      "text/plain": [
       "<Figure size 150x300 with 1 Axes>"
      ]
     },
     "metadata": {},
     "output_type": "display_data"
    }
   ],
   "source": [
    "fig, ax = plt.subplots(figsize=(1.5, 3))\n",
    "\n",
    "ax.bar(['Test genes', 'Intron retention', 'Annotated transcript', 'Cassette exon', 'Alt.UTR'], [15232, 12472, 11597, 8774, 2906],\n",
    "       color = ['tab:gray', 'tab:gray', 'tab:gray', 'tab:gray', 'tab:gray'])\n",
    "ax.set_xticks([])\n",
    "\n",
    "ax.text(-0.2, 500, 'Test genes (15232)', rotation=90, c='white')\n",
    "\n",
    "ax.text(0.8, 500, 'Intron retention (12472)', rotation=90, c='white')\n",
    "ax.text(1.8, 500, 'Annotated transcript', rotation=90, c='white')\n",
    "ax.text(1.8, 12000, '(11597)', rotation=90, c='tab:gray')\n",
    "ax.text(2.8, 500, 'Cassette exon', rotation=90, c='white')\n",
    "ax.text(2.8, 9500, '(8774)', rotation=90, c='tab:gray')\n",
    "ax.text(3.8, 500, 'Alt. U', rotation=90, c='white')\n",
    "ax.text(3.8, 3300, 'TR (2906)', rotation=90, c='tab:gray')\n",
    "\n",
    "ax.set_yticks([2500, 5000, 7500, 10000, 12500, 15000])#(['0', '1e5', '2e5', '3e5', '4e5', '5e5', '6e5'])\n",
    "ax.set_ylabel('Genes')\n",
    "ax.spines[['right', 'top']].set_visible(False)\n",
    "\n",
    "\n",
    "plt.savefig('../code/scratch_figures/figure2/gene_annotation_barplot_gray.pdf', bbox_inches='tight')\n",
    "plt.savefig('../code/scratch_figures/figure2/gene_annotation_barplot_gray.png', bbox_inches='tight', dpi=500)"
   ]
  },
  {
   "cell_type": "code",
   "execution_count": 6,
   "id": "c6aedab1-6fc6-4a74-994c-24aa1ffef04a",
   "metadata": {},
   "outputs": [
    {
     "data": {
      "image/png": "[encoded data removed]",
      "text/plain": [
       "<Figure size 150x300 with 1 Axes>"
      ]
     },
     "metadata": {},
     "output_type": "display_data"
    }
   ],
   "source": [
    "colores = sns.color_palette('Set3')\n",
    "\n",
    "fig, ax = plt.subplots(figsize=(1.5, 3))\n",
    "\n",
    "ax.bar(['Test genes', 'Intron retention', 'Annotated transcript', 'Cassette exon', 'Alt.UTR'], [15232, 12472, 11597, 8774, 2906],\n",
    "       color = [colores[8], colores[0], colores[3], colores[2], colores[1]])\n",
    "ax.set_xticks([])\n",
    "\n",
    "ax.text(-0.2, 500, 'Test genes (15232)', rotation=90, c='black')\n",
    "\n",
    "ax.text(0.8, 500, 'Intron retention (12472)', rotation=90, c='black')\n",
    "ax.text(1.8, 500, 'Annotated transcript', rotation=90, c='black')\n",
    "ax.text(1.8, 12000, '(11597)', rotation=90, c='black')\n",
    "ax.text(2.8, 500, 'Cassette exon', rotation=90, c='black')\n",
    "ax.text(2.8, 9500, '(8774)', rotation=90, c='black')\n",
    "ax.text(3.8, 500, 'Alt. U', rotation=90, c='black')\n",
    "ax.text(3.8, 3300, 'TR (2906)', rotation=90, c='black')\n",
    "\n",
    "ax.set_yticks([2500, 5000, 7500, 10000, 12500, 15000])#(['0', '1e5', '2e5', '3e5', '4e5', '5e5', '6e5'])\n",
    "ax.set_ylabel('Genes')\n",
    "ax.spines[['right', 'top']].set_visible(False)\n",
    "\n",
    "\n",
    "plt.savefig('../code/scratch_figures/figure2/gene_annotation_barplot_colors.pdf', bbox_inches='tight')\n",
    "plt.savefig('../code/scratch_figures/figure2/gene_annotation_barplot_colors.png', bbox_inches='tight', dpi=500)"
   ]
  },
  {
   "cell_type": "code",
   "execution_count": 149,
   "id": "bcd68f8e-dfc5-46c4-ae50-b538169452ef",
   "metadata": {},
   "outputs": [
    {
     "data": {
      "image/png": "[encoded data removed]",
      "text/plain": [
       "<Figure size 150x300 with 1 Axes>"
      ]
     },
     "metadata": {},
     "output_type": "display_data"
    }
   ],
   "source": [
    "fig, ax = plt.subplots(figsize=(1.5, 3))\n",
    "\n",
    "ax.bar(['Test genes', 'Intron retention', 'Annotated transcript', 'Cassette exon', 'Alt.UTR'], [15232/15232, 12472/15232, 11597/15232, 8774/15232, 2906/15232],\n",
    "       color = ['tab:gray', 'tab:gray', 'tab:gray', 'tab:gray', 'tab:gray'])\n",
    "ax.set_xticks([])\n",
    "\n",
    "ax.text(-0.2, 500/15232, 'Test genes (15232)', rotation=90, c='white')\n",
    "\n",
    "ax.text(0.8, 500/15232, 'Intron retention (12472)', rotation=90, c='white')\n",
    "ax.text(1.8, 500/15232, 'Annotated transcript', rotation=90, c='white')\n",
    "ax.text(1.8, 12000/15232, '(11597)', rotation=90, c='tab:gray')\n",
    "ax.text(2.8, 500/15232, 'Cassette exon', rotation=90, c='white')\n",
    "ax.text(2.8, 9500/15232, '(8774)', rotation=90, c='tab:gray')\n",
    "ax.text(3.8, 500/15232, 'Alt. U', rotation=90, c='white')\n",
    "ax.text(3.8, 3300/15232, 'TR (2906)', rotation=90, c='tab:gray')\n",
    "\n",
    "ax.set_yticks([0.2, 0.4, 0.6, 0.8, 1])#(['0', '1e5', '2e5', '3e5', '4e5', '5e5', '6e5'])\n",
    "ax.set_yticklabels(['20', '40', '60', '80', '100'])\n",
    "ax.set_ylabel('Percentage of genes')\n",
    "ax.spines[['right', 'top']].set_visible(False)\n",
    "\n",
    "\n",
    "plt.savefig('../code/scratch_figures/figure2/gene_annotation_barplot_gray_percentages.pdf', bbox_inches='tight')\n",
    "plt.savefig('../code/scratch_figures/figure2/gene_annotation_barplot_gray_percentages.png', bbox_inches='tight', dpi=500)"
   ]
  },
  {
   "cell_type": "code",
   "execution_count": null,
   "id": "b5fb397e-e19e-4d1b-981d-d2cd387c1828",
   "metadata": {},
   "outputs": [],
   "source": []
  },
  {
   "cell_type": "code",
   "execution_count": null,
   "id": "e2469c0f-46be-4716-86e8-ae29888d6274",
   "metadata": {},
   "outputs": [],
   "source": []
  },
  {
   "cell_type": "code",
   "execution_count": null,
   "id": "70cb3f4c-0b84-4938-8b8c-2a1ed1ac62b8",
   "metadata": {},
   "outputs": [],
   "source": []
  },
  {
   "cell_type": "code",
   "execution_count": null,
   "id": "0c5db8f0-eabf-485c-a397-c73b065c2b16",
   "metadata": {},
   "outputs": [],
   "source": []
  },
  {
   "cell_type": "code",
   "execution_count": 122,
   "id": "a4a83ee2-2d54-4b70-93b6-b5566abebfcc",
   "metadata": {},
   "outputs": [],
   "source": [
    "transcripts_first = pd.Index(annotation.loc[(annotation.appris_ref.apply(\n",
    "    lambda x: ('intron.chain' in x) or ('ref.transcript' in x) or ('super' in x) or ('sub' in x)\n",
    ") | (annotation.gencode_ref != '.'))].appris_transcript)\n",
    "\n",
    "transcripts_second = pd.Index(second_annotation.loc[second_annotation.chain == 'annotated_chain'].ref_transcript.apply(lambda x: x.split(':')[-1]))\n",
    "\n",
    "transcripts_all = transcripts_first.union(transcripts_second).unique()"
   ]
  },
  {
   "cell_type": "code",
   "execution_count": 123,
   "id": "8767389b-7fdd-48e1-b85f-ddfe4871b38c",
   "metadata": {},
   "outputs": [
    {
     "data": {
      "text/plain": [
       "Index(['ENST00000000442', 'ENST00000001146', 'ENST00000002125',\n",
       "       'ENST00000002501', 'ENST00000002596', 'ENST00000002829',\n",
       "       'ENST00000003084', 'ENST00000003583', 'ENST00000004103',\n",
       "       'ENST00000005178',\n",
       "       ...\n",
       "       'ENST00000710415', 'ENST00000710568', 'ENST00000710615',\n",
       "       'ENST00000710634', 'ENST00000710691', 'ENST00000710837',\n",
       "       'ENST00000710839', 'ENST00000710853', 'ENST00000710881',\n",
       "       'ENST00000711046'],\n",
       "      dtype='object', length=18813)"
      ]
     },
     "execution_count": 123,
     "metadata": {},
     "output_type": "execute_result"
    }
   ],
   "source": [
    "transcripts_all"
   ]
  },
  {
   "cell_type": "code",
   "execution_count": 124,
   "id": "2970f76c-89ac-4664-a596-0a0cebacdc6a",
   "metadata": {},
   "outputs": [
    {
     "data": {
      "text/plain": [
       "(28464, 12)"
      ]
     },
     "execution_count": 124,
     "metadata": {},
     "output_type": "execute_result"
    }
   ],
   "source": [
    "cassette_exons.shape"
   ]
  },
  {
   "cell_type": "code",
   "execution_count": null,
   "id": "c2c89b0d-b4ca-40bb-af58-3248fe96b366",
   "metadata": {},
   "outputs": [],
   "source": []
  },
  {
   "cell_type": "code",
   "execution_count": 141,
   "id": "3a62af52-ce48-489a-8e9d-7a03c3da10e7",
   "metadata": {},
   "outputs": [
    {
     "data": {
      "image/png": "[encoded data removed]",
      "text/plain": [
       "<Figure size 150x300 with 1 Axes>"
      ]
     },
     "metadata": {},
     "output_type": "display_data"
    }
   ],
   "source": [
    "fig, ax = plt.subplots(figsize=(1.5, 3))\n",
    "\n",
    "ax.bar(['Intron retention', 'Cassette exon', 'Annotated transcript', 'Alt.UTR'], [83553, 28464, 18813, 8013],\n",
    "       color = ['tab:gray', 'tab:gray', 'tab:gray', 'tab:gray'])\n",
    "ax.set_xticks([])\n",
    "\n",
    "ax.text(-0.2, 5000, 'Intron retention (83553)', rotation=90, c='white')\n",
    "\n",
    "ax.text(0.8, 5000, 'Cassette', rotation=90, c='white')\n",
    "ax.text(0.8, 31000, 'exons (28464)', rotation=90, c='tab:gray')\n",
    "ax.text(1.8, 5000, 'Annot', rotation=90, c='white')\n",
    "\n",
    "ax.text(1.8, 21000, 'ated transcript (18813)', rotation=90, c='tab:gray')\n",
    "ax.text(2.8, 12000, 'Alt. UTR (8013)', rotation=90, c='tab:gray')\n",
    "\n",
    "# ax.set_yticks([2500, 5000, 7500, 10000, 12500, 15000])#(['0', '1e5', '2e5', '3e5', '4e5', '5e5', '6e5'])\n",
    "# ax.set_ylabel('Genes')\n",
    "ax.spines[['right', 'top']].set_visible(False)\n",
    "\n",
    "\n",
    "plt.savefig('../code/scratch_figures/figure2/all_annotation_barplot_gray.pdf', bbox_inches='tight')\n",
    "plt.savefig('../code/scratch_figures/figure2/all_annotation_barplot_gray.png', bbox_inches='tight', dpi=500)"
   ]
  },
  {
   "cell_type": "code",
   "execution_count": null,
   "id": "6903bb95-fc3e-43a7-a9d7-cd82d43bfa11",
   "metadata": {},
   "outputs": [],
   "source": []
  }
 ],
 "metadata": {
  "kernelspec": {
   "display_name": "Python 3 (ipykernel)",
   "language": "python",
   "name": "python3"
  },
  "language_info": {
   "codemirror_mode": {
    "name": "ipython",
    "version": 3
   },
   "file_extension": ".py",
   "mimetype": "text/x-python",
   "name": "python",
   "nbconvert_exporter": "python",
   "pygments_lexer": "ipython3",
   "version": "3.10.14"
  }
 },
 "nbformat": 4,
 "nbformat_minor": 5
}
